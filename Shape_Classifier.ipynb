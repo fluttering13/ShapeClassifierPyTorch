{
 "cells": [
  {
   "cell_type": "code",
   "execution_count": 6,
   "metadata": {},
   "outputs": [
    {
     "name": "stdout",
     "output_type": "stream",
     "text": [
      "Gievn the different gemotry, the goal is to test and to realize how CNN works\n",
      "The setting is simple, the geometry dataset is in same color, side_lenth ,and without roation\n"
     ]
    },
    {
     "data": {
      "text/html": [
       "<img src=\"data:image/png;base64,iVBORw0KGgoAAAANSUhEUgAAAMgAAADICAIAAAAiOjnJAAADqklEQVR4nO3d207bQBRA0VD1/3+ZPrhKKQSSON6+zVrPQOYMm+MICfH2/v5+gaX92voAnJOwSAiLhLBICIuEsEgIi4SwSAiLhLBICIuEsEgIi4SwSAiLhLBICIuEsEgIi4SwSPze+gBDe7u8Pf7B75cj/dmLsFb1VEk/f+7OOxPWGl7p6e7X3GdhwgoVPf3wKrsqTFiJdZK6+aI7yUtYC9skqa8H2DwvYS1m86Q+2jwvYS1gV0l9tGFefkH6qt1WdbXJCW2s+faf1NX6q8vGmulAVV2teWZhzXHEqiarndyj8DnHTepqnceijfWEE1R1Vc8irEedqapJOpGwHnK+qibdXMK676xVTaLphHXHuauaFDMKi4SwfjLCuposPqmwvjVOVZNl5xXWbaNVNVlwamGRENYNY66ryVKzC+uzkauaLHIDwiIhrP9YV5PX70FYJIT1j3X10Yu3ISwSwvrLuvrqlTsRFglhXS7W1fdm34ywSAiLhLA8B++Ydz/CIiEsEqOH5Tn4iBm3NHpYRIRFQlgkhEVi6LC8c3/cs3c1dFh0hEVCWCSERUJYJIRFQlgkhEVCWCSERUJYJIRFQlgkhEVi6LA2/4/cB/LsXQ0dFh1hkRAWCWGRGD0s798fMeOWRg+LiLBICMvT8I559yMsEsIiIazLxdPwe7NvRlgkhPWXpfXVK3ciLBLC+sfS+ujF2xAWCWH9x9KavH4PwiIhrM8srUVuQFg3jNzWUrMLi4SwbhtzaS04tbC+NVpby84rrJ+M09bikwqLhLDuGGFpFTMK675ztxVNJ6yHnLWtbi5hPep8baUTCesJZ2qrnuV3+tXPZ/p+HPrfhq3z42FjzXHc1bXayYU10xHbWvPMHoXzHeixuP6PgY31qv2vrk1OaGMtYLera8PohbWYXeW1+R4V1sI2z2vzpCbCSmyS106SmggrdP1Op4XtqqcrYa2hKGyfPV0Ja1Wfaniqs52X9ImwtnSsVp7iF6QkhEVCWCSERUJYJIRFQlgkhEVCWCSERUJYJIRFQlgkhEVCWCSERUJYJIRFQlgkhEVCWCSERUJYJIRFQlgkhEVCWCSERUJYJIRFQlgkhEVCWCSERUJYJIRFQlgkhEVCWCSERUJYJIRFQlgkhEVCWCSERUJYJIRFQlgkhEVCWCSERUJYJIRFQlgkhEVCWCSERUJYJIRFQlgkhEVCWCSERUJYJIRFQlgkhEVCWCSERUJYJIRFQlgkhEVCWCSERUJYJP4AaCaOsyCqqoIAAAAASUVORK5CYII=\" style=\"display:inline-block;margin:10px;\"/><img src=\"data:image/png;base64,iVBORw0KGgoAAAANSUhEUgAAAMgAAADICAIAAAAiOjnJAAAD6ElEQVR4nO3dzW4iMRCF0c4o7//KzAKpg4BhIHDb5fI56/zY5a/dURbJ1+l02uDT/oxeAD0JiwhhESEsIoRFhLCIEBYRwiJCWEQIiwhhESEsIoRFhLCIEBYRwiJCWEQIiwhhESEsIoRFhLCIEBYRwiJCWEQIiwhhESEsIoRFhLCIEBYRwiJCWER8j17A3L62r+c/+LQt9McThfWal0p6/Lm9OxPWU97p6b9fs2Vhwnok0dOD79KpMGHdd0xSd79pj7yEdW1IUrcLmD0vYf0YntSl2fMS1rYVS+rSvHn5BWndqnb1V3hr6RtrogOb7upa98aaqKrdRGteNKyJTujKLCtf7lU4y8E8MMVrca0bq0FVu+J7WSis4ifxC5V3tEpYlc/gHWX3tURYZaf/ETV31z+smnP/rIJ77B8WQzQPq+CjHFJtp53DqjbrtFL7bRtWqSkfps6u24bFWD3DqvPgHq/I3huGVWSyA1WYQMOwqKBbWBUe1gqGz6FbWBTRKqzhj2kpY6fRKizq6BOW6+rWwJn0CYtSmoTluvqXUZNpEhbVCIuIDmF5Dz42ZD4dwqIgYRExfVjeg884fkrTh0VNwiJCWEQIi4i5w/KT+/MOntXcYVGWsIgQFhHCIkJYRAiLCGERISwihEWEsIgQFhHCIkJYRAiLiLnDKv4fsEo5eFZzh0VZwiJCWEQIi4jpw/Lz+zOOn9L0YVGTsIjoEJa34WND5tMhLAoSFhFNwvI2/JdRk2kSFtX0CculdWvgTPqERSmtwnJpXRo7jVZhUUe3sFxaZ8Pn0C0simgY1vCHdbgKE2gY1lZjsqMU2XvPsBiubVhFHtyD1dl127C2SlM+Rqn9dg5rKzbrqGo7bR4Wo/QPq9qjnFBwj/3D2krO/YNq7m6JsLaq039f2X2tEtZW+Ax+rfKOFgprq30Sryq+l+/RCzja+Tym/rdhxZM6W+vG2k1xNnfNsvJFw9rmOaFLE615uVfhpYleixMldbbujbWrf2b1V3hr6RtrV/bqmjGpM2H9KJXXvEmdCeva8LxmT+pMWPcNyatHUmfCemQ/6WhhnXraCespicJa9rQT1muuanips94lXRHWW5Zq5SV+QUqEsIgQFhHCIkJYRAiLCGERISwihEWEsIgQFhHCIkJYRAiLCGERISwihEWEsIgQFhHCIkJYRAiLCGERISwihEWEsIgQFhHCIkJYRAiLCGERISwihEWEsIgQFhHCIkJYRAiLCGERISwihEWEsIgQFhHCIkJYRAiLCGERISwihEWEsIgQFhHCIkJYRAiLCGERISwihEWEsIgQFhHCIkJYRAiLCGERISwi/gIu0Y6z2vJ51gAAAABJRU5ErkJggg==\" style=\"display:inline-block;margin:10px;\"/>"
      ],
      "text/plain": [
       "<IPython.core.display.HTML object>"
      ]
     },
     "metadata": {},
     "output_type": "display_data"
    },
    {
     "data": {
      "text/html": [
       "<img src=\"data:image/png;base64,iVBORw0KGgoAAAANSUhEUgAAAMgAAADICAIAAAAiOjnJAAACKklEQVR4nO3U0Q2EMAwFweRE/y37mmADQjMNPH+svGdmwd1+Tx/ANwmLhLBICIuEsEgIi4SwSAiLhLBICIuEsEgIi4SwSAiLhLBICIuEsEgIi4SwSAiLhLBICIuEsEgIi4SwSAiLhLBICIuEsEgIi4SwSAiLhLBICIuEsEgIi4SwSAiLhLBICIuEsEgIi4SwSAiLhLBICIuEsEgIi4SwSAiLhLBICIuEsEgIi4SwSAiLhLBICIuEsEgIi4SwSAiLhLBICIuEsEgIi4SwSAiLhLBICIuEsEgIi4SwSAiLhLBICIuEsEgIi4SwSAiLhLBICIuEsEgIi4SwSAiLhLBICIuEsEgIi4SwSFwHNvbaB1Y+Y9Y8fcINfCwSwiIhLBLCIiEsEsIiISwSwiIhLBLCIiEsEsIiISwSwiIhLBLCIiEsEsIiISwSwiIhLBLCIiEsEsIiISwSwiIhLBLCIiEsEsIiISwSwiIhLBLCIiEsEsIiISwSwiIhLBLCIiEsEsIiISwSwiIhLBLCIiEsEsIiISwSwiIhLBLCIiEsEsIiISwSwiIhLBLCIiEsEsIiISwSwiIhLBLCIiEsEsIiISwSwiIhLBLCIiEsEsIiISwSwiIhLBLCIiEsEsIiISwSwiIhLBLCIiEsEsIiISwSwiIhLBLCIiEsEsIiISwSwiIhLBLCIiEsEsIiISwSwiIhLBLCInEd2Jg1B1Z4FR+LhLBICIuEsEgIi4SwSPwBQtAIjwO9HqkAAAAASUVORK5CYII=\" style=\"display:inline-block;margin:10px;\"/><img src=\"data:image/png;base64,iVBORw0KGgoAAAANSUhEUgAAAMgAAADICAIAAAAiOjnJAAACJ0lEQVR4nO3U0QmAQAwFwTux/5ZjEy6HMlPAIx9L9swseNt1+gD+SVgkhEVCWCSERUJYJIRFQlgkhEVCWCSERUJYJIRFQlgkhEVCWCSERUJYJIRFQlgkhEVCWCSERUJYJIRFQlgkhEVCWCSERUJYJIRFQlgkhEVCWCSERUJYJIRFQlgkhEVCWCSERUJYJIRFQlgkhEVCWCSERUJYJIRFQlgkhEVCWCSERUJYJIRFQlgkhEVCWCSERUJYJIRFQlgkhEVCWCSERUJYJIRFQlgkhEVCWCSERUJYJIRFQlgkhEVCWCSERUJYJIRF4o5299rR8i/NmtMnvMzHIiEsEsIiISwSwiIhLBLCIiEsEsIiISwSwiIhLBLCIiEsEsIiISwSwiIhLBLCIiEsEsIiISwSwiIhLBLCIiEsEsIiISwSwiIhLBLCIiEsEsIiISwSwiIhLBLCIiEsEsIiISwSwiIhLBLCIiEsEsIiISwSwiIhLBLCIiEsEsIiISwSwiIhLBLCIiEsEsIiISwSwiIhLBLCIiEsEsIiISwSwiIhLBLCIiEsEsIiISwSwiIhLBLCIiEsEsIiISwSwiIhLBLCIiEsEsIiISwSwiIhLBLCIiEsEsIiISwSwiIhLBLCIiEsEsIiISwSwiIhLBLCIiEsEsIiISwSd7Q7a6JlPsHHIiEsEsIiISwSwiIhLBLCIiEsEsIiISwSwiIhLBLCIiEsEsIiISwSwiIhLBIPYa8Ij74SUD0AAAAASUVORK5CYII=\" style=\"display:inline-block;margin:10px;\"/>"
      ],
      "text/plain": [
       "<IPython.core.display.HTML object>"
      ]
     },
     "metadata": {},
     "output_type": "display_data"
    },
    {
     "data": {
      "text/html": [
       "<img src=\"data:image/png;base64,iVBORw0KGgoAAAANSUhEUgAAAMgAAADICAIAAAAiOjnJAAADpElEQVR4nO3Vy3LbMBBFQTqV//9lZeGqxLEpia8LYIjupVbU4GDw8Xg8Frjar94fwD0JiwhhESEsIoRFhLCIEBYRwiJCWEQIiwhhESEsIoRFhLCIEBYRwiJCWEQIiwhhESEsIoRFhLCIEBYRwiJCWEQIiwhhESEsIoRFhLCIEBYRwiJCWEQIiwhhESEsIoRFhLCIEBYRwiJCWEQIiwhhESEsIoRFhLCIKB/Wx/LR+xNYUTusz6q0NaDaYTGswmF9XVSW1mgKh8XIqob1c0VZWkMpGZaGxlcyrGcEN456Yb2uR1uDqBcWJRQLa8tCsrRGUCwsqqgU1vZVZGl1VyYsrdRSJqy9hNhXjbCOVaKtjmqERTkFwjqzeCytXkYPSxlFjR7WedLsYuiwrmpCW+0NHRZ1jRvWtWvG0mps3LAobdCwEgvG0mppxLAUcAMjhpUj2WaGCyt99tpqY7iwuIexwmqzTiytBgYKy3nfyUBhtSTitFHCctI3M0pY7Uk5aoiwep2xtnL6h+V0b6l/WH3JOqRzWM71rmbfWIu4M3qG5URvzMZaFokHdAtrtLMc7Xuq6xOWU7w9T+E/cr9Qh7Cc3wxsrP+I/iqtw3Jyk2gaVomqSnzk+DyFK7R1XruwnNZUbKx1rsFJjcJyTrOxsZ5yGc5oEVbdE6r75d3Fw3I2c/IUvuFiHJMNy6lMy8Z6z/U4IBiW85hZKqybVXWzv9OAp3Arbe0SCcsZYGPt4MJsd31Yps9iY+3l2mx0cVjmzqcrw5qkqkn+5kmewiO09dZlYZk1X9lYB7lIr10TlinzzQVhTVvVtH98C08hEWfDmvzWTv73X7CxztLWqlNhmSnPHA9LVX8ZxU+eQiIOhuWOfmMg39hYRBwJy+1cZSxf2VhX0tZfu8MyO7bYF5aq3jKiT55CInaE5S5uZFCLjRWira1hmRS7bApLVQdMPjRPIRHvw5r85p0x8+hsLCLehDXznbvEtAO0seLmbOtVWHNOhEs8DUtVF5pwmJ5CItbDmvCGpc02UhuLiJWwZrtbzUw12N8/f3osj/bfwc14CokQFhHCIkJYRAiLCGERISwihEWEsIgQFhHCIkJYRAiLCGERISwihEWEsIgQFhHCIkJYRAiLCGERISwihEWEsIgQFhHCIkJYRAiLCGERISwihEWEsIgQFhHCIkJYRAiLCGERISwihEWEsIgQFhHCIkJYRAiLCGERISwihEWEsIgQFhHCIkJYRPwBToYHdS9rzswAAAAASUVORK5CYII=\" style=\"display:inline-block;margin:10px;\"/><img src=\"data:image/png;base64,iVBORw0KGgoAAAANSUhEUgAAAMgAAADICAIAAAAiOjnJAAADt0lEQVR4nO3UW1YjWQxFQVOr5z9l10f1oukCjA15nHpETMBpaV+9XK/XCxzt19kfwEzCIkJYRAiLCGERISwihEWEsIgQFhHCIkJYRAiLCGERISwihEWEsIgQFhHCIkJYRAiLCGERISwihEWEsIgQFhHCIkJYRAiLCGERISwihPUdL5eXsz+hOmE97E9V2rpNWEQI6zFvD5WjdYOwiBDWA96fKEfrM8K6l4YeIqyfEtyHhHWX2/Vo6z1hESGsr91zkBytvwiLCGF94f5T5Gi9JaxbtPJtwjqSEF8J61Pfq0RbfwiLCGF97CeHx9G6COtDyvg5YUVIU1h/O6qJ5W0Jiwhh/c+xZ2bz0RIWEcL6T+LArD1awvrX2gJChBW3M1lhXS753S9sS1hECOtJ52Tb0doe1rZ9P832sJ5pVcSrw1q16SdbHdbz7Ul5b1hn7XhJW0vDWrLdEy0N61wbst4Y1oa9nm5jWBWMj3tdWOM3WsS6sOqYnfiusKrtstr3HGhRWIO3WNCisGqamvuWsKbur6wtYVU2MvoVYY3cXHHzw2pRVYuPfMj8sLoY1tbwsIZtq5HhYfUy6RlMDmvSntqZHFZHYx7D2LD6bqjvl781M6wZu2ltZljdDXgYA8MasJUBBoY1Q/fnMS2s7vsYY1RYw6pq/XdGhTVP37bmhNV3ByPNCWuqpg9mSFhNpz/YkLBm6/hsJoTVce7jtQ9rSVXt/mb7sPbo1VbvsHrNepXeYW3T6CE1DqvRlBfqGtbaqrr88a5hUVzLsLq82pAWf79lWNRvq19Y9WfKpV1YqnpVfBTNwqKLTmEVf6PPV3kgncKikTZhVX6dJyo7ljZh8ZmabfUIq+bsuKFBWKr6UsERNQiLjqqHVfAt1lRtUNXD4n6l2iodVqlJ8ZC6YanqG+oMrW5YtFY0rDovr50ioysaFt1VDKvIm+urwgArhsXPnd5WubBOnwiHqBWWqg507jBrhcUYhcJyrg534kgLhcUkVcJyrkLOGuw/p/zqe9fL9exP4EhVLhbDCIsIYREhLCKERYSwiBAWEcIiQlhECIsIYREhLCKERYSwiBAWEcIiQlhECIsIYREhLCKERYSwiBAWEcIiQlhECIsIYREhLCKERYSwiBAWEcIiQlhECIsIYREhLCKERYSwiBAWEcIiQlhECIsIYREhLCKERYSwiBAWEcIiQlhECIsIYREhLCKERYSwiBAWEcIiQlhECIsIYREhLCKERYSwiBAWEcIiQlhECIsIYREhLCJ+Ayw8B3XKup5fAAAAAElFTkSuQmCC\" style=\"display:inline-block;margin:10px;\"/>"
      ],
      "text/plain": [
       "<IPython.core.display.HTML object>"
      ]
     },
     "metadata": {},
     "output_type": "display_data"
    }
   ],
   "source": [
    "from PIL import Image, ImageDraw\n",
    "from libs.geometry import *\n",
    "from libs.utilty import *\n",
    "\n",
    "def generate_shape_image(width, height, num_each_shape, shape_type, save_path, color_type='random',side_length_type='random',rotation_bool=True):\n",
    "\n",
    "    #label_dict={}\n",
    "    for i in range(num_each_shape):\n",
    "        # Create a blank white image\n",
    "        image = Image.new(\"RGB\", (width, height), \"white\")\n",
    "\n",
    "        draw = ImageDraw.Draw(image)        \n",
    "        # determine color\n",
    "        color=determine_color(color_type)\n",
    "        # determine square or circle\n",
    "        draw=determine_radius_perserving_gemotry(draw, height, width, shape_type, color, side_length_type, rotation_bool)\n",
    "        # determine triangle\n",
    "        draw=determine_triangle(draw, height, width, shape_type, color, side_length_type, rotation_bool)\n",
    "\n",
    "        image_save(image,i,save_path,shape_type)\n",
    "\n",
    "\n",
    "if __name__ == \"__main__\":\n",
    "    width=200\n",
    "    hight=200\n",
    "    num_each_shape=100\n",
    "    for shape_type in ['circle','square','triangle']:\n",
    "        generate_shape_image(width, hight, \n",
    "                            num_each_shape, \n",
    "                            shape_type,\n",
    "                            \"./pic/\",\n",
    "                            color_type='fix', #random or fix\n",
    "                            side_length_type='fix', #whether fix the side_length of geometry\n",
    "                            rotation_bool=False) #whether fix the roation\n",
    "        \n",
    "    print('Gievn the different gemotry, the goal is to test and to realize how CNN works')\n",
    "    print('The setting is simple, the geometry dataset is in same color, side_lenth ,and without roation')\n",
    "\n",
    "    display_side_by_side(['./pic/circle/0.png','./pic/circle/1.png'])\n",
    "    display_side_by_side(['./pic/square/0.png','./pic/square/1.png'])\n",
    "    display_side_by_side(['./pic/triangle/0.png','./pic/triangle/1.png'])"
   ]
  },
  {
   "cell_type": "code",
   "execution_count": 7,
   "metadata": {},
   "outputs": [
    {
     "name": "stdout",
     "output_type": "stream",
     "text": [
      "def data_loader\n"
     ]
    }
   ],
   "source": [
    "from torch.utils.data import DataLoader,random_split\n",
    "from torchvision.transforms import transforms\n",
    "from torchvision import transforms, datasets\n",
    "\n",
    "print('def data_loader')\n",
    "def exp_data_loader(image_height, image_width, batch_size):\n",
    "    data_transform = transforms.Compose([\n",
    "        transforms.Resize((image_height, image_width)),  # resize the image\n",
    "        transforms.ToTensor(),         # to tensor datatype\n",
    "        transforms.Normalize(mean=[0.5, 0.5, 0.5], std=[0.5, 0.5, 0.5])  # normalization\n",
    "    ])\n",
    "\n",
    "    dataset = datasets.ImageFolder(root='./pic', transform=data_transform)\n",
    "    dataset_size = len(dataset)\n",
    "    train_size = int(0.7 * dataset_size)\n",
    "    val_size = int(0.15 * dataset_size)\n",
    "    test_size = dataset_size - train_size - val_size\n",
    "\n",
    "    # Create datasets\n",
    "    train_dataset, val_dataset, test_dataset = random_split(dataset, [train_size, val_size, test_size])\n",
    "\n",
    "    # Create DataLoaders for each subset\n",
    "    train_loader = DataLoader(train_dataset, batch_size=batch_size, shuffle=True)\n",
    "    val_loader = DataLoader(val_dataset, batch_size=batch_size, shuffle=False)\n",
    "    test_loader = DataLoader(test_dataset, batch_size=batch_size, shuffle=False)\n",
    "\n",
    "    return train_loader, val_loader, test_loader\n"
   ]
  },
  {
   "cell_type": "code",
   "execution_count": 8,
   "metadata": {},
   "outputs": [
    {
     "name": "stdout",
     "output_type": "stream",
     "text": [
      "def the NetWork and training_process\n"
     ]
    }
   ],
   "source": [
    "import torch\n",
    "import torch.nn as nn\n",
    "import torch.nn.functional as F\n",
    "import torch.optim as optim\n",
    "import os\n",
    "from tqdm import tqdm\n",
    "from sklearn.metrics import confusion_matrix\n",
    "import pickle\n",
    "print('def the NetWork and training_process')\n",
    "\n",
    "class SimpleCNN(nn.Module):\n",
    "    def __init__(self, image_height, image_width, number_classes):\n",
    "        super(SimpleCNN, self).__init__()\n",
    "        #batch_size\n",
    "        fc_input_size = 32 * (image_height // 4) * (image_width // 4) #two maxPool://4 and second conv channel: 32 \n",
    "        self.conv1 = nn.Conv2d(in_channels=3, out_channels=16, kernel_size=3, stride=1, padding=1)\n",
    "        self.batchnorm1 = nn.BatchNorm2d(16)\n",
    "        self.relu1 = nn.ReLU()\n",
    "        self.pool1 = nn.MaxPool2d(kernel_size=2, stride=2)\n",
    "\n",
    "        self.conv2 = nn.Conv2d(in_channels=16, out_channels=32, kernel_size=3, stride=1, padding=1)\n",
    "        self.batchnorm2 = nn.BatchNorm2d(32)\n",
    "        self.relu2 = nn.ReLU()\n",
    "        self.pool2 = nn.MaxPool2d(kernel_size=2, stride=2)\n",
    "\n",
    "        self.fc1 = nn.Linear(fc_input_size, 128)\n",
    "        self.fc2 = nn.Linear(128, number_classes)\n",
    "        self.dropout = nn.Dropout(0.5)\n",
    "\n",
    "    def forward(self, x):\n",
    "        x = self.conv1(x) #out: (batch_size, 16, cov_height, cov_width)\n",
    "        x = self.batchnorm1(x) \n",
    "        x = self.relu1(x)\n",
    "        x = self.pool1(x) #out: (batch_size, 16, cov_height/2, cov_width/2)\n",
    "\n",
    "        x = self.conv2(x) #out: (batch_size, 32, cov_height/2, cov_width/2)\n",
    "        x = self.batchnorm2(x)\n",
    "        x = self.relu2(x)\n",
    "        x = self.pool2(x) #out: (batch_size, 32, cov_height/4, cov_width/4)\n",
    "\n",
    "        x = x.squeeze()\n",
    "        fc_input_size = 32 * (x.size(2)) * (x.size(3))\n",
    "        x = x.view(-1, fc_input_size) # out: (batch_size, 32 * (image_height // 4) * (image_width // 4))\n",
    "\n",
    "        x = F.relu(self.fc1(x)) #out: (batch_size, 128)\n",
    "\n",
    "        x = self.fc2(x)\n",
    "        \n",
    "        return x\n",
    "    \n",
    "def validate_model(model, criterion, val_loader, device):\n",
    "    model.eval()  \n",
    "    val_loss = torch.tensor(0.0)\n",
    "    correct = 0\n",
    "    true_labels = []\n",
    "    predicted_labels = []\n",
    "    with torch.no_grad():\n",
    "        for images, labels in val_loader:\n",
    "            images, labels = images.to(device), labels.to(device)\n",
    "            outputs = model(images)\n",
    "            val_loss += criterion(outputs, labels).item() * images.size(0)\n",
    "            _, predicted = torch.max(outputs, 1)\n",
    "\n",
    "            correct += (predicted == labels).sum().item()\n",
    "            true_labels.extend(labels.cpu().numpy())\n",
    "            predicted_labels.extend(predicted.cpu().numpy())    \n",
    "\n",
    "    val_loss /= len(val_loader.dataset)\n",
    "    accuracenter_y = correct / len(val_loader.dataset) * 100\n",
    "\n",
    "    cm = confusion_matrix(true_labels, predicted_labels)\n",
    "    return val_loss, accuracenter_y, cm    \n",
    "\n",
    "def train_model(model, criterion, optimizer, train_loader, val_loader, num_epochs, checkpoint_interval, device, result_save_name):\n",
    "    os.makedirs('checkpoints', exist_ok=True)\n",
    "    epoch_list=[]\n",
    "    training_loss_list=[]\n",
    "    validation_loss_list=[]\n",
    "    val_acc_list=[]\n",
    "    cm_list=[]\n",
    "    for epoch in range(num_epochs):\n",
    "        epoch_list.append(epoch)\n",
    "        model.train()  \n",
    "        running_loss = 0.0\n",
    "\n",
    "        for images, labels in tqdm(train_loader, desc=f'Epoch {epoch+1}/{num_epochs}', unit='batch'):\n",
    "            images, labels = images.to(device), labels.to(device)\n",
    "            optimizer.zero_grad()  \n",
    "            outputs = model(images)  \n",
    "            loss = criterion(outputs, labels)  \n",
    "            loss.backward()  \n",
    "            optimizer.step()  \n",
    "            running_loss += loss.item() * images.size(0)\n",
    "            \n",
    "        epoch_loss = running_loss / len(train_loader.dataset)\n",
    "        training_loss_list.append(epoch_loss)\n",
    "        print(f\"Epoch {epoch+1}/{num_epochs}, Loss: {epoch_loss:.4f}\")\n",
    "\n",
    "        # Validate the model\n",
    "        if (epoch + 1) % checkpoint_interval == 0:\n",
    "\n",
    "            val_loss, val_acc, confusion_matrix = validate_model(model, criterion, val_loader, device)\n",
    "            print(f\"Validation Loss: {val_loss:.4f}, Accuracenter_y: {val_acc:.2f}%\")\n",
    "            print(f'confusion_matrix:\\n {confusion_matrix}')\n",
    "            # Save model checkpoint\n",
    "            checkpoint_path = f\"checkpoints/{result_save_name}_model_epoch{epoch+1}.pth\"\n",
    "            torch.save(model.state_dict(), checkpoint_path)\n",
    "            print(f\"Checkpoint saved at {checkpoint_path}\")\n",
    "            validation_loss_list.append(val_loss.cpu().numpy())\n",
    "            val_acc_list.append(val_acc)\n",
    "            cm_list.append(confusion_matrix)\n",
    "    result_dict={'epoch_list':epoch_list,\n",
    "                 'training_loss_list':training_loss_list,\n",
    "                 'validation_loss_list':validation_loss_list,\n",
    "                 'val_acc_list':val_acc_list,\n",
    "                 'cm_list':cm_list\n",
    "                 }\n",
    "    with open('./checkpoints/'+result_save_name+'.pkl', 'wb') as f:\n",
    "        pickle.dump(result_dict, f)\n",
    "    return result_dict"
   ]
  },
  {
   "cell_type": "code",
   "execution_count": 9,
   "metadata": {},
   "outputs": [
    {
     "name": "stdout",
     "output_type": "stream",
     "text": [
      "dataloader and training_process\n"
     ]
    },
    {
     "name": "stderr",
     "output_type": "stream",
     "text": [
      "Epoch 1/10: 100%|██████████| 329/329 [00:17<00:00, 19.32batch/s]\n"
     ]
    },
    {
     "name": "stdout",
     "output_type": "stream",
     "text": [
      "Epoch 1/10, Loss: 0.5224\n"
     ]
    },
    {
     "name": "stderr",
     "output_type": "stream",
     "text": [
      "Epoch 2/10: 100%|██████████| 329/329 [00:15<00:00, 21.89batch/s]\n"
     ]
    },
    {
     "name": "stdout",
     "output_type": "stream",
     "text": [
      "Epoch 2/10, Loss: 0.0357\n",
      "Validation Loss: 0.0832, Accuracenter_y: 98.00%\n",
      "confusion_matrix:\n",
      " [[1534    0    0]\n",
      " [   0 1531    0]\n",
      " [  57   33 1345]]\n",
      "Checkpoint saved at checkpoints/simple_dataset_model_epoch2.pth\n"
     ]
    },
    {
     "name": "stderr",
     "output_type": "stream",
     "text": [
      "Epoch 3/10: 100%|██████████| 329/329 [00:15<00:00, 21.68batch/s]\n"
     ]
    },
    {
     "name": "stdout",
     "output_type": "stream",
     "text": [
      "Epoch 3/10, Loss: 0.0221\n"
     ]
    },
    {
     "name": "stderr",
     "output_type": "stream",
     "text": [
      "Epoch 4/10: 100%|██████████| 329/329 [00:14<00:00, 22.26batch/s]\n"
     ]
    },
    {
     "name": "stdout",
     "output_type": "stream",
     "text": [
      "Epoch 4/10, Loss: 0.0020\n",
      "Validation Loss: 0.0079, Accuracenter_y: 99.78%\n",
      "confusion_matrix:\n",
      " [[1534    0    0]\n",
      " [   0 1531    0]\n",
      " [   4    6 1425]]\n",
      "Checkpoint saved at checkpoints/simple_dataset_model_epoch4.pth\n"
     ]
    },
    {
     "name": "stderr",
     "output_type": "stream",
     "text": [
      "Epoch 5/10: 100%|██████████| 329/329 [00:15<00:00, 21.12batch/s]\n"
     ]
    },
    {
     "name": "stdout",
     "output_type": "stream",
     "text": [
      "Epoch 5/10, Loss: 0.0014\n"
     ]
    },
    {
     "name": "stderr",
     "output_type": "stream",
     "text": [
      "Epoch 6/10: 100%|██████████| 329/329 [00:15<00:00, 20.59batch/s]\n"
     ]
    },
    {
     "name": "stdout",
     "output_type": "stream",
     "text": [
      "Epoch 6/10, Loss: 0.0081\n",
      "Validation Loss: 0.0219, Accuracenter_y: 99.29%\n",
      "confusion_matrix:\n",
      " [[1519    0   15]\n",
      " [   0 1531    0]\n",
      " [  10    7 1418]]\n",
      "Checkpoint saved at checkpoints/simple_dataset_model_epoch6.pth\n"
     ]
    },
    {
     "name": "stderr",
     "output_type": "stream",
     "text": [
      "Epoch 7/10: 100%|██████████| 329/329 [00:15<00:00, 21.90batch/s]\n"
     ]
    },
    {
     "name": "stdout",
     "output_type": "stream",
     "text": [
      "Epoch 7/10, Loss: 0.0168\n"
     ]
    },
    {
     "name": "stderr",
     "output_type": "stream",
     "text": [
      "Epoch 8/10: 100%|██████████| 329/329 [00:15<00:00, 20.70batch/s]\n"
     ]
    },
    {
     "name": "stdout",
     "output_type": "stream",
     "text": [
      "Epoch 8/10, Loss: 0.0020\n",
      "Validation Loss: 0.0074, Accuracenter_y: 99.87%\n",
      "confusion_matrix:\n",
      " [[1534    0    0]\n",
      " [   0 1531    0]\n",
      " [   3    3 1429]]\n",
      "Checkpoint saved at checkpoints/simple_dataset_model_epoch8.pth\n"
     ]
    },
    {
     "name": "stderr",
     "output_type": "stream",
     "text": [
      "Epoch 9/10: 100%|██████████| 329/329 [00:15<00:00, 21.20batch/s]\n"
     ]
    },
    {
     "name": "stdout",
     "output_type": "stream",
     "text": [
      "Epoch 9/10, Loss: 0.0048\n"
     ]
    },
    {
     "name": "stderr",
     "output_type": "stream",
     "text": [
      "Epoch 10/10: 100%|██████████| 329/329 [00:15<00:00, 21.79batch/s]\n"
     ]
    },
    {
     "name": "stdout",
     "output_type": "stream",
     "text": [
      "Epoch 10/10, Loss: 0.0011\n",
      "Validation Loss: 0.0028, Accuracenter_y: 99.93%\n",
      "confusion_matrix:\n",
      " [[1534    0    0]\n",
      " [   0 1531    0]\n",
      " [   1    2 1432]]\n",
      "Checkpoint saved at checkpoints/simple_dataset_model_epoch10.pth\n"
     ]
    }
   ],
   "source": [
    "###training_process\n",
    "print('dataloader and training_process')\n",
    "\n",
    "\n",
    "image_height =200  #  \n",
    "image_width= 200\n",
    "batch_size=64\n",
    "num_epochs = 10\n",
    "checkpoint_interval = 2\n",
    "result_save_name='simple_dataset'\n",
    "\n",
    "def training_processing(image_height,image_width,batch_size,num_epochs,checkpoint_interval):\n",
    "    device = torch.device(\"cuda\" if torch.cuda.is_available() else \"cpu\")\n",
    "    folder_path='./pic'\n",
    "    number_classes=len([f for f in os.listdir(folder_path) if os.path.isdir(os.path.join(folder_path, f))])\n",
    "\n",
    "    model = SimpleCNN(image_height,image_width,number_classes).to(device)\n",
    "    criterion = nn.CrossEntropyLoss()\n",
    "    optimizer = optim.AdamW(model.parameters(), lr=0.001)\n",
    "    ### read if intestsed https://arxiv.org/abs/1711.05101\n",
    "    ### decoupled weight decay is wildly useful in different framework.\n",
    "\n",
    "    train_loader, val_loader, test_loader=exp_data_loader(image_height, image_width, batch_size)\n",
    "    result_dict=train_model(model, criterion, optimizer, train_loader, val_loader, num_epochs, checkpoint_interval, device, result_save_name=result_save_name)\n",
    "\n",
    "training_processing(image_height,image_width,batch_size,num_epochs,checkpoint_interval)"
   ]
  },
  {
   "cell_type": "code",
   "execution_count": 10,
   "metadata": {},
   "outputs": [
    {
     "name": "stdout",
     "output_type": "stream",
     "text": [
      "let try more chanlenges, one can just modify the dataset color_type, side_length_type, rotation_bool to testify the ability of CNN models\n"
     ]
    },
    {
     "name": "stderr",
     "output_type": "stream",
     "text": [
      "Epoch 1/100: 100%|██████████| 329/329 [00:15<00:00, 21.79batch/s]\n"
     ]
    },
    {
     "name": "stdout",
     "output_type": "stream",
     "text": [
      "Epoch 1/100, Loss: 0.2869\n"
     ]
    },
    {
     "name": "stderr",
     "output_type": "stream",
     "text": [
      "Epoch 2/100: 100%|██████████| 329/329 [00:14<00:00, 22.50batch/s]\n"
     ]
    },
    {
     "name": "stdout",
     "output_type": "stream",
     "text": [
      "Epoch 2/100, Loss: 0.0133\n",
      "Validation Loss: 0.0261, Accuracenter_y: 99.24%\n",
      "confusion_matrix:\n",
      " [[1525    0    0]\n",
      " [   0 1487    0]\n",
      " [   0   34 1454]]\n",
      "Checkpoint saved at checkpoints/rotation_bool_dataset_model_epoch2.pth\n"
     ]
    },
    {
     "name": "stderr",
     "output_type": "stream",
     "text": [
      "Epoch 3/100: 100%|██████████| 329/329 [00:14<00:00, 22.48batch/s]\n"
     ]
    },
    {
     "name": "stdout",
     "output_type": "stream",
     "text": [
      "Epoch 3/100, Loss: 0.0081\n"
     ]
    },
    {
     "name": "stderr",
     "output_type": "stream",
     "text": [
      "Epoch 4/100: 100%|██████████| 329/329 [00:14<00:00, 22.19batch/s]\n"
     ]
    },
    {
     "name": "stdout",
     "output_type": "stream",
     "text": [
      "Epoch 4/100, Loss: 0.0282\n",
      "Validation Loss: 0.0108, Accuracenter_y: 99.56%\n",
      "confusion_matrix:\n",
      " [[1525    0    0]\n",
      " [   0 1474   13]\n",
      " [   0    7 1481]]\n",
      "Checkpoint saved at checkpoints/rotation_bool_dataset_model_epoch4.pth\n"
     ]
    },
    {
     "name": "stderr",
     "output_type": "stream",
     "text": [
      "Epoch 5/100: 100%|██████████| 329/329 [00:14<00:00, 22.45batch/s]\n"
     ]
    },
    {
     "name": "stdout",
     "output_type": "stream",
     "text": [
      "Epoch 5/100, Loss: 0.0015\n"
     ]
    },
    {
     "name": "stderr",
     "output_type": "stream",
     "text": [
      "Epoch 6/100: 100%|██████████| 329/329 [00:14<00:00, 23.47batch/s]\n"
     ]
    },
    {
     "name": "stdout",
     "output_type": "stream",
     "text": [
      "Epoch 6/100, Loss: 0.0070\n",
      "Validation Loss: 0.0150, Accuracenter_y: 99.49%\n",
      "confusion_matrix:\n",
      " [[1525    0    0]\n",
      " [   0 1479    8]\n",
      " [   0   15 1473]]\n",
      "Checkpoint saved at checkpoints/rotation_bool_dataset_model_epoch6.pth\n"
     ]
    },
    {
     "name": "stderr",
     "output_type": "stream",
     "text": [
      "Epoch 7/100: 100%|██████████| 329/329 [00:14<00:00, 22.27batch/s]\n"
     ]
    },
    {
     "name": "stdout",
     "output_type": "stream",
     "text": [
      "Epoch 7/100, Loss: 0.0041\n"
     ]
    },
    {
     "name": "stderr",
     "output_type": "stream",
     "text": [
      "Epoch 8/100: 100%|██████████| 329/329 [00:14<00:00, 22.34batch/s]\n"
     ]
    },
    {
     "name": "stdout",
     "output_type": "stream",
     "text": [
      "Epoch 8/100, Loss: 0.0202\n",
      "Validation Loss: 0.0193, Accuracenter_y: 99.47%\n",
      "confusion_matrix:\n",
      " [[1525    0    0]\n",
      " [   0 1484    3]\n",
      " [   0   21 1467]]\n",
      "Checkpoint saved at checkpoints/rotation_bool_dataset_model_epoch8.pth\n"
     ]
    },
    {
     "name": "stderr",
     "output_type": "stream",
     "text": [
      "Epoch 9/100: 100%|██████████| 329/329 [00:16<00:00, 19.52batch/s]\n"
     ]
    },
    {
     "name": "stdout",
     "output_type": "stream",
     "text": [
      "Epoch 9/100, Loss: 0.0076\n"
     ]
    },
    {
     "name": "stderr",
     "output_type": "stream",
     "text": [
      "Epoch 10/100: 100%|██████████| 329/329 [00:16<00:00, 19.99batch/s]\n"
     ]
    },
    {
     "name": "stdout",
     "output_type": "stream",
     "text": [
      "Epoch 10/100, Loss: 0.0012\n",
      "Validation Loss: 0.0119, Accuracenter_y: 99.60%\n",
      "confusion_matrix:\n",
      " [[1525    0    0]\n",
      " [   0 1479    8]\n",
      " [   0   10 1478]]\n",
      "Checkpoint saved at checkpoints/rotation_bool_dataset_model_epoch10.pth\n"
     ]
    },
    {
     "name": "stderr",
     "output_type": "stream",
     "text": [
      "Epoch 11/100: 100%|██████████| 329/329 [00:16<00:00, 20.33batch/s]\n"
     ]
    },
    {
     "name": "stdout",
     "output_type": "stream",
     "text": [
      "Epoch 11/100, Loss: 0.0003\n"
     ]
    },
    {
     "name": "stderr",
     "output_type": "stream",
     "text": [
      "Epoch 12/100: 100%|██████████| 329/329 [00:15<00:00, 21.62batch/s]\n"
     ]
    },
    {
     "name": "stdout",
     "output_type": "stream",
     "text": [
      "Epoch 12/100, Loss: 0.0001\n",
      "Validation Loss: 0.0114, Accuracenter_y: 99.62%\n",
      "confusion_matrix:\n",
      " [[1525    0    0]\n",
      " [   0 1480    7]\n",
      " [   0   10 1478]]\n",
      "Checkpoint saved at checkpoints/rotation_bool_dataset_model_epoch12.pth\n"
     ]
    },
    {
     "name": "stderr",
     "output_type": "stream",
     "text": [
      "Epoch 13/100: 100%|██████████| 329/329 [00:14<00:00, 23.01batch/s]\n"
     ]
    },
    {
     "name": "stdout",
     "output_type": "stream",
     "text": [
      "Epoch 13/100, Loss: 0.0001\n"
     ]
    },
    {
     "name": "stderr",
     "output_type": "stream",
     "text": [
      "Epoch 14/100: 100%|██████████| 329/329 [00:14<00:00, 23.14batch/s]\n"
     ]
    },
    {
     "name": "stdout",
     "output_type": "stream",
     "text": [
      "Epoch 14/100, Loss: 0.0000\n",
      "Validation Loss: 0.0130, Accuracenter_y: 99.60%\n",
      "confusion_matrix:\n",
      " [[1525    0    0]\n",
      " [   0 1479    8]\n",
      " [   0   10 1478]]\n",
      "Checkpoint saved at checkpoints/rotation_bool_dataset_model_epoch14.pth\n"
     ]
    },
    {
     "name": "stderr",
     "output_type": "stream",
     "text": [
      "Epoch 15/100: 100%|██████████| 329/329 [00:13<00:00, 24.48batch/s]\n"
     ]
    },
    {
     "name": "stdout",
     "output_type": "stream",
     "text": [
      "Epoch 15/100, Loss: 0.0000\n"
     ]
    },
    {
     "name": "stderr",
     "output_type": "stream",
     "text": [
      "Epoch 16/100: 100%|██████████| 329/329 [00:14<00:00, 22.07batch/s]\n"
     ]
    },
    {
     "name": "stdout",
     "output_type": "stream",
     "text": [
      "Epoch 16/100, Loss: 0.0000\n",
      "Validation Loss: 0.0127, Accuracenter_y: 99.60%\n",
      "confusion_matrix:\n",
      " [[1525    0    0]\n",
      " [   0 1479    8]\n",
      " [   0   10 1478]]\n",
      "Checkpoint saved at checkpoints/rotation_bool_dataset_model_epoch16.pth\n"
     ]
    },
    {
     "name": "stderr",
     "output_type": "stream",
     "text": [
      "Epoch 17/100: 100%|██████████| 329/329 [00:14<00:00, 22.14batch/s]\n"
     ]
    },
    {
     "name": "stdout",
     "output_type": "stream",
     "text": [
      "Epoch 17/100, Loss: 0.0000\n"
     ]
    },
    {
     "name": "stderr",
     "output_type": "stream",
     "text": [
      "Epoch 18/100: 100%|██████████| 329/329 [00:14<00:00, 22.77batch/s]\n"
     ]
    },
    {
     "name": "stdout",
     "output_type": "stream",
     "text": [
      "Epoch 18/100, Loss: 0.0000\n",
      "Validation Loss: 0.0135, Accuracenter_y: 99.62%\n",
      "confusion_matrix:\n",
      " [[1525    0    0]\n",
      " [   0 1480    7]\n",
      " [   0   10 1478]]\n",
      "Checkpoint saved at checkpoints/rotation_bool_dataset_model_epoch18.pth\n"
     ]
    },
    {
     "name": "stderr",
     "output_type": "stream",
     "text": [
      "Epoch 19/100: 100%|██████████| 329/329 [00:14<00:00, 22.27batch/s]\n"
     ]
    },
    {
     "name": "stdout",
     "output_type": "stream",
     "text": [
      "Epoch 19/100, Loss: 0.0000\n"
     ]
    },
    {
     "name": "stderr",
     "output_type": "stream",
     "text": [
      "Epoch 20/100: 100%|██████████| 329/329 [00:15<00:00, 21.68batch/s]\n"
     ]
    },
    {
     "name": "stdout",
     "output_type": "stream",
     "text": [
      "Epoch 20/100, Loss: 0.0000\n",
      "Validation Loss: 0.0135, Accuracenter_y: 99.60%\n",
      "confusion_matrix:\n",
      " [[1525    0    0]\n",
      " [   0 1479    8]\n",
      " [   0   10 1478]]\n",
      "Checkpoint saved at checkpoints/rotation_bool_dataset_model_epoch20.pth\n"
     ]
    },
    {
     "name": "stderr",
     "output_type": "stream",
     "text": [
      "Epoch 21/100: 100%|██████████| 329/329 [00:14<00:00, 22.33batch/s]\n"
     ]
    },
    {
     "name": "stdout",
     "output_type": "stream",
     "text": [
      "Epoch 21/100, Loss: 0.0000\n"
     ]
    },
    {
     "name": "stderr",
     "output_type": "stream",
     "text": [
      "Epoch 22/100: 100%|██████████| 329/329 [00:14<00:00, 23.40batch/s]\n"
     ]
    },
    {
     "name": "stdout",
     "output_type": "stream",
     "text": [
      "Epoch 22/100, Loss: 0.0000\n",
      "Validation Loss: 0.0141, Accuracenter_y: 99.56%\n",
      "confusion_matrix:\n",
      " [[1525    0    0]\n",
      " [   0 1477   10]\n",
      " [   0   10 1478]]\n",
      "Checkpoint saved at checkpoints/rotation_bool_dataset_model_epoch22.pth\n"
     ]
    },
    {
     "name": "stderr",
     "output_type": "stream",
     "text": [
      "Epoch 23/100: 100%|██████████| 329/329 [00:14<00:00, 23.31batch/s]\n"
     ]
    },
    {
     "name": "stdout",
     "output_type": "stream",
     "text": [
      "Epoch 23/100, Loss: 0.0000\n"
     ]
    },
    {
     "name": "stderr",
     "output_type": "stream",
     "text": [
      "Epoch 24/100: 100%|██████████| 329/329 [00:14<00:00, 23.25batch/s]\n"
     ]
    },
    {
     "name": "stdout",
     "output_type": "stream",
     "text": [
      "Epoch 24/100, Loss: 0.0000\n",
      "Validation Loss: 0.0141, Accuracenter_y: 99.58%\n",
      "confusion_matrix:\n",
      " [[1525    0    0]\n",
      " [   0 1478    9]\n",
      " [   0   10 1478]]\n",
      "Checkpoint saved at checkpoints/rotation_bool_dataset_model_epoch24.pth\n"
     ]
    },
    {
     "name": "stderr",
     "output_type": "stream",
     "text": [
      "Epoch 25/100: 100%|██████████| 329/329 [00:14<00:00, 22.93batch/s]\n"
     ]
    },
    {
     "name": "stdout",
     "output_type": "stream",
     "text": [
      "Epoch 25/100, Loss: 0.0000\n"
     ]
    },
    {
     "name": "stderr",
     "output_type": "stream",
     "text": [
      "Epoch 26/100: 100%|██████████| 329/329 [00:14<00:00, 22.54batch/s]\n"
     ]
    },
    {
     "name": "stdout",
     "output_type": "stream",
     "text": [
      "Epoch 26/100, Loss: 0.0000\n",
      "Validation Loss: 0.0099, Accuracenter_y: 99.60%\n",
      "confusion_matrix:\n",
      " [[1525    0    0]\n",
      " [   0 1477   10]\n",
      " [   0    8 1480]]\n",
      "Checkpoint saved at checkpoints/rotation_bool_dataset_model_epoch26.pth\n"
     ]
    },
    {
     "name": "stderr",
     "output_type": "stream",
     "text": [
      "Epoch 27/100: 100%|██████████| 329/329 [00:14<00:00, 22.73batch/s]\n"
     ]
    },
    {
     "name": "stdout",
     "output_type": "stream",
     "text": [
      "Epoch 27/100, Loss: 0.0000\n"
     ]
    },
    {
     "name": "stderr",
     "output_type": "stream",
     "text": [
      "Epoch 28/100: 100%|██████████| 329/329 [00:13<00:00, 24.08batch/s]\n"
     ]
    },
    {
     "name": "stdout",
     "output_type": "stream",
     "text": [
      "Epoch 28/100, Loss: 0.0000\n",
      "Validation Loss: 0.0108, Accuracenter_y: 99.62%\n",
      "confusion_matrix:\n",
      " [[1525    0    0]\n",
      " [   0 1478    9]\n",
      " [   0    8 1480]]\n",
      "Checkpoint saved at checkpoints/rotation_bool_dataset_model_epoch28.pth\n"
     ]
    },
    {
     "name": "stderr",
     "output_type": "stream",
     "text": [
      "Epoch 29/100: 100%|██████████| 329/329 [00:14<00:00, 23.03batch/s]\n"
     ]
    },
    {
     "name": "stdout",
     "output_type": "stream",
     "text": [
      "Epoch 29/100, Loss: 0.0000\n"
     ]
    },
    {
     "name": "stderr",
     "output_type": "stream",
     "text": [
      "Epoch 30/100: 100%|██████████| 329/329 [00:14<00:00, 22.18batch/s]\n"
     ]
    },
    {
     "name": "stdout",
     "output_type": "stream",
     "text": [
      "Epoch 30/100, Loss: 0.0000\n",
      "Validation Loss: 0.0110, Accuracenter_y: 99.60%\n",
      "confusion_matrix:\n",
      " [[1525    0    0]\n",
      " [   0 1478    9]\n",
      " [   0    9 1479]]\n",
      "Checkpoint saved at checkpoints/rotation_bool_dataset_model_epoch30.pth\n"
     ]
    },
    {
     "name": "stderr",
     "output_type": "stream",
     "text": [
      "Epoch 31/100: 100%|██████████| 329/329 [00:15<00:00, 21.39batch/s]\n"
     ]
    },
    {
     "name": "stdout",
     "output_type": "stream",
     "text": [
      "Epoch 31/100, Loss: 0.0000\n"
     ]
    },
    {
     "name": "stderr",
     "output_type": "stream",
     "text": [
      "Epoch 32/100: 100%|██████████| 329/329 [00:14<00:00, 21.96batch/s]\n"
     ]
    },
    {
     "name": "stdout",
     "output_type": "stream",
     "text": [
      "Epoch 32/100, Loss: 0.0000\n",
      "Validation Loss: 0.0116, Accuracenter_y: 99.62%\n",
      "confusion_matrix:\n",
      " [[1525    0    0]\n",
      " [   0 1479    8]\n",
      " [   0    9 1479]]\n",
      "Checkpoint saved at checkpoints/rotation_bool_dataset_model_epoch32.pth\n"
     ]
    },
    {
     "name": "stderr",
     "output_type": "stream",
     "text": [
      "Epoch 33/100: 100%|██████████| 329/329 [00:14<00:00, 23.03batch/s]\n"
     ]
    },
    {
     "name": "stdout",
     "output_type": "stream",
     "text": [
      "Epoch 33/100, Loss: 0.0000\n"
     ]
    },
    {
     "name": "stderr",
     "output_type": "stream",
     "text": [
      "Epoch 34/100: 100%|██████████| 329/329 [00:14<00:00, 22.27batch/s]\n"
     ]
    },
    {
     "name": "stdout",
     "output_type": "stream",
     "text": [
      "Epoch 34/100, Loss: 0.0000\n",
      "Validation Loss: 0.0123, Accuracenter_y: 99.60%\n",
      "confusion_matrix:\n",
      " [[1525    0    0]\n",
      " [   0 1479    8]\n",
      " [   0   10 1478]]\n",
      "Checkpoint saved at checkpoints/rotation_bool_dataset_model_epoch34.pth\n"
     ]
    },
    {
     "name": "stderr",
     "output_type": "stream",
     "text": [
      "Epoch 35/100: 100%|██████████| 329/329 [00:14<00:00, 22.43batch/s]\n"
     ]
    },
    {
     "name": "stdout",
     "output_type": "stream",
     "text": [
      "Epoch 35/100, Loss: 0.0000\n"
     ]
    },
    {
     "name": "stderr",
     "output_type": "stream",
     "text": [
      "Epoch 36/100: 100%|██████████| 329/329 [00:14<00:00, 22.81batch/s]\n"
     ]
    },
    {
     "name": "stdout",
     "output_type": "stream",
     "text": [
      "Epoch 36/100, Loss: 0.0000\n",
      "Validation Loss: 0.0124, Accuracenter_y: 99.62%\n",
      "confusion_matrix:\n",
      " [[1525    0    0]\n",
      " [   0 1479    8]\n",
      " [   0    9 1479]]\n",
      "Checkpoint saved at checkpoints/rotation_bool_dataset_model_epoch36.pth\n"
     ]
    },
    {
     "name": "stderr",
     "output_type": "stream",
     "text": [
      "Epoch 37/100: 100%|██████████| 329/329 [00:14<00:00, 22.20batch/s]\n"
     ]
    },
    {
     "name": "stdout",
     "output_type": "stream",
     "text": [
      "Epoch 37/100, Loss: 0.0000\n"
     ]
    },
    {
     "name": "stderr",
     "output_type": "stream",
     "text": [
      "Epoch 38/100: 100%|██████████| 329/329 [00:14<00:00, 23.16batch/s]\n"
     ]
    },
    {
     "name": "stdout",
     "output_type": "stream",
     "text": [
      "Epoch 38/100, Loss: 0.0000\n",
      "Validation Loss: 0.0124, Accuracenter_y: 99.62%\n",
      "confusion_matrix:\n",
      " [[1525    0    0]\n",
      " [   0 1479    8]\n",
      " [   0    9 1479]]\n",
      "Checkpoint saved at checkpoints/rotation_bool_dataset_model_epoch38.pth\n"
     ]
    },
    {
     "name": "stderr",
     "output_type": "stream",
     "text": [
      "Epoch 39/100: 100%|██████████| 329/329 [00:14<00:00, 23.35batch/s]\n"
     ]
    },
    {
     "name": "stdout",
     "output_type": "stream",
     "text": [
      "Epoch 39/100, Loss: 0.0000\n"
     ]
    },
    {
     "name": "stderr",
     "output_type": "stream",
     "text": [
      "Epoch 40/100: 100%|██████████| 329/329 [00:13<00:00, 23.51batch/s]\n"
     ]
    },
    {
     "name": "stdout",
     "output_type": "stream",
     "text": [
      "Epoch 40/100, Loss: 0.0000\n",
      "Validation Loss: 0.0139, Accuracenter_y: 99.58%\n",
      "confusion_matrix:\n",
      " [[1525    0    0]\n",
      " [   0 1478    9]\n",
      " [   0   10 1478]]\n",
      "Checkpoint saved at checkpoints/rotation_bool_dataset_model_epoch40.pth\n"
     ]
    },
    {
     "name": "stderr",
     "output_type": "stream",
     "text": [
      "Epoch 41/100: 100%|██████████| 329/329 [00:14<00:00, 22.24batch/s]\n"
     ]
    },
    {
     "name": "stdout",
     "output_type": "stream",
     "text": [
      "Epoch 41/100, Loss: 0.0000\n"
     ]
    },
    {
     "name": "stderr",
     "output_type": "stream",
     "text": [
      "Epoch 42/100: 100%|██████████| 329/329 [00:14<00:00, 22.60batch/s]\n"
     ]
    },
    {
     "name": "stdout",
     "output_type": "stream",
     "text": [
      "Epoch 42/100, Loss: 0.1425\n",
      "Validation Loss: 0.0298, Accuracenter_y: 98.98%\n",
      "confusion_matrix:\n",
      " [[1525    0    0]\n",
      " [   0 1441   46]\n",
      " [   0    0 1488]]\n",
      "Checkpoint saved at checkpoints/rotation_bool_dataset_model_epoch42.pth\n"
     ]
    },
    {
     "name": "stderr",
     "output_type": "stream",
     "text": [
      "Epoch 43/100: 100%|██████████| 329/329 [00:14<00:00, 23.15batch/s]\n"
     ]
    },
    {
     "name": "stdout",
     "output_type": "stream",
     "text": [
      "Epoch 43/100, Loss: 0.0095\n"
     ]
    },
    {
     "name": "stderr",
     "output_type": "stream",
     "text": [
      "Epoch 44/100: 100%|██████████| 329/329 [00:13<00:00, 23.73batch/s]\n"
     ]
    },
    {
     "name": "stdout",
     "output_type": "stream",
     "text": [
      "Epoch 44/100, Loss: 0.0044\n",
      "Validation Loss: 0.0091, Accuracenter_y: 99.58%\n",
      "confusion_matrix:\n",
      " [[1525    0    0]\n",
      " [   0 1474   13]\n",
      " [   0    6 1482]]\n",
      "Checkpoint saved at checkpoints/rotation_bool_dataset_model_epoch44.pth\n"
     ]
    },
    {
     "name": "stderr",
     "output_type": "stream",
     "text": [
      "Epoch 45/100: 100%|██████████| 329/329 [00:14<00:00, 23.10batch/s]\n"
     ]
    },
    {
     "name": "stdout",
     "output_type": "stream",
     "text": [
      "Epoch 45/100, Loss: 0.0052\n"
     ]
    },
    {
     "name": "stderr",
     "output_type": "stream",
     "text": [
      "Epoch 46/100: 100%|██████████| 329/329 [00:14<00:00, 23.12batch/s]\n"
     ]
    },
    {
     "name": "stdout",
     "output_type": "stream",
     "text": [
      "Epoch 46/100, Loss: 0.0052\n",
      "Validation Loss: 0.0097, Accuracenter_y: 99.62%\n",
      "confusion_matrix:\n",
      " [[1525    0    0]\n",
      " [   0 1473   14]\n",
      " [   0    3 1485]]\n",
      "Checkpoint saved at checkpoints/rotation_bool_dataset_model_epoch46.pth\n"
     ]
    },
    {
     "name": "stderr",
     "output_type": "stream",
     "text": [
      "Epoch 47/100: 100%|██████████| 329/329 [00:14<00:00, 22.57batch/s]\n"
     ]
    },
    {
     "name": "stdout",
     "output_type": "stream",
     "text": [
      "Epoch 47/100, Loss: 0.0017\n"
     ]
    },
    {
     "name": "stderr",
     "output_type": "stream",
     "text": [
      "Epoch 48/100: 100%|██████████| 329/329 [00:15<00:00, 21.80batch/s]\n"
     ]
    },
    {
     "name": "stdout",
     "output_type": "stream",
     "text": [
      "Epoch 48/100, Loss: 0.0007\n",
      "Validation Loss: 0.0087, Accuracenter_y: 99.62%\n",
      "confusion_matrix:\n",
      " [[1525    0    0]\n",
      " [   0 1478    9]\n",
      " [   0    8 1480]]\n",
      "Checkpoint saved at checkpoints/rotation_bool_dataset_model_epoch48.pth\n"
     ]
    },
    {
     "name": "stderr",
     "output_type": "stream",
     "text": [
      "Epoch 49/100: 100%|██████████| 329/329 [00:14<00:00, 22.78batch/s]\n"
     ]
    },
    {
     "name": "stdout",
     "output_type": "stream",
     "text": [
      "Epoch 49/100, Loss: 0.0003\n"
     ]
    },
    {
     "name": "stderr",
     "output_type": "stream",
     "text": [
      "Epoch 50/100: 100%|██████████| 329/329 [00:14<00:00, 22.60batch/s]\n"
     ]
    },
    {
     "name": "stdout",
     "output_type": "stream",
     "text": [
      "Epoch 50/100, Loss: 0.0238\n",
      "Validation Loss: 9.1709, Accuracenter_y: 68.60%\n",
      "confusion_matrix:\n",
      " [[1523    0    2]\n",
      " [1060   76  351]\n",
      " [   0    0 1488]]\n",
      "Checkpoint saved at checkpoints/rotation_bool_dataset_model_epoch50.pth\n"
     ]
    },
    {
     "name": "stderr",
     "output_type": "stream",
     "text": [
      "Epoch 51/100: 100%|██████████| 329/329 [00:15<00:00, 21.68batch/s]\n"
     ]
    },
    {
     "name": "stdout",
     "output_type": "stream",
     "text": [
      "Epoch 51/100, Loss: 0.0135\n"
     ]
    },
    {
     "name": "stderr",
     "output_type": "stream",
     "text": [
      "Epoch 52/100: 100%|██████████| 329/329 [00:15<00:00, 21.73batch/s]\n"
     ]
    },
    {
     "name": "stdout",
     "output_type": "stream",
     "text": [
      "Epoch 52/100, Loss: 0.0044\n",
      "Validation Loss: 0.0399, Accuracenter_y: 99.27%\n",
      "confusion_matrix:\n",
      " [[1525    0    0]\n",
      " [   0 1454   33]\n",
      " [   0    0 1488]]\n",
      "Checkpoint saved at checkpoints/rotation_bool_dataset_model_epoch52.pth\n"
     ]
    },
    {
     "name": "stderr",
     "output_type": "stream",
     "text": [
      "Epoch 53/100: 100%|██████████| 329/329 [00:15<00:00, 21.91batch/s]\n"
     ]
    },
    {
     "name": "stdout",
     "output_type": "stream",
     "text": [
      "Epoch 53/100, Loss: 0.0007\n"
     ]
    },
    {
     "name": "stderr",
     "output_type": "stream",
     "text": [
      "Epoch 54/100: 100%|██████████| 329/329 [00:14<00:00, 22.98batch/s]\n"
     ]
    },
    {
     "name": "stdout",
     "output_type": "stream",
     "text": [
      "Epoch 54/100, Loss: 0.0003\n",
      "Validation Loss: 0.0141, Accuracenter_y: 99.49%\n",
      "confusion_matrix:\n",
      " [[1525    0    0]\n",
      " [   0 1475   12]\n",
      " [   0   11 1477]]\n",
      "Checkpoint saved at checkpoints/rotation_bool_dataset_model_epoch54.pth\n"
     ]
    },
    {
     "name": "stderr",
     "output_type": "stream",
     "text": [
      "Epoch 55/100: 100%|██████████| 329/329 [00:14<00:00, 22.55batch/s]\n"
     ]
    },
    {
     "name": "stdout",
     "output_type": "stream",
     "text": [
      "Epoch 55/100, Loss: 0.0002\n"
     ]
    },
    {
     "name": "stderr",
     "output_type": "stream",
     "text": [
      "Epoch 56/100: 100%|██████████| 329/329 [00:14<00:00, 22.35batch/s]\n"
     ]
    },
    {
     "name": "stdout",
     "output_type": "stream",
     "text": [
      "Epoch 56/100, Loss: 0.0002\n",
      "Validation Loss: 0.0132, Accuracenter_y: 99.58%\n",
      "confusion_matrix:\n",
      " [[1525    0    0]\n",
      " [   0 1474   13]\n",
      " [   0    6 1482]]\n",
      "Checkpoint saved at checkpoints/rotation_bool_dataset_model_epoch56.pth\n"
     ]
    },
    {
     "name": "stderr",
     "output_type": "stream",
     "text": [
      "Epoch 57/100: 100%|██████████| 329/329 [00:15<00:00, 20.98batch/s]\n"
     ]
    },
    {
     "name": "stdout",
     "output_type": "stream",
     "text": [
      "Epoch 57/100, Loss: 0.0001\n"
     ]
    },
    {
     "name": "stderr",
     "output_type": "stream",
     "text": [
      "Epoch 58/100: 100%|██████████| 329/329 [00:14<00:00, 22.58batch/s]\n"
     ]
    },
    {
     "name": "stdout",
     "output_type": "stream",
     "text": [
      "Epoch 58/100, Loss: 0.0001\n",
      "Validation Loss: 0.0140, Accuracenter_y: 99.53%\n",
      "confusion_matrix:\n",
      " [[1525    0    0]\n",
      " [   0 1474   13]\n",
      " [   0    8 1480]]\n",
      "Checkpoint saved at checkpoints/rotation_bool_dataset_model_epoch58.pth\n"
     ]
    },
    {
     "name": "stderr",
     "output_type": "stream",
     "text": [
      "Epoch 59/100: 100%|██████████| 329/329 [00:14<00:00, 22.16batch/s]\n"
     ]
    },
    {
     "name": "stdout",
     "output_type": "stream",
     "text": [
      "Epoch 59/100, Loss: 0.0001\n"
     ]
    },
    {
     "name": "stderr",
     "output_type": "stream",
     "text": [
      "Epoch 60/100: 100%|██████████| 329/329 [00:14<00:00, 22.53batch/s]\n"
     ]
    },
    {
     "name": "stdout",
     "output_type": "stream",
     "text": [
      "Epoch 60/100, Loss: 0.0001\n",
      "Validation Loss: 0.0156, Accuracenter_y: 99.56%\n",
      "confusion_matrix:\n",
      " [[1525    0    0]\n",
      " [   0 1473   14]\n",
      " [   0    6 1482]]\n",
      "Checkpoint saved at checkpoints/rotation_bool_dataset_model_epoch60.pth\n"
     ]
    },
    {
     "name": "stderr",
     "output_type": "stream",
     "text": [
      "Epoch 61/100: 100%|██████████| 329/329 [00:15<00:00, 21.56batch/s]\n"
     ]
    },
    {
     "name": "stdout",
     "output_type": "stream",
     "text": [
      "Epoch 61/100, Loss: 0.0001\n"
     ]
    },
    {
     "name": "stderr",
     "output_type": "stream",
     "text": [
      "Epoch 62/100: 100%|██████████| 329/329 [00:14<00:00, 22.26batch/s]\n"
     ]
    },
    {
     "name": "stdout",
     "output_type": "stream",
     "text": [
      "Epoch 62/100, Loss: 0.0008\n",
      "Validation Loss: 71.0140, Accuracenter_y: 45.93%\n",
      "confusion_matrix:\n",
      " [[ 585    0  940]\n",
      " [ 417    0 1070]\n",
      " [   6    0 1482]]\n",
      "Checkpoint saved at checkpoints/rotation_bool_dataset_model_epoch62.pth\n"
     ]
    },
    {
     "name": "stderr",
     "output_type": "stream",
     "text": [
      "Epoch 63/100: 100%|██████████| 329/329 [00:15<00:00, 21.54batch/s]\n"
     ]
    },
    {
     "name": "stdout",
     "output_type": "stream",
     "text": [
      "Epoch 63/100, Loss: 0.0378\n"
     ]
    },
    {
     "name": "stderr",
     "output_type": "stream",
     "text": [
      "Epoch 64/100: 100%|██████████| 329/329 [00:14<00:00, 22.18batch/s]\n"
     ]
    },
    {
     "name": "stdout",
     "output_type": "stream",
     "text": [
      "Epoch 64/100, Loss: 0.0091\n",
      "Validation Loss: 0.0162, Accuracenter_y: 99.47%\n",
      "confusion_matrix:\n",
      " [[1525    0    0]\n",
      " [   0 1471   16]\n",
      " [   4    4 1480]]\n",
      "Checkpoint saved at checkpoints/rotation_bool_dataset_model_epoch64.pth\n"
     ]
    },
    {
     "name": "stderr",
     "output_type": "stream",
     "text": [
      "Epoch 65/100: 100%|██████████| 329/329 [00:15<00:00, 20.86batch/s]\n"
     ]
    },
    {
     "name": "stdout",
     "output_type": "stream",
     "text": [
      "Epoch 65/100, Loss: 0.0011\n"
     ]
    },
    {
     "name": "stderr",
     "output_type": "stream",
     "text": [
      "Epoch 66/100: 100%|██████████| 329/329 [00:15<00:00, 21.21batch/s]\n"
     ]
    },
    {
     "name": "stdout",
     "output_type": "stream",
     "text": [
      "Epoch 66/100, Loss: 0.0003\n",
      "Validation Loss: 0.0123, Accuracenter_y: 99.62%\n",
      "confusion_matrix:\n",
      " [[1525    0    0]\n",
      " [   0 1474   13]\n",
      " [   0    4 1484]]\n",
      "Checkpoint saved at checkpoints/rotation_bool_dataset_model_epoch66.pth\n"
     ]
    },
    {
     "name": "stderr",
     "output_type": "stream",
     "text": [
      "Epoch 67/100: 100%|██████████| 329/329 [00:15<00:00, 21.55batch/s]\n"
     ]
    },
    {
     "name": "stdout",
     "output_type": "stream",
     "text": [
      "Epoch 67/100, Loss: 0.0001\n"
     ]
    },
    {
     "name": "stderr",
     "output_type": "stream",
     "text": [
      "Epoch 68/100: 100%|██████████| 329/329 [00:15<00:00, 21.44batch/s]\n"
     ]
    },
    {
     "name": "stdout",
     "output_type": "stream",
     "text": [
      "Epoch 68/100, Loss: 0.0001\n",
      "Validation Loss: 0.0167, Accuracenter_y: 99.60%\n",
      "confusion_matrix:\n",
      " [[1525    0    0]\n",
      " [   0 1473   14]\n",
      " [   0    4 1484]]\n",
      "Checkpoint saved at checkpoints/rotation_bool_dataset_model_epoch68.pth\n"
     ]
    },
    {
     "name": "stderr",
     "output_type": "stream",
     "text": [
      "Epoch 69/100: 100%|██████████| 329/329 [00:15<00:00, 21.51batch/s]\n"
     ]
    },
    {
     "name": "stdout",
     "output_type": "stream",
     "text": [
      "Epoch 69/100, Loss: 0.0001\n"
     ]
    },
    {
     "name": "stderr",
     "output_type": "stream",
     "text": [
      "Epoch 70/100: 100%|██████████| 329/329 [00:14<00:00, 22.54batch/s]\n"
     ]
    },
    {
     "name": "stdout",
     "output_type": "stream",
     "text": [
      "Epoch 70/100, Loss: 0.0001\n",
      "Validation Loss: 0.0139, Accuracenter_y: 99.64%\n",
      "confusion_matrix:\n",
      " [[1525    0    0]\n",
      " [   0 1477   10]\n",
      " [   0    6 1482]]\n",
      "Checkpoint saved at checkpoints/rotation_bool_dataset_model_epoch70.pth\n"
     ]
    },
    {
     "name": "stderr",
     "output_type": "stream",
     "text": [
      "Epoch 71/100: 100%|██████████| 329/329 [00:15<00:00, 21.83batch/s]\n"
     ]
    },
    {
     "name": "stdout",
     "output_type": "stream",
     "text": [
      "Epoch 71/100, Loss: 0.0005\n"
     ]
    },
    {
     "name": "stderr",
     "output_type": "stream",
     "text": [
      "Epoch 72/100: 100%|██████████| 329/329 [00:15<00:00, 21.13batch/s]\n"
     ]
    },
    {
     "name": "stdout",
     "output_type": "stream",
     "text": [
      "Epoch 72/100, Loss: 0.0002\n",
      "Validation Loss: 0.0155, Accuracenter_y: 99.64%\n",
      "confusion_matrix:\n",
      " [[1525    0    0]\n",
      " [   0 1477   10]\n",
      " [   0    6 1482]]\n",
      "Checkpoint saved at checkpoints/rotation_bool_dataset_model_epoch72.pth\n"
     ]
    },
    {
     "name": "stderr",
     "output_type": "stream",
     "text": [
      "Epoch 73/100: 100%|██████████| 329/329 [00:14<00:00, 22.54batch/s]\n"
     ]
    },
    {
     "name": "stdout",
     "output_type": "stream",
     "text": [
      "Epoch 73/100, Loss: 0.0000\n"
     ]
    },
    {
     "name": "stderr",
     "output_type": "stream",
     "text": [
      "Epoch 74/100: 100%|██████████| 329/329 [00:15<00:00, 21.74batch/s]\n"
     ]
    },
    {
     "name": "stdout",
     "output_type": "stream",
     "text": [
      "Epoch 74/100, Loss: 0.0000\n",
      "Validation Loss: 0.0161, Accuracenter_y: 99.64%\n",
      "confusion_matrix:\n",
      " [[1525    0    0]\n",
      " [   0 1477   10]\n",
      " [   0    6 1482]]\n",
      "Checkpoint saved at checkpoints/rotation_bool_dataset_model_epoch74.pth\n"
     ]
    },
    {
     "name": "stderr",
     "output_type": "stream",
     "text": [
      "Epoch 75/100: 100%|██████████| 329/329 [00:14<00:00, 22.00batch/s]\n"
     ]
    },
    {
     "name": "stdout",
     "output_type": "stream",
     "text": [
      "Epoch 75/100, Loss: 0.0000\n"
     ]
    },
    {
     "name": "stderr",
     "output_type": "stream",
     "text": [
      "Epoch 76/100: 100%|██████████| 329/329 [00:14<00:00, 22.35batch/s]\n"
     ]
    },
    {
     "name": "stdout",
     "output_type": "stream",
     "text": [
      "Epoch 76/100, Loss: 0.0000\n",
      "Validation Loss: 0.0165, Accuracenter_y: 99.62%\n",
      "confusion_matrix:\n",
      " [[1525    0    0]\n",
      " [   0 1476   11]\n",
      " [   0    6 1482]]\n",
      "Checkpoint saved at checkpoints/rotation_bool_dataset_model_epoch76.pth\n"
     ]
    },
    {
     "name": "stderr",
     "output_type": "stream",
     "text": [
      "Epoch 77/100: 100%|██████████| 329/329 [00:14<00:00, 22.21batch/s]\n"
     ]
    },
    {
     "name": "stdout",
     "output_type": "stream",
     "text": [
      "Epoch 77/100, Loss: 0.0000\n"
     ]
    },
    {
     "name": "stderr",
     "output_type": "stream",
     "text": [
      "Epoch 78/100: 100%|██████████| 329/329 [00:14<00:00, 21.97batch/s]\n"
     ]
    },
    {
     "name": "stdout",
     "output_type": "stream",
     "text": [
      "Epoch 78/100, Loss: 0.0000\n",
      "Validation Loss: 0.0178, Accuracenter_y: 99.60%\n",
      "confusion_matrix:\n",
      " [[1525    0    0]\n",
      " [   0 1475   12]\n",
      " [   0    6 1482]]\n",
      "Checkpoint saved at checkpoints/rotation_bool_dataset_model_epoch78.pth\n"
     ]
    },
    {
     "name": "stderr",
     "output_type": "stream",
     "text": [
      "Epoch 79/100: 100%|██████████| 329/329 [00:15<00:00, 20.98batch/s]\n"
     ]
    },
    {
     "name": "stdout",
     "output_type": "stream",
     "text": [
      "Epoch 79/100, Loss: 0.0000\n"
     ]
    },
    {
     "name": "stderr",
     "output_type": "stream",
     "text": [
      "Epoch 80/100: 100%|██████████| 329/329 [00:14<00:00, 22.34batch/s]\n"
     ]
    },
    {
     "name": "stdout",
     "output_type": "stream",
     "text": [
      "Epoch 80/100, Loss: 0.0001\n",
      "Validation Loss: 21.1413, Accuracenter_y: 66.18%\n",
      "confusion_matrix:\n",
      " [[1525    0    0]\n",
      " [1292    2  193]\n",
      " [  37    0 1451]]\n",
      "Checkpoint saved at checkpoints/rotation_bool_dataset_model_epoch80.pth\n"
     ]
    },
    {
     "name": "stderr",
     "output_type": "stream",
     "text": [
      "Epoch 81/100: 100%|██████████| 329/329 [00:14<00:00, 22.06batch/s]\n"
     ]
    },
    {
     "name": "stdout",
     "output_type": "stream",
     "text": [
      "Epoch 81/100, Loss: 0.0454\n"
     ]
    },
    {
     "name": "stderr",
     "output_type": "stream",
     "text": [
      "Epoch 82/100: 100%|██████████| 329/329 [00:15<00:00, 21.56batch/s]\n"
     ]
    },
    {
     "name": "stdout",
     "output_type": "stream",
     "text": [
      "Epoch 82/100, Loss: 0.0007\n",
      "Validation Loss: 0.0132, Accuracenter_y: 99.58%\n",
      "confusion_matrix:\n",
      " [[1525    0    0]\n",
      " [   0 1470   17]\n",
      " [   0    2 1486]]\n",
      "Checkpoint saved at checkpoints/rotation_bool_dataset_model_epoch82.pth\n"
     ]
    },
    {
     "name": "stderr",
     "output_type": "stream",
     "text": [
      "Epoch 83/100: 100%|██████████| 329/329 [00:14<00:00, 22.62batch/s]\n"
     ]
    },
    {
     "name": "stdout",
     "output_type": "stream",
     "text": [
      "Epoch 83/100, Loss: 0.0001\n"
     ]
    },
    {
     "name": "stderr",
     "output_type": "stream",
     "text": [
      "Epoch 84/100: 100%|██████████| 329/329 [00:15<00:00, 21.83batch/s]\n"
     ]
    },
    {
     "name": "stdout",
     "output_type": "stream",
     "text": [
      "Epoch 84/100, Loss: 0.0000\n",
      "Validation Loss: 0.0118, Accuracenter_y: 99.67%\n",
      "confusion_matrix:\n",
      " [[1525    0    0]\n",
      " [   0 1475   12]\n",
      " [   0    3 1485]]\n",
      "Checkpoint saved at checkpoints/rotation_bool_dataset_model_epoch84.pth\n"
     ]
    },
    {
     "name": "stderr",
     "output_type": "stream",
     "text": [
      "Epoch 85/100: 100%|██████████| 329/329 [00:14<00:00, 22.55batch/s]\n"
     ]
    },
    {
     "name": "stdout",
     "output_type": "stream",
     "text": [
      "Epoch 85/100, Loss: 0.0000\n"
     ]
    },
    {
     "name": "stderr",
     "output_type": "stream",
     "text": [
      "Epoch 86/100: 100%|██████████| 329/329 [00:14<00:00, 22.90batch/s]\n"
     ]
    },
    {
     "name": "stdout",
     "output_type": "stream",
     "text": [
      "Epoch 86/100, Loss: 0.0000\n",
      "Validation Loss: 0.0133, Accuracenter_y: 99.67%\n",
      "confusion_matrix:\n",
      " [[1525    0    0]\n",
      " [   0 1475   12]\n",
      " [   0    3 1485]]\n",
      "Checkpoint saved at checkpoints/rotation_bool_dataset_model_epoch86.pth\n"
     ]
    },
    {
     "name": "stderr",
     "output_type": "stream",
     "text": [
      "Epoch 87/100: 100%|██████████| 329/329 [00:15<00:00, 21.17batch/s]\n"
     ]
    },
    {
     "name": "stdout",
     "output_type": "stream",
     "text": [
      "Epoch 87/100, Loss: 0.0000\n"
     ]
    },
    {
     "name": "stderr",
     "output_type": "stream",
     "text": [
      "Epoch 88/100: 100%|██████████| 329/329 [00:14<00:00, 22.26batch/s]\n"
     ]
    },
    {
     "name": "stdout",
     "output_type": "stream",
     "text": [
      "Epoch 88/100, Loss: 0.0000\n",
      "Validation Loss: 0.0126, Accuracenter_y: 99.64%\n",
      "confusion_matrix:\n",
      " [[1525    0    0]\n",
      " [   0 1476   11]\n",
      " [   0    5 1483]]\n",
      "Checkpoint saved at checkpoints/rotation_bool_dataset_model_epoch88.pth\n"
     ]
    },
    {
     "name": "stderr",
     "output_type": "stream",
     "text": [
      "Epoch 89/100: 100%|██████████| 329/329 [00:15<00:00, 21.23batch/s]\n"
     ]
    },
    {
     "name": "stdout",
     "output_type": "stream",
     "text": [
      "Epoch 89/100, Loss: 0.0000\n"
     ]
    },
    {
     "name": "stderr",
     "output_type": "stream",
     "text": [
      "Epoch 90/100: 100%|██████████| 329/329 [00:15<00:00, 21.51batch/s]\n"
     ]
    },
    {
     "name": "stdout",
     "output_type": "stream",
     "text": [
      "Epoch 90/100, Loss: 0.0000\n",
      "Validation Loss: 0.0139, Accuracenter_y: 99.60%\n",
      "confusion_matrix:\n",
      " [[1525    0    0]\n",
      " [   0 1473   14]\n",
      " [   0    4 1484]]\n",
      "Checkpoint saved at checkpoints/rotation_bool_dataset_model_epoch90.pth\n"
     ]
    },
    {
     "name": "stderr",
     "output_type": "stream",
     "text": [
      "Epoch 91/100: 100%|██████████| 329/329 [00:15<00:00, 21.80batch/s]\n"
     ]
    },
    {
     "name": "stdout",
     "output_type": "stream",
     "text": [
      "Epoch 91/100, Loss: 0.0000\n"
     ]
    },
    {
     "name": "stderr",
     "output_type": "stream",
     "text": [
      "Epoch 92/100: 100%|██████████| 329/329 [00:14<00:00, 22.00batch/s]\n"
     ]
    },
    {
     "name": "stdout",
     "output_type": "stream",
     "text": [
      "Epoch 92/100, Loss: 0.0000\n",
      "Validation Loss: 0.0139, Accuracenter_y: 99.60%\n",
      "confusion_matrix:\n",
      " [[1525    0    0]\n",
      " [   0 1473   14]\n",
      " [   0    4 1484]]\n",
      "Checkpoint saved at checkpoints/rotation_bool_dataset_model_epoch92.pth\n"
     ]
    },
    {
     "name": "stderr",
     "output_type": "stream",
     "text": [
      "Epoch 93/100: 100%|██████████| 329/329 [00:15<00:00, 21.66batch/s]\n"
     ]
    },
    {
     "name": "stdout",
     "output_type": "stream",
     "text": [
      "Epoch 93/100, Loss: 0.0000\n"
     ]
    },
    {
     "name": "stderr",
     "output_type": "stream",
     "text": [
      "Epoch 94/100: 100%|██████████| 329/329 [00:14<00:00, 22.81batch/s]\n"
     ]
    },
    {
     "name": "stdout",
     "output_type": "stream",
     "text": [
      "Epoch 94/100, Loss: 0.0000\n",
      "Validation Loss: 0.0135, Accuracenter_y: 99.64%\n",
      "confusion_matrix:\n",
      " [[1525    0    0]\n",
      " [   0 1477   10]\n",
      " [   0    6 1482]]\n",
      "Checkpoint saved at checkpoints/rotation_bool_dataset_model_epoch94.pth\n"
     ]
    },
    {
     "name": "stderr",
     "output_type": "stream",
     "text": [
      "Epoch 95/100: 100%|██████████| 329/329 [00:14<00:00, 22.56batch/s]\n"
     ]
    },
    {
     "name": "stdout",
     "output_type": "stream",
     "text": [
      "Epoch 95/100, Loss: 0.0000\n"
     ]
    },
    {
     "name": "stderr",
     "output_type": "stream",
     "text": [
      "Epoch 96/100: 100%|██████████| 329/329 [00:14<00:00, 22.03batch/s]\n"
     ]
    },
    {
     "name": "stdout",
     "output_type": "stream",
     "text": [
      "Epoch 96/100, Loss: 0.0000\n",
      "Validation Loss: 0.0134, Accuracenter_y: 99.64%\n",
      "confusion_matrix:\n",
      " [[1525    0    0]\n",
      " [   0 1476   11]\n",
      " [   0    5 1483]]\n",
      "Checkpoint saved at checkpoints/rotation_bool_dataset_model_epoch96.pth\n"
     ]
    },
    {
     "name": "stderr",
     "output_type": "stream",
     "text": [
      "Epoch 97/100: 100%|██████████| 329/329 [00:15<00:00, 21.74batch/s]\n"
     ]
    },
    {
     "name": "stdout",
     "output_type": "stream",
     "text": [
      "Epoch 97/100, Loss: 0.0000\n"
     ]
    },
    {
     "name": "stderr",
     "output_type": "stream",
     "text": [
      "Epoch 98/100: 100%|██████████| 329/329 [00:14<00:00, 22.76batch/s]\n"
     ]
    },
    {
     "name": "stdout",
     "output_type": "stream",
     "text": [
      "Epoch 98/100, Loss: 0.0330\n",
      "Validation Loss: 0.0213, Accuracenter_y: 99.64%\n",
      "confusion_matrix:\n",
      " [[1525    0    0]\n",
      " [   0 1476   11]\n",
      " [   2    3 1483]]\n",
      "Checkpoint saved at checkpoints/rotation_bool_dataset_model_epoch98.pth\n"
     ]
    },
    {
     "name": "stderr",
     "output_type": "stream",
     "text": [
      "Epoch 99/100: 100%|██████████| 329/329 [00:14<00:00, 22.12batch/s]\n"
     ]
    },
    {
     "name": "stdout",
     "output_type": "stream",
     "text": [
      "Epoch 99/100, Loss: 0.0001\n"
     ]
    },
    {
     "name": "stderr",
     "output_type": "stream",
     "text": [
      "Epoch 100/100: 100%|██████████| 329/329 [00:14<00:00, 23.12batch/s]\n"
     ]
    },
    {
     "name": "stdout",
     "output_type": "stream",
     "text": [
      "Epoch 100/100, Loss: 0.0000\n",
      "Validation Loss: 0.0127, Accuracenter_y: 99.67%\n",
      "confusion_matrix:\n",
      " [[1525    0    0]\n",
      " [   0 1479    8]\n",
      " [   0    7 1481]]\n",
      "Checkpoint saved at checkpoints/rotation_bool_dataset_model_epoch100.pth\n"
     ]
    },
    {
     "name": "stderr",
     "output_type": "stream",
     "text": [
      "Epoch 1/100: 100%|██████████| 329/329 [00:14<00:00, 22.16batch/s]\n"
     ]
    },
    {
     "name": "stdout",
     "output_type": "stream",
     "text": [
      "Epoch 1/100, Loss: 1.4346\n"
     ]
    },
    {
     "name": "stderr",
     "output_type": "stream",
     "text": [
      "Epoch 2/100: 100%|██████████| 329/329 [00:14<00:00, 22.10batch/s]\n"
     ]
    },
    {
     "name": "stdout",
     "output_type": "stream",
     "text": [
      "Epoch 2/100, Loss: 0.9971\n",
      "Validation Loss: 12.7046, Accuracenter_y: 33.62%\n",
      "confusion_matrix:\n",
      " [[   4    0 1491]\n",
      " [  12   25 1484]\n",
      " [   0    0 1484]]\n",
      "Checkpoint saved at checkpoints/hard_dataset_model_epoch2.pth\n"
     ]
    },
    {
     "name": "stderr",
     "output_type": "stream",
     "text": [
      "Epoch 3/100: 100%|██████████| 329/329 [00:14<00:00, 22.39batch/s]\n"
     ]
    },
    {
     "name": "stdout",
     "output_type": "stream",
     "text": [
      "Epoch 3/100, Loss: 0.2840\n"
     ]
    },
    {
     "name": "stderr",
     "output_type": "stream",
     "text": [
      "Epoch 4/100: 100%|██████████| 329/329 [00:14<00:00, 22.36batch/s]\n"
     ]
    },
    {
     "name": "stdout",
     "output_type": "stream",
     "text": [
      "Epoch 4/100, Loss: 0.1410\n",
      "Validation Loss: 4.9754, Accuracenter_y: 47.67%\n",
      "confusion_matrix:\n",
      " [[ 321    0 1174]\n",
      " [ 382  341  798]\n",
      " [   1    0 1483]]\n",
      "Checkpoint saved at checkpoints/hard_dataset_model_epoch4.pth\n"
     ]
    },
    {
     "name": "stderr",
     "output_type": "stream",
     "text": [
      "Epoch 5/100: 100%|██████████| 329/329 [00:14<00:00, 22.42batch/s]\n"
     ]
    },
    {
     "name": "stdout",
     "output_type": "stream",
     "text": [
      "Epoch 5/100, Loss: 0.1049\n"
     ]
    },
    {
     "name": "stderr",
     "output_type": "stream",
     "text": [
      "Epoch 6/100: 100%|██████████| 329/329 [00:14<00:00, 22.49batch/s]\n"
     ]
    },
    {
     "name": "stdout",
     "output_type": "stream",
     "text": [
      "Epoch 6/100, Loss: 0.0646\n",
      "Validation Loss: 2.3908, Accuracenter_y: 69.84%\n",
      "confusion_matrix:\n",
      " [[ 149   19 1327]\n",
      " [   0 1514    7]\n",
      " [   0    4 1480]]\n",
      "Checkpoint saved at checkpoints/hard_dataset_model_epoch6.pth\n"
     ]
    },
    {
     "name": "stderr",
     "output_type": "stream",
     "text": [
      "Epoch 7/100: 100%|██████████| 329/329 [00:14<00:00, 23.10batch/s]\n"
     ]
    },
    {
     "name": "stdout",
     "output_type": "stream",
     "text": [
      "Epoch 7/100, Loss: 0.0782\n"
     ]
    },
    {
     "name": "stderr",
     "output_type": "stream",
     "text": [
      "Epoch 8/100: 100%|██████████| 329/329 [00:14<00:00, 22.24batch/s]\n"
     ]
    },
    {
     "name": "stdout",
     "output_type": "stream",
     "text": [
      "Epoch 8/100, Loss: 0.0429\n",
      "Validation Loss: 32.4221, Accuracenter_y: 37.44%\n",
      "confusion_matrix:\n",
      " [[ 118    0 1377]\n",
      " [  58   83 1380]\n",
      " [   0    0 1484]]\n",
      "Checkpoint saved at checkpoints/hard_dataset_model_epoch8.pth\n"
     ]
    },
    {
     "name": "stderr",
     "output_type": "stream",
     "text": [
      "Epoch 9/100: 100%|██████████| 329/329 [00:16<00:00, 19.47batch/s]\n"
     ]
    },
    {
     "name": "stdout",
     "output_type": "stream",
     "text": [
      "Epoch 9/100, Loss: 0.0367\n"
     ]
    },
    {
     "name": "stderr",
     "output_type": "stream",
     "text": [
      "Epoch 10/100: 100%|██████████| 329/329 [00:16<00:00, 20.14batch/s]\n"
     ]
    },
    {
     "name": "stdout",
     "output_type": "stream",
     "text": [
      "Epoch 10/100, Loss: 0.0299\n",
      "Validation Loss: 2.0325, Accuracenter_y: 78.22%\n",
      "confusion_matrix:\n",
      " [[1060  435    0]\n",
      " [   0 1521    0]\n",
      " [ 360  185  939]]\n",
      "Checkpoint saved at checkpoints/hard_dataset_model_epoch10.pth\n"
     ]
    },
    {
     "name": "stderr",
     "output_type": "stream",
     "text": [
      "Epoch 11/100: 100%|██████████| 329/329 [00:16<00:00, 20.11batch/s]\n"
     ]
    },
    {
     "name": "stdout",
     "output_type": "stream",
     "text": [
      "Epoch 11/100, Loss: 0.0578\n"
     ]
    },
    {
     "name": "stderr",
     "output_type": "stream",
     "text": [
      "Epoch 12/100: 100%|██████████| 329/329 [00:16<00:00, 20.51batch/s]\n"
     ]
    },
    {
     "name": "stdout",
     "output_type": "stream",
     "text": [
      "Epoch 12/100, Loss: 0.0219\n",
      "Validation Loss: 0.4369, Accuracenter_y: 91.40%\n",
      "confusion_matrix:\n",
      " [[1387  108    0]\n",
      " [   0 1521    0]\n",
      " [ 216   63 1205]]\n",
      "Checkpoint saved at checkpoints/hard_dataset_model_epoch12.pth\n"
     ]
    },
    {
     "name": "stderr",
     "output_type": "stream",
     "text": [
      "Epoch 13/100: 100%|██████████| 329/329 [00:14<00:00, 23.01batch/s]\n"
     ]
    },
    {
     "name": "stdout",
     "output_type": "stream",
     "text": [
      "Epoch 13/100, Loss: 0.0139\n"
     ]
    },
    {
     "name": "stderr",
     "output_type": "stream",
     "text": [
      "Epoch 14/100: 100%|██████████| 329/329 [00:14<00:00, 22.92batch/s]\n"
     ]
    },
    {
     "name": "stdout",
     "output_type": "stream",
     "text": [
      "Epoch 14/100, Loss: 0.0206\n",
      "Validation Loss: 21.9170, Accuracenter_y: 44.27%\n",
      "confusion_matrix:\n",
      " [[ 274    0 1221]\n",
      " [  48  234 1239]\n",
      " [   0    0 1484]]\n",
      "Checkpoint saved at checkpoints/hard_dataset_model_epoch14.pth\n"
     ]
    },
    {
     "name": "stderr",
     "output_type": "stream",
     "text": [
      "Epoch 15/100: 100%|██████████| 329/329 [00:14<00:00, 22.52batch/s]\n"
     ]
    },
    {
     "name": "stdout",
     "output_type": "stream",
     "text": [
      "Epoch 15/100, Loss: 0.0503\n"
     ]
    },
    {
     "name": "stderr",
     "output_type": "stream",
     "text": [
      "Epoch 16/100: 100%|██████████| 329/329 [00:13<00:00, 23.65batch/s]\n"
     ]
    },
    {
     "name": "stdout",
     "output_type": "stream",
     "text": [
      "Epoch 16/100, Loss: 0.0196\n",
      "Validation Loss: 2.7076, Accuracenter_y: 67.78%\n",
      "confusion_matrix:\n",
      " [[ 448    1 1046]\n",
      " [   0 1118  403]\n",
      " [   0    0 1484]]\n",
      "Checkpoint saved at checkpoints/hard_dataset_model_epoch16.pth\n"
     ]
    },
    {
     "name": "stderr",
     "output_type": "stream",
     "text": [
      "Epoch 17/100: 100%|██████████| 329/329 [00:15<00:00, 21.66batch/s]\n"
     ]
    },
    {
     "name": "stdout",
     "output_type": "stream",
     "text": [
      "Epoch 17/100, Loss: 0.0122\n"
     ]
    },
    {
     "name": "stderr",
     "output_type": "stream",
     "text": [
      "Epoch 18/100: 100%|██████████| 329/329 [00:14<00:00, 22.42batch/s]\n"
     ]
    },
    {
     "name": "stdout",
     "output_type": "stream",
     "text": [
      "Epoch 18/100, Loss: 0.0123\n",
      "Validation Loss: 0.0859, Accuracenter_y: 97.53%\n",
      "confusion_matrix:\n",
      " [[1452    0   43]\n",
      " [   7 1504   10]\n",
      " [  50    1 1433]]\n",
      "Checkpoint saved at checkpoints/hard_dataset_model_epoch18.pth\n"
     ]
    },
    {
     "name": "stderr",
     "output_type": "stream",
     "text": [
      "Epoch 19/100: 100%|██████████| 329/329 [00:14<00:00, 22.99batch/s]\n"
     ]
    },
    {
     "name": "stdout",
     "output_type": "stream",
     "text": [
      "Epoch 19/100, Loss: 0.0113\n"
     ]
    },
    {
     "name": "stderr",
     "output_type": "stream",
     "text": [
      "Epoch 20/100: 100%|██████████| 329/329 [00:14<00:00, 23.22batch/s]\n"
     ]
    },
    {
     "name": "stdout",
     "output_type": "stream",
     "text": [
      "Epoch 20/100, Loss: 0.0267\n",
      "Validation Loss: 1.2266, Accuracenter_y: 79.58%\n",
      "confusion_matrix:\n",
      " [[ 610    3  882]\n",
      " [   0 1493   28]\n",
      " [   4    2 1478]]\n",
      "Checkpoint saved at checkpoints/hard_dataset_model_epoch20.pth\n"
     ]
    },
    {
     "name": "stderr",
     "output_type": "stream",
     "text": [
      "Epoch 21/100: 100%|██████████| 329/329 [00:15<00:00, 21.75batch/s]\n"
     ]
    },
    {
     "name": "stdout",
     "output_type": "stream",
     "text": [
      "Epoch 21/100, Loss: 0.0070\n"
     ]
    },
    {
     "name": "stderr",
     "output_type": "stream",
     "text": [
      "Epoch 22/100: 100%|██████████| 329/329 [00:16<00:00, 20.56batch/s]\n"
     ]
    },
    {
     "name": "stdout",
     "output_type": "stream",
     "text": [
      "Epoch 22/100, Loss: 0.0133\n",
      "Validation Loss: 33.0947, Accuracenter_y: 42.33%\n",
      "confusion_matrix:\n",
      " [[ 269    0 1226]\n",
      " [  55  152 1314]\n",
      " [   0    0 1484]]\n",
      "Checkpoint saved at checkpoints/hard_dataset_model_epoch22.pth\n"
     ]
    },
    {
     "name": "stderr",
     "output_type": "stream",
     "text": [
      "Epoch 23/100: 100%|██████████| 329/329 [00:14<00:00, 22.89batch/s]\n"
     ]
    },
    {
     "name": "stdout",
     "output_type": "stream",
     "text": [
      "Epoch 23/100, Loss: 0.0254\n"
     ]
    },
    {
     "name": "stderr",
     "output_type": "stream",
     "text": [
      "Epoch 24/100: 100%|██████████| 329/329 [00:15<00:00, 21.86batch/s]\n"
     ]
    },
    {
     "name": "stdout",
     "output_type": "stream",
     "text": [
      "Epoch 24/100, Loss: 0.0171\n",
      "Validation Loss: 4.6709, Accuracenter_y: 64.78%\n",
      "confusion_matrix:\n",
      " [[  93  760  642]\n",
      " [   0 1521    0]\n",
      " [   0  183 1301]]\n",
      "Checkpoint saved at checkpoints/hard_dataset_model_epoch24.pth\n"
     ]
    },
    {
     "name": "stderr",
     "output_type": "stream",
     "text": [
      "Epoch 25/100: 100%|██████████| 329/329 [00:15<00:00, 21.81batch/s]\n"
     ]
    },
    {
     "name": "stdout",
     "output_type": "stream",
     "text": [
      "Epoch 25/100, Loss: 0.0612\n"
     ]
    },
    {
     "name": "stderr",
     "output_type": "stream",
     "text": [
      "Epoch 26/100: 100%|██████████| 329/329 [00:14<00:00, 22.45batch/s]\n"
     ]
    },
    {
     "name": "stdout",
     "output_type": "stream",
     "text": [
      "Epoch 26/100, Loss: 0.0055\n",
      "Validation Loss: 0.0986, Accuracenter_y: 97.44%\n",
      "confusion_matrix:\n",
      " [[1475    5   15]\n",
      " [   3 1518    0]\n",
      " [  86    6 1392]]\n",
      "Checkpoint saved at checkpoints/hard_dataset_model_epoch26.pth\n"
     ]
    },
    {
     "name": "stderr",
     "output_type": "stream",
     "text": [
      "Epoch 27/100: 100%|██████████| 329/329 [00:14<00:00, 22.71batch/s]\n"
     ]
    },
    {
     "name": "stdout",
     "output_type": "stream",
     "text": [
      "Epoch 27/100, Loss: 0.0024\n"
     ]
    },
    {
     "name": "stderr",
     "output_type": "stream",
     "text": [
      "Epoch 28/100: 100%|██████████| 329/329 [00:14<00:00, 22.92batch/s]\n"
     ]
    },
    {
     "name": "stdout",
     "output_type": "stream",
     "text": [
      "Epoch 28/100, Loss: 0.0016\n",
      "Validation Loss: 0.1030, Accuracenter_y: 97.76%\n",
      "confusion_matrix:\n",
      " [[1478    7   10]\n",
      " [   1 1520    0]\n",
      " [  75    8 1401]]\n",
      "Checkpoint saved at checkpoints/hard_dataset_model_epoch28.pth\n"
     ]
    },
    {
     "name": "stderr",
     "output_type": "stream",
     "text": [
      "Epoch 29/100: 100%|██████████| 329/329 [00:13<00:00, 23.78batch/s]\n"
     ]
    },
    {
     "name": "stdout",
     "output_type": "stream",
     "text": [
      "Epoch 29/100, Loss: 0.0010\n"
     ]
    },
    {
     "name": "stderr",
     "output_type": "stream",
     "text": [
      "Epoch 30/100: 100%|██████████| 329/329 [00:14<00:00, 23.01batch/s]\n"
     ]
    },
    {
     "name": "stdout",
     "output_type": "stream",
     "text": [
      "Epoch 30/100, Loss: 0.0057\n",
      "Validation Loss: 4.8161, Accuracenter_y: 65.62%\n",
      "confusion_matrix:\n",
      " [[ 399    0 1096]\n",
      " [   0 1071  450]\n",
      " [   1    0 1483]]\n",
      "Checkpoint saved at checkpoints/hard_dataset_model_epoch30.pth\n"
     ]
    },
    {
     "name": "stderr",
     "output_type": "stream",
     "text": [
      "Epoch 31/100: 100%|██████████| 329/329 [00:14<00:00, 22.61batch/s]\n"
     ]
    },
    {
     "name": "stdout",
     "output_type": "stream",
     "text": [
      "Epoch 31/100, Loss: 0.0202\n"
     ]
    },
    {
     "name": "stderr",
     "output_type": "stream",
     "text": [
      "Epoch 32/100: 100%|██████████| 329/329 [00:15<00:00, 21.70batch/s]\n"
     ]
    },
    {
     "name": "stdout",
     "output_type": "stream",
     "text": [
      "Epoch 32/100, Loss: 0.0040\n",
      "Validation Loss: 0.0893, Accuracenter_y: 97.69%\n",
      "confusion_matrix:\n",
      " [[1456    0   39]\n",
      " [  13 1502    6]\n",
      " [  43    3 1438]]\n",
      "Checkpoint saved at checkpoints/hard_dataset_model_epoch32.pth\n"
     ]
    },
    {
     "name": "stderr",
     "output_type": "stream",
     "text": [
      "Epoch 33/100: 100%|██████████| 329/329 [00:14<00:00, 23.41batch/s]\n"
     ]
    },
    {
     "name": "stdout",
     "output_type": "stream",
     "text": [
      "Epoch 33/100, Loss: 0.0049\n"
     ]
    },
    {
     "name": "stderr",
     "output_type": "stream",
     "text": [
      "Epoch 34/100: 100%|██████████| 329/329 [00:14<00:00, 22.39batch/s]\n"
     ]
    },
    {
     "name": "stdout",
     "output_type": "stream",
     "text": [
      "Epoch 34/100, Loss: 0.0046\n",
      "Validation Loss: 0.0856, Accuracenter_y: 97.71%\n",
      "confusion_matrix:\n",
      " [[1447    0   48]\n",
      " [   4 1515    2]\n",
      " [  45    4 1435]]\n",
      "Checkpoint saved at checkpoints/hard_dataset_model_epoch34.pth\n"
     ]
    },
    {
     "name": "stderr",
     "output_type": "stream",
     "text": [
      "Epoch 35/100: 100%|██████████| 329/329 [00:15<00:00, 21.56batch/s]\n"
     ]
    },
    {
     "name": "stdout",
     "output_type": "stream",
     "text": [
      "Epoch 35/100, Loss: 0.0029\n"
     ]
    },
    {
     "name": "stderr",
     "output_type": "stream",
     "text": [
      "Epoch 36/100: 100%|██████████| 329/329 [00:14<00:00, 22.71batch/s]\n"
     ]
    },
    {
     "name": "stdout",
     "output_type": "stream",
     "text": [
      "Epoch 36/100, Loss: 0.0030\n",
      "Validation Loss: 7.6561, Accuracenter_y: 66.76%\n",
      "confusion_matrix:\n",
      " [[  66   14 1415]\n",
      " [   0 1460   61]\n",
      " [   0    6 1478]]\n",
      "Checkpoint saved at checkpoints/hard_dataset_model_epoch36.pth\n"
     ]
    },
    {
     "name": "stderr",
     "output_type": "stream",
     "text": [
      "Epoch 37/100: 100%|██████████| 329/329 [00:14<00:00, 23.02batch/s]\n"
     ]
    },
    {
     "name": "stdout",
     "output_type": "stream",
     "text": [
      "Epoch 37/100, Loss: 0.0330\n"
     ]
    },
    {
     "name": "stderr",
     "output_type": "stream",
     "text": [
      "Epoch 38/100: 100%|██████████| 329/329 [00:14<00:00, 23.04batch/s]\n"
     ]
    },
    {
     "name": "stdout",
     "output_type": "stream",
     "text": [
      "Epoch 38/100, Loss: 0.0031\n",
      "Validation Loss: 0.0873, Accuracenter_y: 98.33%\n",
      "confusion_matrix:\n",
      " [[1474    0   21]\n",
      " [   1 1516    4]\n",
      " [  46    3 1435]]\n",
      "Checkpoint saved at checkpoints/hard_dataset_model_epoch38.pth\n"
     ]
    },
    {
     "name": "stderr",
     "output_type": "stream",
     "text": [
      "Epoch 39/100: 100%|██████████| 329/329 [00:14<00:00, 22.01batch/s]\n"
     ]
    },
    {
     "name": "stdout",
     "output_type": "stream",
     "text": [
      "Epoch 39/100, Loss: 0.0005\n"
     ]
    },
    {
     "name": "stderr",
     "output_type": "stream",
     "text": [
      "Epoch 40/100: 100%|██████████| 329/329 [00:14<00:00, 22.02batch/s]\n"
     ]
    },
    {
     "name": "stdout",
     "output_type": "stream",
     "text": [
      "Epoch 40/100, Loss: 0.0012\n",
      "Validation Loss: 0.2463, Accuracenter_y: 93.58%\n",
      "confusion_matrix:\n",
      " [[1360    0  135]\n",
      " [  55 1389   77]\n",
      " [  20    2 1462]]\n",
      "Checkpoint saved at checkpoints/hard_dataset_model_epoch40.pth\n"
     ]
    },
    {
     "name": "stderr",
     "output_type": "stream",
     "text": [
      "Epoch 41/100: 100%|██████████| 329/329 [00:14<00:00, 22.58batch/s]\n"
     ]
    },
    {
     "name": "stdout",
     "output_type": "stream",
     "text": [
      "Epoch 41/100, Loss: 0.0036\n"
     ]
    },
    {
     "name": "stderr",
     "output_type": "stream",
     "text": [
      "Epoch 42/100: 100%|██████████| 329/329 [00:14<00:00, 22.86batch/s]\n"
     ]
    },
    {
     "name": "stdout",
     "output_type": "stream",
     "text": [
      "Epoch 42/100, Loss: 0.0085\n",
      "Validation Loss: 0.6800, Accuracenter_y: 85.62%\n",
      "confusion_matrix:\n",
      " [[1036    0  459]\n",
      " [   6 1345  170]\n",
      " [  11    1 1472]]\n",
      "Checkpoint saved at checkpoints/hard_dataset_model_epoch42.pth\n"
     ]
    },
    {
     "name": "stderr",
     "output_type": "stream",
     "text": [
      "Epoch 43/100: 100%|██████████| 329/329 [00:15<00:00, 21.49batch/s]\n"
     ]
    },
    {
     "name": "stdout",
     "output_type": "stream",
     "text": [
      "Epoch 43/100, Loss: 0.0052\n"
     ]
    },
    {
     "name": "stderr",
     "output_type": "stream",
     "text": [
      "Epoch 44/100: 100%|██████████| 329/329 [00:15<00:00, 21.14batch/s]\n"
     ]
    },
    {
     "name": "stdout",
     "output_type": "stream",
     "text": [
      "Epoch 44/100, Loss: 0.0009\n",
      "Validation Loss: 0.1118, Accuracenter_y: 98.27%\n",
      "confusion_matrix:\n",
      " [[1475   12    8]\n",
      " [   1 1518    2]\n",
      " [  47    8 1429]]\n",
      "Checkpoint saved at checkpoints/hard_dataset_model_epoch44.pth\n"
     ]
    },
    {
     "name": "stderr",
     "output_type": "stream",
     "text": [
      "Epoch 45/100: 100%|██████████| 329/329 [00:15<00:00, 21.74batch/s]\n"
     ]
    },
    {
     "name": "stdout",
     "output_type": "stream",
     "text": [
      "Epoch 45/100, Loss: 0.0006\n"
     ]
    },
    {
     "name": "stderr",
     "output_type": "stream",
     "text": [
      "Epoch 46/100: 100%|██████████| 329/329 [00:14<00:00, 22.22batch/s]\n"
     ]
    },
    {
     "name": "stdout",
     "output_type": "stream",
     "text": [
      "Epoch 46/100, Loss: 0.0007\n",
      "Validation Loss: 0.0929, Accuracenter_y: 98.33%\n",
      "confusion_matrix:\n",
      " [[1474    1   20]\n",
      " [   3 1513    5]\n",
      " [  40    6 1438]]\n",
      "Checkpoint saved at checkpoints/hard_dataset_model_epoch46.pth\n"
     ]
    },
    {
     "name": "stderr",
     "output_type": "stream",
     "text": [
      "Epoch 47/100: 100%|██████████| 329/329 [00:15<00:00, 21.58batch/s]\n"
     ]
    },
    {
     "name": "stdout",
     "output_type": "stream",
     "text": [
      "Epoch 47/100, Loss: 0.0228\n"
     ]
    },
    {
     "name": "stderr",
     "output_type": "stream",
     "text": [
      "Epoch 48/100: 100%|██████████| 329/329 [00:14<00:00, 22.38batch/s]\n"
     ]
    },
    {
     "name": "stdout",
     "output_type": "stream",
     "text": [
      "Epoch 48/100, Loss: 0.0036\n",
      "Validation Loss: 22.7776, Accuracenter_y: 46.53%\n",
      "confusion_matrix:\n",
      " [[ 373    0 1122]\n",
      " [  51  237 1233]\n",
      " [   0    0 1484]]\n",
      "Checkpoint saved at checkpoints/hard_dataset_model_epoch48.pth\n"
     ]
    },
    {
     "name": "stderr",
     "output_type": "stream",
     "text": [
      "Epoch 49/100: 100%|██████████| 329/329 [00:15<00:00, 21.89batch/s]\n"
     ]
    },
    {
     "name": "stdout",
     "output_type": "stream",
     "text": [
      "Epoch 49/100, Loss: 0.0025\n"
     ]
    },
    {
     "name": "stderr",
     "output_type": "stream",
     "text": [
      "Epoch 50/100: 100%|██████████| 329/329 [00:14<00:00, 22.15batch/s]\n"
     ]
    },
    {
     "name": "stdout",
     "output_type": "stream",
     "text": [
      "Epoch 50/100, Loss: 0.0053\n",
      "Validation Loss: 0.1024, Accuracenter_y: 98.36%\n",
      "confusion_matrix:\n",
      " [[1485    2    8]\n",
      " [   2 1517    2]\n",
      " [  54    6 1424]]\n",
      "Checkpoint saved at checkpoints/hard_dataset_model_epoch50.pth\n"
     ]
    },
    {
     "name": "stderr",
     "output_type": "stream",
     "text": [
      "Epoch 51/100: 100%|██████████| 329/329 [00:13<00:00, 23.57batch/s]\n"
     ]
    },
    {
     "name": "stdout",
     "output_type": "stream",
     "text": [
      "Epoch 51/100, Loss: 0.0006\n"
     ]
    },
    {
     "name": "stderr",
     "output_type": "stream",
     "text": [
      "Epoch 52/100: 100%|██████████| 329/329 [00:15<00:00, 21.84batch/s]\n"
     ]
    },
    {
     "name": "stdout",
     "output_type": "stream",
     "text": [
      "Epoch 52/100, Loss: 0.0033\n",
      "Validation Loss: 1.6719, Accuracenter_y: 77.24%\n",
      "confusion_matrix:\n",
      " [[ 690    0  805]\n",
      " [  11 1307  203]\n",
      " [   4    1 1479]]\n",
      "Checkpoint saved at checkpoints/hard_dataset_model_epoch52.pth\n"
     ]
    },
    {
     "name": "stderr",
     "output_type": "stream",
     "text": [
      "Epoch 53/100: 100%|██████████| 329/329 [00:14<00:00, 22.10batch/s]\n"
     ]
    },
    {
     "name": "stdout",
     "output_type": "stream",
     "text": [
      "Epoch 53/100, Loss: 0.0018\n"
     ]
    },
    {
     "name": "stderr",
     "output_type": "stream",
     "text": [
      "Epoch 54/100: 100%|██████████| 329/329 [00:15<00:00, 21.58batch/s]\n"
     ]
    },
    {
     "name": "stdout",
     "output_type": "stream",
     "text": [
      "Epoch 54/100, Loss: 0.0153\n",
      "Validation Loss: 6.1971, Accuracenter_y: 65.20%\n",
      "confusion_matrix:\n",
      " [[ 282    0 1213]\n",
      " [   5 1169  347]\n",
      " [   0    1 1483]]\n",
      "Checkpoint saved at checkpoints/hard_dataset_model_epoch54.pth\n"
     ]
    },
    {
     "name": "stderr",
     "output_type": "stream",
     "text": [
      "Epoch 55/100: 100%|██████████| 329/329 [00:15<00:00, 21.52batch/s]\n"
     ]
    },
    {
     "name": "stdout",
     "output_type": "stream",
     "text": [
      "Epoch 55/100, Loss: 0.0308\n"
     ]
    },
    {
     "name": "stderr",
     "output_type": "stream",
     "text": [
      "Epoch 56/100: 100%|██████████| 329/329 [00:15<00:00, 21.43batch/s]\n"
     ]
    },
    {
     "name": "stdout",
     "output_type": "stream",
     "text": [
      "Epoch 56/100, Loss: 0.0011\n",
      "Validation Loss: 0.0893, Accuracenter_y: 98.71%\n",
      "confusion_matrix:\n",
      " [[1483    2   10]\n",
      " [   3 1514    4]\n",
      " [  36    3 1445]]\n",
      "Checkpoint saved at checkpoints/hard_dataset_model_epoch56.pth\n"
     ]
    },
    {
     "name": "stderr",
     "output_type": "stream",
     "text": [
      "Epoch 57/100: 100%|██████████| 329/329 [00:14<00:00, 22.98batch/s]\n"
     ]
    },
    {
     "name": "stdout",
     "output_type": "stream",
     "text": [
      "Epoch 57/100, Loss: 0.0020\n"
     ]
    },
    {
     "name": "stderr",
     "output_type": "stream",
     "text": [
      "Epoch 58/100: 100%|██████████| 329/329 [00:14<00:00, 22.97batch/s]\n"
     ]
    },
    {
     "name": "stdout",
     "output_type": "stream",
     "text": [
      "Epoch 58/100, Loss: 0.0006\n",
      "Validation Loss: 0.0928, Accuracenter_y: 98.42%\n",
      "confusion_matrix:\n",
      " [[1477    0   18]\n",
      " [   5 1508    8]\n",
      " [  37    3 1444]]\n",
      "Checkpoint saved at checkpoints/hard_dataset_model_epoch58.pth\n"
     ]
    },
    {
     "name": "stderr",
     "output_type": "stream",
     "text": [
      "Epoch 59/100: 100%|██████████| 329/329 [00:14<00:00, 22.17batch/s]\n"
     ]
    },
    {
     "name": "stdout",
     "output_type": "stream",
     "text": [
      "Epoch 59/100, Loss: 0.0003\n"
     ]
    },
    {
     "name": "stderr",
     "output_type": "stream",
     "text": [
      "Epoch 60/100: 100%|██████████| 329/329 [00:14<00:00, 22.33batch/s]\n"
     ]
    },
    {
     "name": "stdout",
     "output_type": "stream",
     "text": [
      "Epoch 60/100, Loss: 0.0001\n",
      "Validation Loss: 0.0974, Accuracenter_y: 98.62%\n",
      "confusion_matrix:\n",
      " [[1487    3    5]\n",
      " [   3 1515    3]\n",
      " [  44    4 1436]]\n",
      "Checkpoint saved at checkpoints/hard_dataset_model_epoch60.pth\n"
     ]
    },
    {
     "name": "stderr",
     "output_type": "stream",
     "text": [
      "Epoch 61/100: 100%|██████████| 329/329 [00:15<00:00, 21.90batch/s]\n"
     ]
    },
    {
     "name": "stdout",
     "output_type": "stream",
     "text": [
      "Epoch 61/100, Loss: 0.0001\n"
     ]
    },
    {
     "name": "stderr",
     "output_type": "stream",
     "text": [
      "Epoch 62/100: 100%|██████████| 329/329 [00:15<00:00, 21.71batch/s]\n"
     ]
    },
    {
     "name": "stdout",
     "output_type": "stream",
     "text": [
      "Epoch 62/100, Loss: 0.0001\n",
      "Validation Loss: 0.0924, Accuracenter_y: 98.82%\n",
      "confusion_matrix:\n",
      " [[1489    3    3]\n",
      " [   0 1519    2]\n",
      " [  40    5 1439]]\n",
      "Checkpoint saved at checkpoints/hard_dataset_model_epoch62.pth\n"
     ]
    },
    {
     "name": "stderr",
     "output_type": "stream",
     "text": [
      "Epoch 63/100: 100%|██████████| 329/329 [00:14<00:00, 22.19batch/s]\n"
     ]
    },
    {
     "name": "stdout",
     "output_type": "stream",
     "text": [
      "Epoch 63/100, Loss: 0.0000\n"
     ]
    },
    {
     "name": "stderr",
     "output_type": "stream",
     "text": [
      "Epoch 64/100: 100%|██████████| 329/329 [00:14<00:00, 23.07batch/s]\n"
     ]
    },
    {
     "name": "stdout",
     "output_type": "stream",
     "text": [
      "Epoch 64/100, Loss: 0.0000\n",
      "Validation Loss: 0.0870, Accuracenter_y: 98.96%\n",
      "confusion_matrix:\n",
      " [[1488    3    4]\n",
      " [   0 1519    2]\n",
      " [  33    5 1446]]\n",
      "Checkpoint saved at checkpoints/hard_dataset_model_epoch64.pth\n"
     ]
    },
    {
     "name": "stderr",
     "output_type": "stream",
     "text": [
      "Epoch 65/100: 100%|██████████| 329/329 [00:14<00:00, 22.33batch/s]\n"
     ]
    },
    {
     "name": "stdout",
     "output_type": "stream",
     "text": [
      "Epoch 65/100, Loss: 0.0000\n"
     ]
    },
    {
     "name": "stderr",
     "output_type": "stream",
     "text": [
      "Epoch 66/100: 100%|██████████| 329/329 [00:14<00:00, 23.04batch/s]\n"
     ]
    },
    {
     "name": "stdout",
     "output_type": "stream",
     "text": [
      "Epoch 66/100, Loss: 0.0000\n",
      "Validation Loss: 0.0909, Accuracenter_y: 98.89%\n",
      "confusion_matrix:\n",
      " [[1489    3    3]\n",
      " [   0 1519    2]\n",
      " [  36    6 1442]]\n",
      "Checkpoint saved at checkpoints/hard_dataset_model_epoch66.pth\n"
     ]
    },
    {
     "name": "stderr",
     "output_type": "stream",
     "text": [
      "Epoch 67/100: 100%|██████████| 329/329 [00:14<00:00, 22.62batch/s]\n"
     ]
    },
    {
     "name": "stdout",
     "output_type": "stream",
     "text": [
      "Epoch 67/100, Loss: 0.0001\n"
     ]
    },
    {
     "name": "stderr",
     "output_type": "stream",
     "text": [
      "Epoch 68/100: 100%|██████████| 329/329 [00:14<00:00, 22.86batch/s]\n"
     ]
    },
    {
     "name": "stdout",
     "output_type": "stream",
     "text": [
      "Epoch 68/100, Loss: 0.0000\n",
      "Validation Loss: 0.0890, Accuracenter_y: 98.80%\n",
      "confusion_matrix:\n",
      " [[1489    3    3]\n",
      " [   0 1519    2]\n",
      " [  40    6 1438]]\n",
      "Checkpoint saved at checkpoints/hard_dataset_model_epoch68.pth\n"
     ]
    },
    {
     "name": "stderr",
     "output_type": "stream",
     "text": [
      "Epoch 69/100: 100%|██████████| 329/329 [00:15<00:00, 21.82batch/s]\n"
     ]
    },
    {
     "name": "stdout",
     "output_type": "stream",
     "text": [
      "Epoch 69/100, Loss: 0.0000\n"
     ]
    },
    {
     "name": "stderr",
     "output_type": "stream",
     "text": [
      "Epoch 70/100: 100%|██████████| 329/329 [00:14<00:00, 22.19batch/s]\n"
     ]
    },
    {
     "name": "stdout",
     "output_type": "stream",
     "text": [
      "Epoch 70/100, Loss: 0.0000\n",
      "Validation Loss: 0.0942, Accuracenter_y: 98.84%\n",
      "confusion_matrix:\n",
      " [[1491    2    2]\n",
      " [   0 1519    2]\n",
      " [  39    7 1438]]\n",
      "Checkpoint saved at checkpoints/hard_dataset_model_epoch70.pth\n"
     ]
    },
    {
     "name": "stderr",
     "output_type": "stream",
     "text": [
      "Epoch 71/100: 100%|██████████| 329/329 [00:14<00:00, 22.43batch/s]\n"
     ]
    },
    {
     "name": "stdout",
     "output_type": "stream",
     "text": [
      "Epoch 71/100, Loss: 0.0000\n"
     ]
    },
    {
     "name": "stderr",
     "output_type": "stream",
     "text": [
      "Epoch 72/100: 100%|██████████| 329/329 [00:14<00:00, 22.72batch/s]\n"
     ]
    },
    {
     "name": "stdout",
     "output_type": "stream",
     "text": [
      "Epoch 72/100, Loss: 0.0000\n",
      "Validation Loss: 0.0878, Accuracenter_y: 98.89%\n",
      "confusion_matrix:\n",
      " [[1491    2    2]\n",
      " [   1 1518    2]\n",
      " [  37    6 1441]]\n",
      "Checkpoint saved at checkpoints/hard_dataset_model_epoch72.pth\n"
     ]
    },
    {
     "name": "stderr",
     "output_type": "stream",
     "text": [
      "Epoch 73/100: 100%|██████████| 329/329 [00:14<00:00, 22.22batch/s]\n"
     ]
    },
    {
     "name": "stdout",
     "output_type": "stream",
     "text": [
      "Epoch 73/100, Loss: 0.0000\n"
     ]
    },
    {
     "name": "stderr",
     "output_type": "stream",
     "text": [
      "Epoch 74/100: 100%|██████████| 329/329 [00:15<00:00, 21.20batch/s]\n"
     ]
    },
    {
     "name": "stdout",
     "output_type": "stream",
     "text": [
      "Epoch 74/100, Loss: 0.0172\n",
      "Validation Loss: 38.2715, Accuracenter_y: 63.64%\n",
      "confusion_matrix:\n",
      " [[   6  164 1325]\n",
      " [   6 1427   88]\n",
      " [   0   53 1431]]\n",
      "Checkpoint saved at checkpoints/hard_dataset_model_epoch74.pth\n"
     ]
    },
    {
     "name": "stderr",
     "output_type": "stream",
     "text": [
      "Epoch 75/100: 100%|██████████| 329/329 [00:14<00:00, 22.15batch/s]\n"
     ]
    },
    {
     "name": "stdout",
     "output_type": "stream",
     "text": [
      "Epoch 75/100, Loss: 0.0215\n"
     ]
    },
    {
     "name": "stderr",
     "output_type": "stream",
     "text": [
      "Epoch 76/100: 100%|██████████| 329/329 [00:14<00:00, 22.70batch/s]\n"
     ]
    },
    {
     "name": "stdout",
     "output_type": "stream",
     "text": [
      "Epoch 76/100, Loss: 0.0022\n",
      "Validation Loss: 0.2294, Accuracenter_y: 96.13%\n",
      "confusion_matrix:\n",
      " [[1353   56   86]\n",
      " [   0 1521    0]\n",
      " [  17   15 1452]]\n",
      "Checkpoint saved at checkpoints/hard_dataset_model_epoch76.pth\n"
     ]
    },
    {
     "name": "stderr",
     "output_type": "stream",
     "text": [
      "Epoch 77/100: 100%|██████████| 329/329 [00:14<00:00, 23.41batch/s]\n"
     ]
    },
    {
     "name": "stdout",
     "output_type": "stream",
     "text": [
      "Epoch 77/100, Loss: 0.0008\n"
     ]
    },
    {
     "name": "stderr",
     "output_type": "stream",
     "text": [
      "Epoch 78/100: 100%|██████████| 329/329 [00:14<00:00, 22.01batch/s]\n"
     ]
    },
    {
     "name": "stdout",
     "output_type": "stream",
     "text": [
      "Epoch 78/100, Loss: 0.0003\n",
      "Validation Loss: 1.0527, Accuracenter_y: 87.13%\n",
      "confusion_matrix:\n",
      " [[ 936   60  499]\n",
      " [   0 1517    4]\n",
      " [   4   12 1468]]\n",
      "Checkpoint saved at checkpoints/hard_dataset_model_epoch78.pth\n"
     ]
    },
    {
     "name": "stderr",
     "output_type": "stream",
     "text": [
      "Epoch 79/100: 100%|██████████| 329/329 [00:14<00:00, 22.99batch/s]\n"
     ]
    },
    {
     "name": "stdout",
     "output_type": "stream",
     "text": [
      "Epoch 79/100, Loss: 0.0003\n"
     ]
    },
    {
     "name": "stderr",
     "output_type": "stream",
     "text": [
      "Epoch 80/100: 100%|██████████| 329/329 [00:14<00:00, 22.48batch/s]\n"
     ]
    },
    {
     "name": "stdout",
     "output_type": "stream",
     "text": [
      "Epoch 80/100, Loss: 0.0001\n",
      "Validation Loss: 0.0762, Accuracenter_y: 98.56%\n",
      "confusion_matrix:\n",
      " [[1471   11   13]\n",
      " [   1 1516    4]\n",
      " [  28    8 1448]]\n",
      "Checkpoint saved at checkpoints/hard_dataset_model_epoch80.pth\n"
     ]
    },
    {
     "name": "stderr",
     "output_type": "stream",
     "text": [
      "Epoch 81/100: 100%|██████████| 329/329 [00:15<00:00, 21.75batch/s]\n"
     ]
    },
    {
     "name": "stdout",
     "output_type": "stream",
     "text": [
      "Epoch 81/100, Loss: 0.0001\n"
     ]
    },
    {
     "name": "stderr",
     "output_type": "stream",
     "text": [
      "Epoch 82/100: 100%|██████████| 329/329 [00:15<00:00, 21.67batch/s]\n"
     ]
    },
    {
     "name": "stdout",
     "output_type": "stream",
     "text": [
      "Epoch 82/100, Loss: 0.0000\n",
      "Validation Loss: 0.0864, Accuracenter_y: 98.56%\n",
      "confusion_matrix:\n",
      " [[1486    5    4]\n",
      " [   1 1516    4]\n",
      " [  44    7 1433]]\n",
      "Checkpoint saved at checkpoints/hard_dataset_model_epoch82.pth\n"
     ]
    },
    {
     "name": "stderr",
     "output_type": "stream",
     "text": [
      "Epoch 83/100: 100%|██████████| 329/329 [00:14<00:00, 22.59batch/s]\n"
     ]
    },
    {
     "name": "stdout",
     "output_type": "stream",
     "text": [
      "Epoch 83/100, Loss: 0.0000\n"
     ]
    },
    {
     "name": "stderr",
     "output_type": "stream",
     "text": [
      "Epoch 84/100: 100%|██████████| 329/329 [00:15<00:00, 21.84batch/s]\n"
     ]
    },
    {
     "name": "stdout",
     "output_type": "stream",
     "text": [
      "Epoch 84/100, Loss: 0.0000\n",
      "Validation Loss: 0.0826, Accuracenter_y: 98.67%\n",
      "confusion_matrix:\n",
      " [[1488    2    5]\n",
      " [   1 1516    4]\n",
      " [  44    4 1436]]\n",
      "Checkpoint saved at checkpoints/hard_dataset_model_epoch84.pth\n"
     ]
    },
    {
     "name": "stderr",
     "output_type": "stream",
     "text": [
      "Epoch 85/100: 100%|██████████| 329/329 [00:15<00:00, 21.89batch/s]\n"
     ]
    },
    {
     "name": "stdout",
     "output_type": "stream",
     "text": [
      "Epoch 85/100, Loss: 0.0000\n"
     ]
    },
    {
     "name": "stderr",
     "output_type": "stream",
     "text": [
      "Epoch 86/100: 100%|██████████| 329/329 [00:14<00:00, 22.15batch/s]\n"
     ]
    },
    {
     "name": "stdout",
     "output_type": "stream",
     "text": [
      "Epoch 86/100, Loss: 0.0000\n",
      "Validation Loss: 0.0857, Accuracenter_y: 98.69%\n",
      "confusion_matrix:\n",
      " [[1488    2    5]\n",
      " [   0 1517    4]\n",
      " [  44    4 1436]]\n",
      "Checkpoint saved at checkpoints/hard_dataset_model_epoch86.pth\n"
     ]
    },
    {
     "name": "stderr",
     "output_type": "stream",
     "text": [
      "Epoch 87/100: 100%|██████████| 329/329 [00:14<00:00, 22.64batch/s]\n"
     ]
    },
    {
     "name": "stdout",
     "output_type": "stream",
     "text": [
      "Epoch 87/100, Loss: 0.0000\n"
     ]
    },
    {
     "name": "stderr",
     "output_type": "stream",
     "text": [
      "Epoch 88/100: 100%|██████████| 329/329 [00:14<00:00, 22.32batch/s]\n"
     ]
    },
    {
     "name": "stdout",
     "output_type": "stream",
     "text": [
      "Epoch 88/100, Loss: 0.0000\n",
      "Validation Loss: 0.0775, Accuracenter_y: 98.69%\n",
      "confusion_matrix:\n",
      " [[1487    2    6]\n",
      " [   0 1516    5]\n",
      " [  43    3 1438]]\n",
      "Checkpoint saved at checkpoints/hard_dataset_model_epoch88.pth\n"
     ]
    },
    {
     "name": "stderr",
     "output_type": "stream",
     "text": [
      "Epoch 89/100: 100%|██████████| 329/329 [00:14<00:00, 23.09batch/s]\n"
     ]
    },
    {
     "name": "stdout",
     "output_type": "stream",
     "text": [
      "Epoch 89/100, Loss: 0.0000\n"
     ]
    },
    {
     "name": "stderr",
     "output_type": "stream",
     "text": [
      "Epoch 90/100: 100%|██████████| 329/329 [00:14<00:00, 22.43batch/s]\n"
     ]
    },
    {
     "name": "stdout",
     "output_type": "stream",
     "text": [
      "Epoch 90/100, Loss: 0.0000\n",
      "Validation Loss: 0.0779, Accuracenter_y: 98.67%\n",
      "confusion_matrix:\n",
      " [[1488    2    5]\n",
      " [   1 1515    5]\n",
      " [  44    3 1437]]\n",
      "Checkpoint saved at checkpoints/hard_dataset_model_epoch90.pth\n"
     ]
    },
    {
     "name": "stderr",
     "output_type": "stream",
     "text": [
      "Epoch 91/100: 100%|██████████| 329/329 [00:14<00:00, 21.97batch/s]\n"
     ]
    },
    {
     "name": "stdout",
     "output_type": "stream",
     "text": [
      "Epoch 91/100, Loss: 0.0000\n"
     ]
    },
    {
     "name": "stderr",
     "output_type": "stream",
     "text": [
      "Epoch 92/100: 100%|██████████| 329/329 [00:14<00:00, 22.58batch/s]\n"
     ]
    },
    {
     "name": "stdout",
     "output_type": "stream",
     "text": [
      "Epoch 92/100, Loss: 0.0001\n",
      "Validation Loss: 1.4467, Accuracenter_y: 88.27%\n",
      "confusion_matrix:\n",
      " [[1198  245   52]\n",
      " [   0 1521    0]\n",
      " [ 140   91 1253]]\n",
      "Checkpoint saved at checkpoints/hard_dataset_model_epoch92.pth\n"
     ]
    },
    {
     "name": "stderr",
     "output_type": "stream",
     "text": [
      "Epoch 93/100: 100%|██████████| 329/329 [00:14<00:00, 22.94batch/s]\n"
     ]
    },
    {
     "name": "stdout",
     "output_type": "stream",
     "text": [
      "Epoch 93/100, Loss: 0.0434\n"
     ]
    },
    {
     "name": "stderr",
     "output_type": "stream",
     "text": [
      "Epoch 94/100: 100%|██████████| 329/329 [00:15<00:00, 21.85batch/s]\n"
     ]
    },
    {
     "name": "stdout",
     "output_type": "stream",
     "text": [
      "Epoch 94/100, Loss: 0.0007\n",
      "Validation Loss: 0.1027, Accuracenter_y: 98.56%\n",
      "confusion_matrix:\n",
      " [[1487    2    6]\n",
      " [   3 1515    3]\n",
      " [  46    5 1433]]\n",
      "Checkpoint saved at checkpoints/hard_dataset_model_epoch94.pth\n"
     ]
    },
    {
     "name": "stderr",
     "output_type": "stream",
     "text": [
      "Epoch 95/100: 100%|██████████| 329/329 [00:15<00:00, 21.53batch/s]\n"
     ]
    },
    {
     "name": "stdout",
     "output_type": "stream",
     "text": [
      "Epoch 95/100, Loss: 0.0014\n"
     ]
    },
    {
     "name": "stderr",
     "output_type": "stream",
     "text": [
      "Epoch 96/100: 100%|██████████| 329/329 [00:14<00:00, 22.33batch/s]\n"
     ]
    },
    {
     "name": "stdout",
     "output_type": "stream",
     "text": [
      "Epoch 96/100, Loss: 0.0006\n",
      "Validation Loss: 0.0958, Accuracenter_y: 98.73%\n",
      "confusion_matrix:\n",
      " [[1487    4    4]\n",
      " [   1 1518    2]\n",
      " [  38    8 1438]]\n",
      "Checkpoint saved at checkpoints/hard_dataset_model_epoch96.pth\n"
     ]
    },
    {
     "name": "stderr",
     "output_type": "stream",
     "text": [
      "Epoch 97/100: 100%|██████████| 329/329 [00:14<00:00, 22.05batch/s]\n"
     ]
    },
    {
     "name": "stdout",
     "output_type": "stream",
     "text": [
      "Epoch 97/100, Loss: 0.0001\n"
     ]
    },
    {
     "name": "stderr",
     "output_type": "stream",
     "text": [
      "Epoch 98/100: 100%|██████████| 329/329 [00:14<00:00, 22.64batch/s]\n"
     ]
    },
    {
     "name": "stdout",
     "output_type": "stream",
     "text": [
      "Epoch 98/100, Loss: 0.0000\n",
      "Validation Loss: 0.0930, Accuracenter_y: 98.87%\n",
      "confusion_matrix:\n",
      " [[1488    3    4]\n",
      " [   1 1518    2]\n",
      " [  35    6 1443]]\n",
      "Checkpoint saved at checkpoints/hard_dataset_model_epoch98.pth\n"
     ]
    },
    {
     "name": "stderr",
     "output_type": "stream",
     "text": [
      "Epoch 99/100: 100%|██████████| 329/329 [00:14<00:00, 21.98batch/s]\n"
     ]
    },
    {
     "name": "stdout",
     "output_type": "stream",
     "text": [
      "Epoch 99/100, Loss: 0.0001\n"
     ]
    },
    {
     "name": "stderr",
     "output_type": "stream",
     "text": [
      "Epoch 100/100: 100%|██████████| 329/329 [00:15<00:00, 21.90batch/s]\n"
     ]
    },
    {
     "name": "stdout",
     "output_type": "stream",
     "text": [
      "Epoch 100/100, Loss: 0.0000\n",
      "Validation Loss: 0.0882, Accuracenter_y: 98.82%\n",
      "confusion_matrix:\n",
      " [[1488    3    4]\n",
      " [   1 1518    2]\n",
      " [  37    6 1441]]\n",
      "Checkpoint saved at checkpoints/hard_dataset_model_epoch100.pth\n",
      "run scussfully\n"
     ]
    }
   ],
   "source": [
    "print('let try more chanlenges, one can just modify the dataset color_type, side_length_type, rotation_bool to testify the ability of CNN models')\n",
    "num_epochs = 100\n",
    "num_each_shape = 10000\n",
    "for shape_type in ['circle','square','triangle']:\n",
    "    generate_shape_image(width, hight, \n",
    "                        num_each_shape, \n",
    "                        shape_type,\n",
    "                        \"./pic/\",\n",
    "                        color_type='random', #random or fix\n",
    "                        side_length_type='fix', #whether fix the side_length of geometry\n",
    "                        rotation_bool=False) #whether fix the roation\n",
    "    \n",
    "result_save_name='color_type_random_dataset'    \n",
    "training_processing(image_height,image_width,batch_size,num_epochs,checkpoint_interval)\n",
    "\n",
    "for shape_type in ['circle','square','triangle']:\n",
    "    generate_shape_image(width, hight, \n",
    "                        num_each_shape, \n",
    "                        shape_type,\n",
    "                        \"./pic/\",\n",
    "                        color_type='fix', #random or fix\n",
    "                        side_length_type='random', #whether fix the side_length of geometry\n",
    "                        rotation_bool=False) #whether fix the roation\n",
    "    \n",
    "result_save_name='side_legnth_type_random_dataset'    \n",
    "training_processing(image_height,image_width,batch_size,num_epochs,checkpoint_interval)\n",
    "\n",
    "\n",
    "for shape_type in ['circle','square','triangle']:\n",
    "    generate_shape_image(width, hight, \n",
    "                        num_each_shape, \n",
    "                        shape_type,\n",
    "                        \"./pic/\",\n",
    "                        color_type='fix', #random or fix\n",
    "                        side_length_type='fix', #whether fix the side_length of geometry\n",
    "                        rotation_bool=True) #whether fix the roation\n",
    "    \n",
    "result_save_name='rotation_bool_dataset'    \n",
    "training_processing(image_height,image_width,batch_size,num_epochs,checkpoint_interval)\n",
    "\n",
    "\n",
    "\n",
    "for shape_type in ['circle','square','triangle']:\n",
    "    generate_shape_image(width, hight, \n",
    "                        num_each_shape, \n",
    "                        shape_type,\n",
    "                        \"./pic/\",\n",
    "                        color_type='random', #random or fix\n",
    "                        side_length_type='random', #whether fix the side_length of geometry\n",
    "                        rotation_bool=True) #whether fix the roation\n",
    "    \n",
    "result_save_name='hard_dataset'    \n",
    "training_processing(image_height,image_width,batch_size,num_epochs,checkpoint_interval)\n",
    "print('run scussfully')"
   ]
  },
  {
   "cell_type": "code",
   "execution_count": 11,
   "metadata": {},
   "outputs": [
    {
     "data": {
      "text/html": [
       "<img src=\"data:image/png;base64,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\" style=\"display:inline-block;margin:10px;\"/><img src=\"data:image/png;base64,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\" style=\"display:inline-block;margin:10px;\"/><img src=\"data:image/png;base64,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\" style=\"display:inline-block;margin:10px;\"/>"
      ],
      "text/plain": [
       "<IPython.core.display.HTML object>"
      ]
     },
     "metadata": {},
     "output_type": "display_data"
    },
    {
     "data": {
      "text/html": [
       "<img src=\"data:image/png;base64,iVBORw0KGgoAAAANSUhEUgAAAMgAAADICAYAAACtWK6eAAAgmklEQVR4nO3deXxU9aH38c9ZZibLZN+AJBDClpCCEo0IXEQEl5baVi22VbH6urbl2j6i3r76R2/vc/vc1qvP87y6+NTWVq9r0aqIFrBuWCpL2ImJkIWEkMlCINtkz2xnef6YMLKESWCYZEJ+778mmd+c85uZ853f+f3O75wjmaZpIgjCkOSxroAgRDIREEEIQgREEIIQARGEIERABCEIERBBCEIERBCCEAERhCBEQAQhCBEQQQhCBEQQghABEYQgREAEIQgRkDByu91c6mRp0zTp7+8PumzDMC5qeR6PB7fbjaZpl1SniUgEJIyef/75oBtxc3Mz7e3tQz7ncrn45JNPLvja1157jc7OzhHXxeVysX79eg4cOEBzc3Pg/y0tLbS0tIx4ORONOtYVGE/27duHrusUFRVRWlqK0+lkxYoVdHZ2snv3blauXInFYuGjjz4iLy8Pl8vF3/72N6655hoyMzPPW94HH3yAw+Hgu9/9LidPniQ1NZWTJ08SHx9PYWEhBQUFOBwOamtrmTx5MnPnzg281uVyAbB7924URWHhwoUUFxejaRoLFy5k27ZtTJ06lS996UuAvwXp6+sjJyeHhIQEiouLAaitraWiooKf/OQnJCcnj8KnOL6IgIxQRUUF27Ztw+fz4Xa7eemllygoKKCvrw+Hw4HH46G9vR2r1UprayuZmZm0t7dTVVVFdXU1P/7xj89bpqqq2O12ysvL2bx5M+vWrWNgYIBt27YRExPDzp076evro7e3F13X+dnPfobNZgPAarVy5MgRtm7diiRJOJ1OiouLWb58OR988AE1NTWkp6eftT6r1crevXtRFIWSkhJuvvlmZFnGarWiKMqofI7jjdjFGqGKigrq6+vp6emhra2NJUuWsG7dOsrKylBVlZ/+9KecOnWKxsZGHn30UQoLC0lJSWHt2rWoqoppmni9Xj788EPq6uoAmDRpEsuXLyc9PZ077riDvLw86uvrqa+vp62tDYvFQlxcHA899BDZ2dn09fUF6qMoCpWVlaxevZrbb7+dlpYWZFnG7XYzdepU2tvbsVgs570PSZJITk7GMIxA2aVLl5KQkDBqn+V4IgIyQna7naKiIh5//HGKiopoaGigtraWuLg4XC4XtbW1KIqCoig4HA5cLheSJKHrOoZhBDrruq4HHhuGQVdXF4ZhYLPZOHToENHR0cybNw+v1xvov5imiWEYZ/VndF3HbrdTX19PXV0dWVlZrF27lu3bt5OYmMiaNWt47bXXznuNpmkkJiby8MMPs2PHDhoaGujr67vkwYQrnQjICC1ZsoTm5mb+8Ic/0NvbS1tbG8899xx33HEHV111FU899RQrVqxg1apV/OpXv2L79u1kZ2ejKAoZGRmYponVamXVqlXk5uYCUFBQwNatW2lrayM+Pp45c+ZQU1PDqVOnSElJITU1ldTUVCwWC2lpaVit1kB9kpKSWLZsGfv376eqqorc3FyeeeYZsrKyOHHiBC+99BJFRUXIsv8rVlWV9PR00tLS6O7u5tlnn2XSpEksXryYXbt20djYOCafa6STxEUbLo6u67S0tLBhwwYeeeQRJEkC/K3B6Y1R13VkWQ48N9zyJEkKvNY0zQu+rqurC5fLhaIopKWlnVdO0zRUVT3rcWtrK7quEx0dTWJi4pBlz62D8AXRSb9IiqIQHx/PkiVLztpAz9y4LqbDe27ZYKHaunUrlZWVxMbG8sMf/pCoqKiznj+9wZ9+7Ha7+fOf/0x/fz/5+fmsXr16yLKig35ho9KCDAwMoOt6uFczaiRJQlVVfD7fqK73zBCO9CDhpbxmvJIkiejo6Msa+LC3IKdOneL3v/89GRkZV/wXJIwdSZLo6elh0aJF3HTTTZdtuWEPiNvtZvny5Ze10oIwlKamJqqqqi7rMsPeK5MkSQwhCqPi9GDD5SSGLQQhiDEPSJ9HzCwVIteYBcQwTH7xXgUrfrWdD4+cGqtqCEJQYxYQh3OAV/fUc6y1j+d3HMcQ/RQhAo1ZQHTDxDBNJAk0w0TkQ4hEIQeksbERj8cT+Lunpwe32z3s66anxnJXYSYZ8VHcv2gainx5Rx8E4XIIKSDl5eU8//zzbNq0CfAPsz3xxBOUl5cHylit1iGH3lRZ4sk75/OPH9/IXddkhVINQQibkAJSXV3NmjVrAucplJWVMWXKlMBJPdXV1bz++usXbFEUWSI9zhZKFQQhrC5LH+R0C1FcXExFRQWHDh0CYPLkyRQVFQ154o4gjAchBWT27NmsX78ei8XCjh07eOihh/jKV77CrFmzAIiLiyM3N1dMoxbGrZDmYhUUFPDQQw+RlpaGx+MhOjqaL3/5y2eVuZJm8QoTT8iTFbOzswEC5yacedabIIx3Yt9HEIIQARGEIERABCEIERBBCEIERBCCEAERhCBEQAQhCBEQQQhCBEQQghABEYQgREAEIQgREEEIQgREEIIQARGEIERABCEIERBBCEIERBCCEAERhCBEQAQhCBEQQQhCBEQQghABEYQgREAEIQgREEEIQgREEIIQARGEIERABCGIkAMyMDAQeOz1eunt7Q11kYIQMUIKSF1dHU888QTvv/8+4L/j1LPPPsv+/fsDZS50hylBGA9CCsjnn3/O3XffTXNzM7quU1BQQFZWFk6nE4CmpiY+/vhjvF7vZamsIIy2kG5/oOs6CQkJqKqKoijIsozVakXTNAAsFguxsbGiBRHGrZBakKysLDZs2ICmaZSUlFBeXo7P5wu0GBkZGSxZsgRVDfk2JIIwJkLacouKipAkidzcXLxeLx6Ph+zsbK677rpAGbF7JYxnIQVEkiSKiorO+l9OTk4oixSEiCKOgwhCECIgghCECIggBCECIghBjCgguq5jmiamaYr7ngsTyohGsYqLi8nKyqKzs5OoqCgKCgrCXS9BiAjDBkTTNDZv3gzAlClTuP/++8NeKUGIFMMGRFVVHnvsMdxuNwcPHiQuLm406iUIEWFEfZCGhgZ27dqFw+GgtrY23HUShIgxooCkp6fT2trKTTfdRFRUVLjrJAgRY9iA9PT0IMsyeXl5tLa2kpycPBr1EoSIMGxATg/tiiFeYSIatpPe1dXFW2+9hcViAeD6668Pe6UEIVIMG5DMzEwefvjhwN9OpxOXy8W0adPCWjFBiAQjGuZNTEwM/F1XV4dhGCIgwoRw0XOxJEkSp9AKE8aIppr09vbicrkoLS1l3rx5WK3WcNdLECLCiAJSXl6Ow+GgqqqKnJwcZs+eHe56CUJEGNEuVnx8PJWVldx8881i90qYUEYUkClTprBmzRpaWlrIzMwMd50EIWKMKCCVlZUcPHiQiooKGhoawl0nQYgYIwpIQkICx44dY/ny5ciyOAlRmDhGtLXPnj2bOXPmMDAwwIwZM8JdJ0GIGCMKyKFDh9B1ncbGRjHdXZhQRjTMq+s6sbGxgceCMFGMqAW59tpr6evrIyYmhry8vHDXSRAixrAtiMPhYP369URFRWGaJgsXLiQjI2M06iYIY25Es3nXrl0bOEDY3d1NQ0MDU6dOBfxDwFOnTiU2NpbW1lZaW1spKCgQBxSFK8Kwu1gWi4XU1FRSUlJISUmhu7ubtrY2AD777DPefvtt/vrXvwJQW1vLtm3b2LlzZ+D14tYHwnh20Qc1zjwOUldXx7333ovX60XTNBYtWsSiRYvweDyA/9yRw4cPi469MG6N6Oe9p6eHo0ePIkkSMTExZGdnA/6weDweDMNAkiScTielpaWBa2d1d3dz/Phxpk+fHr53IAhhNKIWpKKigrfffps333yTl19+OdC/mDt3Lq+//jp2u529e/fy1ltv0djYGJiOMn36dO68805sNlv43oEghNGIWhCPx8Pdd9+Ny+Xis88+o729naSkJGbPns2jjz5KQkICPp+PefPm0dfXR3x8/FmvNU0zbG9AEMJpRAG56qqreOWVV7Db7XzjG98gJSUl8Nzpx6qqEh0dfVY4BGG8G9EulqqqJCUl4fP5iImJISYmJtz1EoSIMKIWpLS0lNTUVPLz87Hb7eGukyBEjBG1IBaLhYMHD7J37176+/vDXSdBiBjDtiCmaTJz5kwGBgaQJClwATlBmAiGDUhLSwvHjx/n4MGDSJJEXl6euAWCMGEMG5CMjAySkpIYGBigq6tLHNMQJpRh+yCSJFFWVkZtbS0xMTHilFthQhnR1q5pGrGxsWRmZoo+iDChjCggU6dORdM0jhw5gsvlCnedBCFiDNsHaWtro7W1FbfbHZiYKAgTxbABiY+PZ8aMGaiqisvlEkfRhQll2F0sm81GX18fL7zwAs899xzt7e2jUS9BiAgjmmpSX1/P7NmziYuLE0fShQllRJ30nJwcFixYwPHjx0lLSwt3nQQhYoyoBWlvbyc3N5ef//znYa6OIESWEbUgLpeLJ598kmeeeYbW1tZw10kQIsaIAiJJEvfccw+zZs0SAREmlGF3sTRN44033kBRFOLi4njggQdGoVqCEBmGDYiiKKxbtw5VVYmPjxczeYUJZdiASJIkbvksTFhiaq4gBCECIghBiIAIQhAiIIIQhAiIIAQhAiIIQYiACEIQIQeko6MjcP8Pt9tNV1dXqIsUhIgRUkCqq6v59a9/zebNmwH/bRKeeuopNE37YgXiKijCOBbS1ltRUcF9992H0+lE13UKCwuZNWtWICAul4vW1lZxHrswboUUEMMwsNlsyLIcaClUVUVRFMB/h9wPP/wQn88Xek0FYQyEFJDp06fz+uuvA7B//34aGxvZvXs3FRUVAOTn5/Pggw+KqzEK41ZIt6BdsGAB0dHRZGZm4vV6Afj+979/1mm5ovUQxrOQ79Gcl5d31t9n3n1KEMY7McQkCEGIgAhCEBEVkDcPNHLXs7spPiYuTidEhpD7IJdLe5+Hpz6o4nh7P5phsjE3BVWWxrpawgQXMS1Iv0dnwKsRbZHpGvCi6aEfXHz/yEm+9+pBPmvsCr2CwoQUMQHJTIrmxjnpAKyaP4UoixLS8joHvPzHpnLeONDIf/2tEt0wL0c1g2rtcWOY4V+PMHoiZhdLlSV+d88CHr5xBnOnxIe8vO4BH90DPuw2lZYeNz7dQJFDC10wr+5x8OQHVXzr2mz+4/YCJLF3eEUY8xak2+Vjc1kzWyta2FndzlXZiViU86tVfKydu57dzZsHGke03MykaK6bnozHp7M8Lz3kFikYr2bwyu562ns9vHmgkeYucZOhK8WYtiAm8Mv3Knhxt4MoVUY3TH77rav59nVTzyqnGSb/56OjfHq0jbq2flbkp5NqDz59xaLIPP2dBXzvhlyum54cxnfhp8oShgmKLCGLwYUrxpi2IG6vzt7jTqJUGYsiY5qwa4ghXk036BrwEm2R6fdq9Hv0ES0/JdbKstlpRIex9QCwqjLfX5ZLblosDy7JYXJCVFjXJ4yeMW1BbBaZaSkxHGnuxqqaeHWDmen288pFWRRWzZ/C0VNHuXFOOplJ0WNQ2+DuKszi1oJJ2G0R060TLoMx/TZlSeLfb59LTmosMVYFSZJ4YHHOkGUfWzmLW+ZmMDPdHrHHR0Q4rjxj/o3OyYjjl9/40rDlLIrM1dmJQcv4dAPDBJs65mMPwhXiitmS2no93PP8Plb/cTdNnQNjXZ1x40SXi44+71hXI2JdMQH54MgptlW1sutYO5tKm8e6OhHDF2RGwqH6TlY9vZO7/7SHk91iaHooV0xANN0ACSSkoBvFRPLavnpu/e0O3v3sxJDPby5rpqnLRVlTF9uPigmiQ7liAnJrwSSKpiUxPyuBr101ZayrM+a6XT6e/nsNpQ1dPP1JDS7v+UPjdpuKbphIiAGGC7liPpXMpGg2rF2MYZokRFvGujpjzqsbeHwGqiLj8uloQ8xF+3ZRNgccTtLjbCzPE3cvHsoVExCAuKgr6u2EJDXWxjeunsLLu+u5qzBryM8mOzmGN75/PbKYOHZBE3KLOnKiG80whx02Hs8kCf79q3O5f3EOOSmxFyw3FuHQdBNVGR+hvGL6ICP1eVMX3/zjHu56djd7azvGujphpSoyM9LsKBFyYNU0TZ7+ezVffnonO2vGx6BARAaktq0PR0d/WJa9q6aDjn4PPW4fn1a3XbCcTzf4w6fH+M0n1bh9I5v7JQTX4HTxh3/UcrDeyTPbasbFuTMRt4v1WUMna17Yh6rI/GzVXFbmp/PE+5W4fQa/+HoBiTHWkJafmRSNaYJhmmQHmdP198pWfr65At0wmJYcw52FWSGtVwC3T8enm1gUGY9mII2Dvk/EBWRrRQunejxEWxQef7OUa6Ylsd/hxOXVKcxO5MF/mh7S8m8tyOCxlbPxaDpfX5B5wXK1bX2Y+L/MPbUdfO3qzIidAzZeTE+L5daCDD6pbOH66cl0DXhJCvEHL9wiLiBpdhuGaSJLEpIE+x1O1MFzLDr6/VMidMO8pP1q3TCJsij826r8YcteNz2Z+CgLXs3grYNNAPzvb84ftyM+r+1roPhYOz++ZTa5aefPmB4NVkXmN9+6mvc+P8kv36vgk6pW/vzP1zE5IfJmZ58WcX2QOwozuXfhNEzTxO0zKMpJJj0uiszEaG6YncpP3znMXc/u5nhb35Cvb+318MKuOmpaegP/8+kG/3PTEb7+zC7Km7vPKu/s9+Iaoo9RlJPMyw8UkWK34tMNtpSd5ETn+JyO0egc4H9tKWf93nqe/nvNmNYlyqJQebKHE10uShsj/wh+xAUkMcbK776zgN9++2qKcpI42tJLUqyFjf+yGJ9u8mJxHTuq2/jdtmN4tPOnlPznlnLWvVHKI2+UBqacVDT38GKxg+LaDp7fWQf4W5NNpSe47ekdPPjSfnrc519DeOnsNLKTYnD7dOKiVOzj8DiLacLu2g5cXh27TaWp08ULO+v4vx8eZX+dkx7X6F87OcqioBkmVkUm1X6F72Lpuh643cFQf1+qOwuz+PRoG/vqnPS5/WcRun06pglx0Rb++tkJjp7qZV5WAj+5dQ4xNhXDMPm8qZuEaJXDJ7p58v1K/uXGmfzmk2pM0yQuSuWj8lP8/h/H6HNrPL2tBgmobx9g+9E2VuRnYFEketwa+453MCPNzroVs+j3aqTH2WjoGAicL29VZLyagSQNnmYrSVhVma0VLYC/Q1o4LYn0OBsen7+cKsv4DMO/+wjI8hfzxs5c3lnlJH+YVVlCN01M0z/1X9ON4OUMiLGp/GVfPT/96xHkwd3UqpM9HHA48WomT2+r4aY5afz3A0X4NAPT9J8d6dX889osioxhmhhnrNenGzBEOZ/ur7ss+T+LIcvJMiYm9y6cSklDJy3dbmrb+nj1BQdF05O5f1EOqiyhnrE8RZLQBnepTRMMw8RmkYe8bkE4SKZ56WNtJ06c4E9/+hM33HADK1eu5NChQ7zzzjvcd9995Of79/NPnjxJRUUFK1asuOjl/+j1El7f30CURWHzD5cwKyOOe57fS2ljN6oi4dMMDGBmaiyKInHN1CTa+zx8VNFClKqgyBIr89N57/OTWAfPETFMEwkJRfZ/8LIEhgmpdivxURZsFpkelw9HxwDZSdF88vgy3j98kn/dUIbdppIRH4UkgU1VcPt0/wYhS6THWSnKSebXW6sB/y/35IQo0uJsDHj95fyjNzqqLCFJ/jp4NP/u3ZnLO7ecTzewDp6zf7of5dUNLPKFy3l1gzkZcZzqdlPa2EWMTSHNbqOp04Us+wNqGCZRVoXb50/mgKMT8P+6u3060mDgTcNEN79Yr0czME3zrHI2Vcbt01FkCUWSkGQJ7xDlLIq/7B/XXINpmHztmWJO9bgBf5CmJsegyjLWM5c3uCz/KdkmHt0gOyma332nkLS4s69LUF9fz7Fjxy5pW7uQkFqQkpISbr/9dsrKygA4fPgw3/zmNykpKSE/P5+WlhaKi4uJi4u7pOV/d3EOZY3dFE5L5EuZCURZFP605hpW/b9dnOx2E2WRkSUJh3MA0zSpa+/n6W8voNejsbfWiVWVOdbWhyxJg7+EIEtgYqLIMgNeHVWRsMgSbb0eWns8mJiBjaOx08XnTV0crO9EM0xcPoPjbf7jMyb+oJ1+XN0Cxcc6UGU5cMmf1l4Pp3rcZ5U78zFwwefOfXwp/6tvHyDa6g+MVZFJj4ui3jkABoG5WbJmsLHkBD7dP2kxlDqO5DUun86Gg00UTInnZI+baIuCaQISODoGwBz+/Ved7OWDI6e4f9G0S9quLkZI7ZTX6yU9PR1V9efMNE0mTZoUuKmnz+ejv7+fS22kinKS+eixpfz2W1cHLtuTlRTDv63KZ+msVJJirP7xdBj8BTXJSY3l8ZtnE2WRmZ1h5ye35pFitzAlMZofLZ+BRZa5OiuRX999FTflpfH4ytnYo1R/yyIRGJt3eXVirQrZybFMT43FqxmBZv90uTMfY0qkx9nw6QYun45nsON/brmzHwd77tzHF/8/zTD47qIcvjxvEv968xz+x00ziVIVctNi+c+vF7AyP51HVswizW7DPOP9X3odR/Aa/C1CdlIMNtU/kVKS/Kcr+L/H4d8XcFmuvDkSIbUgkyZNYsuWLVitVioqKoiLi2Pjxo1Mn+4/VpGVlcUtt9xCZWXlJa8jxnp+Fe++NpvV12RT09LLL96roOJUD6YJV2cnMifDToxV5f11S0mMsTI5IYpZ6XYURSInJZavzp9CepyN9Pgobh+cFt/r9rGx5ARW1b97I0sSRTlJ3DAnjWkpMdy7cCr9Ho3y5h4On+hGlsCqKng0PbDPnRBt4ck75/GPqlY0w6Spc4B9dc7A7pIsSaiyjFf37zpI+HdHvIM/Jmcu79xymuHfxTAGd3dsioLPMIKW8+oG01Nj+dFNM886uPreI/9EUoyFyQnRfG9pLuDf1Xp1b/3gLpCCV9MBKbBbY5hfrNerG4CJ9YxyVkXGo+sog5/F6d29c8upir/s7VdNYe6UeP7rjnk0OAe4cU46r+52sOd4BxZFPnt5g/00dbD/4tNMJidEcWvBpEvepi5GSH0QTdPYvn07+fn5eDweUlNT2bNnD0uXLiU62j+2HY79wjN5NSMwAhUXZbmk89EN06St1xPYn9Z0k5QhRlcME9p63YFygc634t/Y48+ZZt/W68F6RjmLIuPVDZTBX0RFkvAM/hLagpTTDBPLYOfbMME2+Hywcrrhn90cYx3ZgEnL4K6gzXJ2PU530s9cr2lyVjn/Bm0gn9NJP7fc6Y51Ysz5pyNouklHv8c/2HHG8hRJwjc4+GCaJpoBsTZlyPNXIq4PoqrqeZW55ZZbQqrQxbKq8rAXkRuOLElkxA9/LStZ4uxywxzfCnQiR3ocbAyPl13M+wpHOVUZ2Xcw2iLuOIggRJJRCcjlOC4iCMM5PVh0WZd52Zc4hJqaGlJTUwOjW6dJkoSiKGiaNhrVAPxhNQzjkkfWLpYkSciyfN57DydVVdF1fdTeoyzLSJI0pu9RlmWampou/3ou+xLPkZaWRkpKClVVVec953a7+fzzz1m4cOGofJmyLFNSUkJOTg5JSUlhX6ckSXR2duJwOCgsLMQwwj80KUkS+/btY/78+URFhX+fXpIkmpub6enpIT8/f1TeI8CePXtYuHAhsvzFTpBhGFx33XWXdT1hD0hMTAx33nnnkM/5fD4SExP56le/Gu5qBCQkJFBYWEhSUtKorK+zs5OSkpKwjeINxWazceutt2KxjM7FK+rr62lpabnsG2cwiqJwxx13hH09IQ3zhkrXdTo7O0lNTR21dTqdTux2O1br6EyS83q99PX1kZwc/lswnNbe3k5SUtKo9f1cLhder5eEhIRRWR9AW1sbqampYT/pakwDIgiRbkyHeauqqli/fj0ejyes6zFNky1btrBlyxY0TWPTpk3s3LkzrOsE/6/ctm3bqKur45VXXmFgILzXDD58+DAbN27E7XazYcMGDh48GNb1NTc38+KLL3LixAkqKyt57bXX8PnCM32+vb2dV155Bbfbzb59+3j33XfRNI133nmHPXv2hGWdMIYBMU2THTt2IMsye/fuDfu65syZQ3t7O1u3bqWrq4vy8nK6u7uHf3EItm/fzt69e9m+fTs2m43i4uKwrau/v5+NGzdit9upqqrC5XJx4MABXK7wneS1a9cuVFXl008/Zc+ePZimyYEDB8KyLpvNhtPpxOFwUFZWRn9/P5s2bWJgYIDS0lL6+oY+gS5UYxYQr9eL1Wpl0aJFdHV1hXVdsiwza9YsJMk/XWH+/PlkZmaGdb0Oh4OWlhasViuaprF8+XKcTmfY1tfT00NbWxuNjY2UlJRw/fXXk5ycTH9/eK4OA5Camsr+/fuxWq3Y7XYWL15MR0d4LqUUFxfHjBkz6OrqYtKkSSxYsICqqiquvfZaJk2aFLYfuzELiMViwev1UlNTE5i3FS6mafLWW2+Rm5vLzJkzqa2tpb29Hbs9fOdmy7KMx+Ph8OHD9Pb2UlFRQWzshS/gFiqr1cq8efPIysrCMAxqa2vp6ekJ61BvQ0MD9957Lx0dHfT391NdXR22z9Q0Tbq6ulAUBafTSV1dHZmZmdTW1gYGXsJhzAIiyzLz5s3j8OHDXH/99WFdl2EYHD16lLKyMpKSkuju7iYxMZGUlJSwrXPq1Kk8/vjjrF27lhtvvJEDBw6wePHisK0vOTmZyZMn09TUxOrVqzl+/DjTpk0L64/Atddey/bt21m6dCl5eXlUVlaGbajX6XRSWVmJw+EgIyOD5uZmVq9eTVNTExkZGWEbQROjWIIQhJisKAhBiICME5qmjeqcNcFPBGScOHToUODcf2H0jL8LPV1hGhoaePfdd8nJyaGiooK0tDRuu+02Xn75ZZYtW4bVamXPnj3k5uayc+dO6uvrLzi3Tbj8RAsyxj7++GO6urr48MMPyczMJDs7m7/85S+sWrWK8vJy9u3bxw9+8AMSEhJYtmwZnZ2deL3irrSjRbQgYywqKooFCxYQExNDdXU1sbGxREdH09HREThfxul04vP5SEtLo6OjY1TPu5joRAsyxm677TZOnTpFe3s7TU1NmKbJ/fffz9GjR1m8eDErV67k/fffJykpicmTJ5Ofnx+WM+eEoYnjIBHi5MmT1NTUcMMNN4x1VYQziIAIQhBiF0sQghABEYQgREAEIYj/D3PXL8lQVwYzAAAAAElFTkSuQmCC\" style=\"display:inline-block;margin:10px;\"/><img src=\"data:image/png;base64,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\" style=\"display:inline-block;margin:10px;\"/><img src=\"data:image/png;base64,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\" style=\"display:inline-block;margin:10px;\"/>"
      ],
      "text/plain": [
       "<IPython.core.display.HTML object>"
      ]
     },
     "metadata": {},
     "output_type": "display_data"
    },
    {
     "data": {
      "text/html": [
       "<img src=\"data:image/png;base64,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\" style=\"display:inline-block;margin:10px;\"/><img src=\"data:image/png;base64,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\" style=\"display:inline-block;margin:10px;\"/><img src=\"data:image/png;base64,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\" style=\"display:inline-block;margin:10px;\"/>"
      ],
      "text/plain": [
       "<IPython.core.display.HTML object>"
      ]
     },
     "metadata": {},
     "output_type": "display_data"
    },
    {
     "data": {
      "text/html": [
       "<img src=\"data:image/png;base64,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\" style=\"display:inline-block;margin:10px;\"/><img src=\"data:image/png;base64,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\" style=\"display:inline-block;margin:10px;\"/><img src=\"data:image/png;base64,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\" style=\"display:inline-block;margin:10px;\"/>"
      ],
      "text/plain": [
       "<IPython.core.display.HTML object>"
      ]
     },
     "metadata": {},
     "output_type": "display_data"
    }
   ],
   "source": [
    "import pickle\n",
    "import matplotlib.pyplot as plt\n",
    "import os\n",
    "from libs.utilty import *\n",
    "def load_result(file_path):\n",
    "    with open(file_path, 'rb') as f:\n",
    "        loaded_data = pickle.load(f)\n",
    "    return loaded_data\n",
    "\n",
    "\n",
    "def plot_epoch_result(dataset_name,y_label_name):\n",
    "    result_dict=load_result('./checkpoints/'+dataset_name+'.pkl')\n",
    "    if not os.path.exists('./traing_result_pic'):\n",
    "        os.mkdir('./traing_result_pic')\n",
    "    if y_label_name=='training_loss_list':\n",
    "        x_list=result_dict['epoch_list']\n",
    "        y_list=result_dict['training_loss_list']\n",
    "        plt.scatter(x_list,y_list)\n",
    "        plt.title('epoch - train_loss_list')\n",
    "        plt.xlabel('epoch')\n",
    "        plt.ylabel(y_label_name)\n",
    "        plt.savefig('./traing_result_pic/'+dataset_name+'_'+'epoch'+'_'+y_label_name+'.png')\n",
    "        plt.close()\n",
    "\n",
    "    elif y_label_name=='val_acc_list':\n",
    "        x_list=result_dict['epoch_list'][::2]\n",
    "        y_list=result_dict['val_acc_list']\n",
    "        plt.scatter(x_list,y_list)\n",
    "        plt.title('epoch - val_acc_list')\n",
    "        plt.xlabel('epoch')\n",
    "        plt.ylabel(y_label_name)\n",
    "        plt.savefig('./traing_result_pic/'+dataset_name+'_'+'epoch'+'_'+y_label_name+'.png')\n",
    "        plt.close()\n",
    "    elif y_label_name=='validation_loss_list':\n",
    "        x_list=result_dict['epoch_list'][::2]\n",
    "        y_list=result_dict['validation_loss_list']\n",
    "        plt.scatter(x_list,y_list)\n",
    "        plt.title('epoch - val_loss_list')\n",
    "        plt.xlabel('epoch')\n",
    "        plt.ylabel(y_label_name)\n",
    "        plt.savefig('./traing_result_pic/'+dataset_name+'_'+'epoch'+'_'+y_label_name+'.png')\n",
    "        plt.close()\n",
    "    pic_path='./traing_result_pic/'+dataset_name+'_'+'epoch'+'_'+y_label_name+'.png'\n",
    "    return pic_path\n",
    "\n",
    "data_set_name_list=['color_type_random_dataset','side_legnth_type_random_dataset','rotation_bool_dataset','hard_dataset']\n",
    "y_label_name_list=['training_loss_list','validation_loss_list','val_acc_list']\n",
    "\n",
    "for data_set_name in data_set_name_list:\n",
    "    pic_path_list=[]\n",
    "    for y_label_name in y_label_name_list:\n",
    "        pic_path=plot_epoch_result(data_set_name,y_label_name)\n",
    "        pic_path_list.append(pic_path)\n",
    "    display_side_by_side(pic_path_list)"
   ]
  },
  {
   "cell_type": "code",
   "execution_count": 12,
   "metadata": {},
   "outputs": [
    {
     "name": "stdout",
     "output_type": "stream",
     "text": [
      "Visualize_finish!\n",
      "The outcome is fascinating. The alteration of color, length, or even rotation individually does not seem to significantly impact it. However, the complexity of the dataset plays a crucial role.\n",
      "One way to increasing ACC stategy intuitively is to append more training data.\n",
      "The second strategy involves incorporating pre-processing techniques tailored to address corner cases commonly encountered in situations involving excessively small shapes\n",
      "Utilizing the contour tracing technique and subsequently enlarging the identified contour is recommended.\n",
      "Presumably, the case will turn into changed color or length case\n"
     ]
    }
   ],
   "source": [
    "print('Visualize_finish!')\n",
    "print('The outcome is fascinating. The alteration of color, length, or even rotation individually does not seem to significantly impact it. However, the complexity of the dataset plays a crucial role.')\n",
    "print('One way to increasing ACC stategy intuitively is to append more training data.')\n",
    "print('The second strategy involves incorporating pre-processing techniques tailored to address corner cases commonly encountered in situations involving excessively small shapes')\n",
    "print('Utilizing the contour tracing technique and subsequently enlarging the identified contour is recommended.')\n",
    "print('Presumably, the case will turn into changed color or length case')\n"
   ]
  }
 ],
 "metadata": {
  "kernelspec": {
   "display_name": "base",
   "language": "python",
   "name": "python3"
  },
  "language_info": {
   "codemirror_mode": {
    "name": "ipython",
    "version": 3
   },
   "file_extension": ".py",
   "mimetype": "text/x-python",
   "name": "python",
   "nbconvert_exporter": "python",
   "pygments_lexer": "ipython3",
   "version": "3.12.3"
  }
 },
 "nbformat": 4,
 "nbformat_minor": 2
}
