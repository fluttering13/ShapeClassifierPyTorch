{
 "cells": [
  {
   "cell_type": "code",
   "execution_count": 6,
   "metadata": {},
   "outputs": [
    {
     "name": "stdout",
     "output_type": "stream",
     "text": [
      "Gievn the different gemotry, the goal is to test and to realize how CNN works\n",
      "The setting is simple, the geometry dataset is in same color, side_lenth ,and without roation\n"
     ]
    },
    {
     "data": {
      "text/html": [
       "<img src=\"data:image/png;base64,iVBORw0KGgoAAAANSUhEUgAAAMgAAADICAIAAAAiOjnJAAADqklEQVR4nO3d207bQBRA0VD1/3+ZPrhKKQSSON6+zVrPQOYMm+MICfH2/v5+gaX92voAnJOwSAiLhLBICIuEsEgIi4SwSAiLhLBICIuEsEgIi4SwSAiLhLBICIuEsEgIi4SwSPze+gBDe7u8Pf7B75cj/dmLsFb1VEk/f+7OOxPWGl7p6e7X3GdhwgoVPf3wKrsqTFiJdZK6+aI7yUtYC9skqa8H2DwvYS1m86Q+2jwvYS1gV0l9tGFefkH6qt1WdbXJCW2s+faf1NX6q8vGmulAVV2teWZhzXHEqiarndyj8DnHTepqnceijfWEE1R1Vc8irEedqapJOpGwHnK+qibdXMK676xVTaLphHXHuauaFDMKi4SwfjLCuposPqmwvjVOVZNl5xXWbaNVNVlwamGRENYNY66ryVKzC+uzkauaLHIDwiIhrP9YV5PX70FYJIT1j3X10Yu3ISwSwvrLuvrqlTsRFglhXS7W1fdm34ywSAiLhLA8B++Ydz/CIiEsEqOH5Tn4iBm3NHpYRIRFQlgkhEVi6LC8c3/cs3c1dFh0hEVCWCSERUJYJIRFQlgkhEVCWCSERUJYJIRFQlgkhEVi6LA2/4/cB/LsXQ0dFh1hkRAWCWGRGD0s798fMeOWRg+LiLBICMvT8I559yMsEsIiIazLxdPwe7NvRlgkhPWXpfXVK3ciLBLC+sfS+ujF2xAWCWH9x9KavH4PwiIhrM8srUVuQFg3jNzWUrMLi4SwbhtzaS04tbC+NVpby84rrJ+M09bikwqLhLDuGGFpFTMK675ztxVNJ6yHnLWtbi5hPep8baUTCesJZ2qrnuV3+tXPZ/p+HPrfhq3z42FjzXHc1bXayYU10xHbWvPMHoXzHeixuP6PgY31qv2vrk1OaGMtYLera8PohbWYXeW1+R4V1sI2z2vzpCbCSmyS106SmggrdP1Op4XtqqcrYa2hKGyfPV0Ja1Wfaniqs52X9ImwtnSsVp7iF6QkhEVCWCSERUJYJIRFQlgkhEVCWCSERUJYJIRFQlgkhEVCWCSERUJYJIRFQlgkhEVCWCSERUJYJIRFQlgkhEVCWCSERUJYJIRFQlgkhEVCWCSERUJYJIRFQlgkhEVCWCSERUJYJIRFQlgkhEVCWCSERUJYJIRFQlgkhEVCWCSERUJYJIRFQlgkhEVCWCSERUJYJIRFQlgkhEVCWCSERUJYJIRFQlgkhEVCWCSERUJYJIRFQlgkhEVCWCSERUJYJP4AaCaOsyCqqoIAAAAASUVORK5CYII=\" style=\"display:inline-block;margin:10px;\"/><img src=\"data:image/png;base64,iVBORw0KGgoAAAANSUhEUgAAAMgAAADICAIAAAAiOjnJAAAD6ElEQVR4nO3dzW4iMRCF0c4o7//KzAKpg4BhIHDb5fI56/zY5a/dURbJ1+l02uDT/oxeAD0JiwhhESEsIoRFhLCIEBYRwiJCWEQIiwhhESEsIoRFhLCIEBYRwiJCWEQIiwhhESEsIoRFhLCIEBYRwiJCWEQIiwhhESEsIoRFhLCIEBYRwiJCWER8j17A3L62r+c/+LQt9McThfWal0p6/Lm9OxPWU97p6b9fs2Vhwnok0dOD79KpMGHdd0xSd79pj7yEdW1IUrcLmD0vYf0YntSl2fMS1rYVS+rSvHn5BWndqnb1V3hr6RtrogOb7upa98aaqKrdRGteNKyJTujKLCtf7lU4y8E8MMVrca0bq0FVu+J7WSis4ifxC5V3tEpYlc/gHWX3tURYZaf/ETV31z+smnP/rIJ77B8WQzQPq+CjHFJtp53DqjbrtFL7bRtWqSkfps6u24bFWD3DqvPgHq/I3huGVWSyA1WYQMOwqKBbWBUe1gqGz6FbWBTRKqzhj2kpY6fRKizq6BOW6+rWwJn0CYtSmoTluvqXUZNpEhbVCIuIDmF5Dz42ZD4dwqIgYRExfVjeg884fkrTh0VNwiJCWEQIi4i5w/KT+/MOntXcYVGWsIgQFhHCIkJYRAiLCGERISwihEWEsIgQFhHCIkJYRAiLiLnDKv4fsEo5eFZzh0VZwiJCWEQIi4jpw/Lz+zOOn9L0YVGTsIjoEJa34WND5tMhLAoSFhFNwvI2/JdRk2kSFtX0CculdWvgTPqERSmtwnJpXRo7jVZhUUe3sFxaZ8Pn0C0simgY1vCHdbgKE2gY1lZjsqMU2XvPsBiubVhFHtyD1dl127C2SlM+Rqn9dg5rKzbrqGo7bR4Wo/QPq9qjnFBwj/3D2krO/YNq7m6JsLaq039f2X2tEtZW+Ax+rfKOFgprq30Sryq+l+/RCzja+Tym/rdhxZM6W+vG2k1xNnfNsvJFw9rmOaFLE615uVfhpYleixMldbbujbWrf2b1V3hr6RtrV/bqmjGpM2H9KJXXvEmdCeva8LxmT+pMWPcNyatHUmfCemQ/6WhhnXraCespicJa9rQT1muuanips94lXRHWW5Zq5SV+QUqEsIgQFhHCIkJYRAiLCGERISwihEWEsIgQFhHCIkJYRAiLCGERISwihEWEsIgQFhHCIkJYRAiLCGERISwihEWEsIgQFhHCIkJYRAiLCGERISwihEWEsIgQFhHCIkJYRAiLCGERISwihEWEsIgQFhHCIkJYRAiLCGERISwihEWEsIgQFhHCIkJYRAiLCGERISwihEWEsIgQFhHCIkJYRAiLCGERISwi/gIu0Y6z2vJ51gAAAABJRU5ErkJggg==\" style=\"display:inline-block;margin:10px;\"/>"
      ],
      "text/plain": [
       "<IPython.core.display.HTML object>"
      ]
     },
     "metadata": {},
     "output_type": "display_data"
    },
    {
     "data": {
      "text/html": [
       "<img src=\"data:image/png;base64,iVBORw0KGgoAAAANSUhEUgAAAMgAAADICAIAAAAiOjnJAAACKklEQVR4nO3U0Q2EMAwFweRE/y37mmADQjMNPH+svGdmwd1+Tx/ANwmLhLBICIuEsEgIi4SwSAiLhLBICIuEsEgIi4SwSAiLhLBICIuEsEgIi4SwSAiLhLBICIuEsEgIi4SwSAiLhLBICIuEsEgIi4SwSAiLhLBICIuEsEgIi4SwSAiLhLBICIuEsEgIi4SwSAiLhLBICIuEsEgIi4SwSAiLhLBICIuEsEgIi4SwSAiLhLBICIuEsEgIi4SwSAiLhLBICIuEsEgIi4SwSAiLhLBICIuEsEgIi4SwSAiLhLBICIuEsEgIi4SwSAiLhLBICIuEsEgIi4SwSAiLhLBICIuEsEgIi4SwSFwHNvbaB1Y+Y9Y8fcINfCwSwiIhLBLCIiEsEsIiISwSwiIhLBLCIiEsEsIiISwSwiIhLBLCIiEsEsIiISwSwiIhLBLCIiEsEsIiISwSwiIhLBLCIiEsEsIiISwSwiIhLBLCIiEsEsIiISwSwiIhLBLCIiEsEsIiISwSwiIhLBLCIiEsEsIiISwSwiIhLBLCIiEsEsIiISwSwiIhLBLCIiEsEsIiISwSwiIhLBLCIiEsEsIiISwSwiIhLBLCIiEsEsIiISwSwiIhLBLCIiEsEsIiISwSwiIhLBLCIiEsEsIiISwSwiIhLBLCIiEsEsIiISwSwiIhLBLCIiEsEsIiISwSwiIhLBLCInEd2Jg1B1Z4FR+LhLBICIuEsEgIi4SwSPwBQtAIjwO9HqkAAAAASUVORK5CYII=\" style=\"display:inline-block;margin:10px;\"/><img src=\"data:image/png;base64,iVBORw0KGgoAAAANSUhEUgAAAMgAAADICAIAAAAiOjnJAAACJ0lEQVR4nO3U0QmAQAwFwTux/5ZjEy6HMlPAIx9L9swseNt1+gD+SVgkhEVCWCSERUJYJIRFQlgkhEVCWCSERUJYJIRFQlgkhEVCWCSERUJYJIRFQlgkhEVCWCSERUJYJIRFQlgkhEVCWCSERUJYJIRFQlgkhEVCWCSERUJYJIRFQlgkhEVCWCSERUJYJIRFQlgkhEVCWCSERUJYJIRFQlgkhEVCWCSERUJYJIRFQlgkhEVCWCSERUJYJIRFQlgkhEVCWCSERUJYJIRFQlgkhEVCWCSERUJYJIRFQlgkhEVCWCSERUJYJIRF4o5299rR8i/NmtMnvMzHIiEsEsIiISwSwiIhLBLCIiEsEsIiISwSwiIhLBLCIiEsEsIiISwSwiIhLBLCIiEsEsIiISwSwiIhLBLCIiEsEsIiISwSwiIhLBLCIiEsEsIiISwSwiIhLBLCIiEsEsIiISwSwiIhLBLCIiEsEsIiISwSwiIhLBLCIiEsEsIiISwSwiIhLBLCIiEsEsIiISwSwiIhLBLCIiEsEsIiISwSwiIhLBLCIiEsEsIiISwSwiIhLBLCIiEsEsIiISwSwiIhLBLCIiEsEsIiISwSwiIhLBLCIiEsEsIiISwSwiIhLBLCIiEsEsIiISwSwiIhLBLCIiEsEsIiISwSd7Q7a6JlPsHHIiEsEsIiISwSwiIhLBLCIiEsEsIiISwSwiIhLBLCIiEsEsIiISwSwiIhLBIPYa8Ij74SUD0AAAAASUVORK5CYII=\" style=\"display:inline-block;margin:10px;\"/>"
      ],
      "text/plain": [
       "<IPython.core.display.HTML object>"
      ]
     },
     "metadata": {},
     "output_type": "display_data"
    },
    {
     "data": {
      "text/html": [
       "<img src=\"data:image/png;base64,iVBORw0KGgoAAAANSUhEUgAAAMgAAADICAIAAAAiOjnJAAADpElEQVR4nO3Vy3LbMBBFQTqV//9lZeGqxLEpia8LYIjupVbU4GDw8Xg8Frjar94fwD0JiwhhESEsIoRFhLCIEBYRwiJCWEQIiwhhESEsIoRFhLCIEBYRwiJCWEQIiwhhESEsIoRFhLCIEBYRwiJCWEQIiwhhESEsIoRFhLCIEBYRwiJCWEQIiwhhESEsIoRFhLCIEBYRwiJCWEQIiwhhESEsIoRFhLCIKB/Wx/LR+xNYUTusz6q0NaDaYTGswmF9XVSW1mgKh8XIqob1c0VZWkMpGZaGxlcyrGcEN456Yb2uR1uDqBcWJRQLa8tCsrRGUCwsqqgU1vZVZGl1VyYsrdRSJqy9hNhXjbCOVaKtjmqERTkFwjqzeCytXkYPSxlFjR7WedLsYuiwrmpCW+0NHRZ1jRvWtWvG0mps3LAobdCwEgvG0mppxLAUcAMjhpUj2WaGCyt99tpqY7iwuIexwmqzTiytBgYKy3nfyUBhtSTitFHCctI3M0pY7Uk5aoiwep2xtnL6h+V0b6l/WH3JOqRzWM71rmbfWIu4M3qG5URvzMZaFokHdAtrtLMc7Xuq6xOWU7w9T+E/cr9Qh7Cc3wxsrP+I/iqtw3Jyk2gaVomqSnzk+DyFK7R1XruwnNZUbKx1rsFJjcJyTrOxsZ5yGc5oEVbdE6r75d3Fw3I2c/IUvuFiHJMNy6lMy8Z6z/U4IBiW85hZKqybVXWzv9OAp3Arbe0SCcsZYGPt4MJsd31Yps9iY+3l2mx0cVjmzqcrw5qkqkn+5kmewiO09dZlYZk1X9lYB7lIr10TlinzzQVhTVvVtH98C08hEWfDmvzWTv73X7CxztLWqlNhmSnPHA9LVX8ZxU+eQiIOhuWOfmMg39hYRBwJy+1cZSxf2VhX0tZfu8MyO7bYF5aq3jKiT55CInaE5S5uZFCLjRWira1hmRS7bApLVQdMPjRPIRHvw5r85p0x8+hsLCLehDXznbvEtAO0seLmbOtVWHNOhEs8DUtVF5pwmJ5CItbDmvCGpc02UhuLiJWwZrtbzUw12N8/f3osj/bfwc14CokQFhHCIkJYRAiLCGERISwihEWEsIgQFhHCIkJYRAiLCGERISwihEWEsIgQFhHCIkJYRAiLCGERISwihEWEsIgQFhHCIkJYRAiLCGERISwihEWEsIgQFhHCIkJYRAiLCGERISwihEWEsIgQFhHCIkJYRAiLCGERISwihEWEsIgQFhHCIkJYRPwBToYHdS9rzswAAAAASUVORK5CYII=\" style=\"display:inline-block;margin:10px;\"/><img src=\"data:image/png;base64,iVBORw0KGgoAAAANSUhEUgAAAMgAAADICAIAAAAiOjnJAAADt0lEQVR4nO3UW1YjWQxFQVOr5z9l10f1oukCjA15nHpETMBpaV+9XK/XCxzt19kfwEzCIkJYRAiLCGERISwihEWEsIgQFhHCIkJYRAiLCGERISwihEWEsIgQFhHCIkJYRAiLCGERISwihEWEsIgQFhHCIkJYRAiLCGERISwihPUdL5eXsz+hOmE97E9V2rpNWEQI6zFvD5WjdYOwiBDWA96fKEfrM8K6l4YeIqyfEtyHhHWX2/Vo6z1hESGsr91zkBytvwiLCGF94f5T5Gi9JaxbtPJtwjqSEF8J61Pfq0RbfwiLCGF97CeHx9G6COtDyvg5YUVIU1h/O6qJ5W0Jiwhh/c+xZ2bz0RIWEcL6T+LArD1awvrX2gJChBW3M1lhXS753S9sS1hECOtJ52Tb0doe1rZ9P832sJ5pVcSrw1q16SdbHdbz7Ul5b1hn7XhJW0vDWrLdEy0N61wbst4Y1oa9nm5jWBWMj3tdWOM3WsS6sOqYnfiusKrtstr3HGhRWIO3WNCisGqamvuWsKbur6wtYVU2MvoVYY3cXHHzw2pRVYuPfMj8sLoY1tbwsIZtq5HhYfUy6RlMDmvSntqZHFZHYx7D2LD6bqjvl781M6wZu2ltZljdDXgYA8MasJUBBoY1Q/fnMS2s7vsYY1RYw6pq/XdGhTVP37bmhNV3ByPNCWuqpg9mSFhNpz/YkLBm6/hsJoTVce7jtQ9rSVXt/mb7sPbo1VbvsHrNepXeYW3T6CE1DqvRlBfqGtbaqrr88a5hUVzLsLq82pAWf79lWNRvq19Y9WfKpV1YqnpVfBTNwqKLTmEVf6PPV3kgncKikTZhVX6dJyo7ljZh8ZmabfUIq+bsuKFBWKr6UsERNQiLjqqHVfAt1lRtUNXD4n6l2iodVqlJ8ZC6YanqG+oMrW5YtFY0rDovr50ioysaFt1VDKvIm+urwgArhsXPnd5WubBOnwiHqBWWqg507jBrhcUYhcJyrg534kgLhcUkVcJyrkLOGuw/p/zqe9fL9exP4EhVLhbDCIsIYREhLCKERYSwiBAWEcIiQlhECIsIYREhLCKERYSwiBAWEcIiQlhECIsIYREhLCKERYSwiBAWEcIiQlhECIsIYREhLCKERYSwiBAWEcIiQlhECIsIYREhLCKERYSwiBAWEcIiQlhECIsIYREhLCKERYSwiBAWEcIiQlhECIsIYREhLCKERYSwiBAWEcIiQlhECIsIYREhLCKERYSwiBAWEcIiQlhECIsIYREhLCJ+Ayw8B3XKup5fAAAAAElFTkSuQmCC\" style=\"display:inline-block;margin:10px;\"/>"
      ],
      "text/plain": [
       "<IPython.core.display.HTML object>"
      ]
     },
     "metadata": {},
     "output_type": "display_data"
    }
   ],
   "source": [
    "from PIL import Image, ImageDraw\n",
    "from libs.geometry import *\n",
    "from libs.utilty import *\n",
    "\n",
    "def generate_shape_image(width, height, num_each_shape, shape_type, save_path, color_type='random',side_length_type='random',rotation_bool=True):\n",
    "\n",
    "    #label_dict={}\n",
    "    for i in range(num_each_shape):\n",
    "        # Create a blank white image\n",
    "        image = Image.new(\"RGB\", (width, height), \"white\")\n",
    "\n",
    "        draw = ImageDraw.Draw(image)        \n",
    "        # determine color\n",
    "        color=determine_color(color_type)\n",
    "        # determine square or circle\n",
    "        draw=determine_radius_perserving_gemotry(draw, height, width, shape_type, color, side_length_type, rotation_bool)\n",
    "        # determine triangle\n",
    "        draw=determine_triangle(draw, height, width, shape_type, color, side_length_type, rotation_bool)\n",
    "\n",
    "        image_save(image,i,save_path,shape_type)\n",
    "\n",
    "\n",
    "if __name__ == \"__main__\":\n",
    "    width=200\n",
    "    hight=200\n",
    "    num_each_shape=100\n",
    "    for shape_type in ['circle','square','triangle']:\n",
    "        generate_shape_image(width, hight, \n",
    "                            num_each_shape, \n",
    "                            shape_type,\n",
    "                            \"./pic/\",\n",
    "                            color_type='fix', #random or fix\n",
    "                            side_length_type='fix', #whether fix the side_length of geometry\n",
    "                            rotation_bool=False) #whether fix the roation\n",
    "        \n",
    "    print('Gievn the different gemotry, the goal is to test and to realize how CNN works')\n",
    "    print('The setting is simple, the geometry dataset is in same color, side_lenth ,and without roation')\n",
    "\n",
    "    display_side_by_side(['./pic/circle/0.png','./pic/circle/1.png'])\n",
    "    display_side_by_side(['./pic/square/0.png','./pic/square/1.png'])\n",
    "    display_side_by_side(['./pic/triangle/0.png','./pic/triangle/1.png'])"
   ]
  },
  {
   "cell_type": "code",
   "execution_count": 7,
   "metadata": {},
   "outputs": [
    {
     "name": "stdout",
     "output_type": "stream",
     "text": [
      "def data_loader\n"
     ]
    }
   ],
   "source": [
    "from torch.utils.data import DataLoader,random_split\n",
    "from torchvision.transforms import transforms\n",
    "from torchvision import transforms, datasets\n",
    "\n",
    "print('def data_loader')\n",
    "def exp_data_loader(image_height, image_width, batch_size):\n",
    "    data_transform = transforms.Compose([\n",
    "        transforms.Resize((image_height, image_width)),  # resize the image\n",
    "        transforms.ToTensor(),         # to tensor datatype\n",
    "        transforms.Normalize(mean=[0.5, 0.5, 0.5], std=[0.5, 0.5, 0.5])  # normalization\n",
    "    ])\n",
    "\n",
    "    dataset = datasets.ImageFolder(root='./pic', transform=data_transform)\n",
    "    dataset_size = len(dataset)\n",
    "    train_size = int(0.7 * dataset_size)\n",
    "    val_size = int(0.15 * dataset_size)\n",
    "    test_size = dataset_size - train_size - val_size\n",
    "\n",
    "    # Create datasets\n",
    "    train_dataset, val_dataset, test_dataset = random_split(dataset, [train_size, val_size, test_size])\n",
    "\n",
    "    # Create DataLoaders for each subset\n",
    "    train_loader = DataLoader(train_dataset, batch_size=batch_size, shuffle=True)\n",
    "    val_loader = DataLoader(val_dataset, batch_size=batch_size, shuffle=False)\n",
    "    test_loader = DataLoader(test_dataset, batch_size=batch_size, shuffle=False)\n",
    "\n",
    "    return train_loader, val_loader, test_loader\n"
   ]
  },
  {
   "cell_type": "code",
   "execution_count": 8,
   "metadata": {},
   "outputs": [
    {
     "name": "stdout",
     "output_type": "stream",
     "text": [
      "def the NetWork and training_process\n"
     ]
    }
   ],
   "source": [
    "import torch\n",
    "import torch.nn as nn\n",
    "import torch.nn.functional as F\n",
    "import torch.optim as optim\n",
    "import os\n",
    "from tqdm import tqdm\n",
    "from sklearn.metrics import confusion_matrix\n",
    "import pickle\n",
    "print('def the NetWork and training_process')\n",
    "\n",
    "class SimpleCNN(nn.Module):\n",
    "    def __init__(self, image_height, image_width, number_classes):\n",
    "        super(SimpleCNN, self).__init__()\n",
    "        #batch_size\n",
    "        fc_input_size = 32 * (image_height // 4) * (image_width // 4) #two maxPool://4 and second conv channel: 32 \n",
    "        self.conv1 = nn.Conv2d(in_channels=3, out_channels=16, kernel_size=3, stride=1, padding=1)\n",
    "        self.batchnorm1 = nn.BatchNorm2d(16)\n",
    "        self.relu1 = nn.ReLU()\n",
    "        self.pool1 = nn.MaxPool2d(kernel_size=2, stride=2)\n",
    "\n",
    "        self.conv2 = nn.Conv2d(in_channels=16, out_channels=32, kernel_size=3, stride=1, padding=1)\n",
    "        self.batchnorm2 = nn.BatchNorm2d(32)\n",
    "        self.relu2 = nn.ReLU()\n",
    "        self.pool2 = nn.MaxPool2d(kernel_size=2, stride=2)\n",
    "\n",
    "        self.fc1 = nn.Linear(fc_input_size, 128)\n",
    "        self.fc2 = nn.Linear(128, number_classes)\n",
    "        self.dropout = nn.Dropout(0.5)\n",
    "\n",
    "    def forward(self, x):\n",
    "        x = self.conv1(x) #out: (batch_size, 16, cov_height, cov_width)\n",
    "        x = self.batchnorm1(x) \n",
    "        x = self.relu1(x)\n",
    "        x = self.pool1(x) #out: (batch_size, 16, cov_height/2, cov_width/2)\n",
    "\n",
    "        x = self.conv2(x) #out: (batch_size, 32, cov_height/2, cov_width/2)\n",
    "        x = self.batchnorm2(x)\n",
    "        x = self.relu2(x)\n",
    "        x = self.pool2(x) #out: (batch_size, 32, cov_height/4, cov_width/4)\n",
    "\n",
    "        x = x.squeeze()\n",
    "        fc_input_size = 32 * (x.size(2)) * (x.size(3))\n",
    "        x = x.view(-1, fc_input_size) # out: (batch_size, 32 * (image_height // 4) * (image_width // 4))\n",
    "\n",
    "        x = F.relu(self.fc1(x)) #out: (batch_size, 128)\n",
    "\n",
    "        x = self.fc2(x)\n",
    "        \n",
    "        return x\n",
    "    \n",
    "def validate_model(model, criterion, val_loader, device):\n",
    "    model.eval()  \n",
    "    val_loss = torch.tensor(0.0)\n",
    "    correct = 0\n",
    "    true_labels = []\n",
    "    predicted_labels = []\n",
    "    with torch.no_grad():\n",
    "        for images, labels in val_loader:\n",
    "            images, labels = images.to(device), labels.to(device)\n",
    "            outputs = model(images)\n",
    "            val_loss += criterion(outputs, labels).item() * images.size(0)\n",
    "            _, predicted = torch.max(outputs, 1)\n",
    "\n",
    "            correct += (predicted == labels).sum().item()\n",
    "            true_labels.extend(labels.cpu().numpy())\n",
    "            predicted_labels.extend(predicted.cpu().numpy())    \n",
    "\n",
    "    val_loss /= len(val_loader.dataset)\n",
    "    accuracenter_y = correct / len(val_loader.dataset) * 100\n",
    "\n",
    "    cm = confusion_matrix(true_labels, predicted_labels)\n",
    "    return val_loss, accuracenter_y, cm    \n",
    "\n",
    "def train_model(model, criterion, optimizer, train_loader, val_loader, num_epochs, checkpoint_interval, device, result_save_name):\n",
    "    os.makedirs('checkpoints', exist_ok=True)\n",
    "    epoch_list=[]\n",
    "    training_loss_list=[]\n",
    "    validation_loss_list=[]\n",
    "    val_acc_list=[]\n",
    "    cm_list=[]\n",
    "    for epoch in range(num_epochs):\n",
    "        epoch_list.append(epoch)\n",
    "        model.train()  \n",
    "        running_loss = 0.0\n",
    "\n",
    "        for images, labels in tqdm(train_loader, desc=f'Epoch {epoch+1}/{num_epochs}', unit='batch'):\n",
    "            images, labels = images.to(device), labels.to(device)\n",
    "            optimizer.zero_grad()  \n",
    "            outputs = model(images)  \n",
    "            loss = criterion(outputs, labels)  \n",
    "            loss.backward()  \n",
    "            optimizer.step()  \n",
    "            running_loss += loss.item() * images.size(0)\n",
    "            \n",
    "        epoch_loss = running_loss / len(train_loader.dataset)\n",
    "        training_loss_list.append(epoch_loss)\n",
    "        print(f\"Epoch {epoch+1}/{num_epochs}, Loss: {epoch_loss:.4f}\")\n",
    "\n",
    "        # Validate the model\n",
    "        if (epoch + 1) % checkpoint_interval == 0:\n",
    "\n",
    "            val_loss, val_acc, confusion_matrix = validate_model(model, criterion, val_loader, device)\n",
    "            print(f\"Validation Loss: {val_loss:.4f}, Accuracenter_y: {val_acc:.2f}%\")\n",
    "            print(f'confusion_matrix:\\n {confusion_matrix}')\n",
    "            # Save model checkpoint\n",
    "            checkpoint_path = f\"checkpoints/{result_save_name}_model_epoch{epoch+1}.pth\"\n",
    "            torch.save(model.state_dict(), checkpoint_path)\n",
    "            print(f\"Checkpoint saved at {checkpoint_path}\")\n",
    "            validation_loss_list.append(val_loss.cpu().numpy())\n",
    "            val_acc_list.append(val_acc)\n",
    "            cm_list.append(confusion_matrix)\n",
    "    result_dict={'epoch_list':epoch_list,\n",
    "                 'training_loss_list':training_loss_list,\n",
    "                 'validation_loss_list':validation_loss_list,\n",
    "                 'val_acc_list':val_acc_list,\n",
    "                 'cm_list':cm_list\n",
    "                 }\n",
    "    with open('./checkpoints/'+result_save_name+'.pkl', 'wb') as f:\n",
    "        pickle.dump(result_dict, f)\n",
    "    return result_dict"
   ]
  },
  {
   "cell_type": "code",
   "execution_count": 9,
   "metadata": {},
   "outputs": [
    {
     "name": "stdout",
     "output_type": "stream",
     "text": [
      "dataloader and training_process\n"
     ]
    },
    {
     "name": "stderr",
     "output_type": "stream",
     "text": [
      "Epoch 1/10: 100%|██████████| 329/329 [00:17<00:00, 19.32batch/s]\n"
     ]
    },
    {
     "name": "stdout",
     "output_type": "stream",
     "text": [
      "Epoch 1/10, Loss: 0.5224\n"
     ]
    },
    {
     "name": "stderr",
     "output_type": "stream",
     "text": [
      "Epoch 2/10: 100%|██████████| 329/329 [00:15<00:00, 21.89batch/s]\n"
     ]
    },
    {
     "name": "stdout",
     "output_type": "stream",
     "text": [
      "Epoch 2/10, Loss: 0.0357\n",
      "Validation Loss: 0.0832, Accuracenter_y: 98.00%\n",
      "confusion_matrix:\n",
      " [[1534    0    0]\n",
      " [   0 1531    0]\n",
      " [  57   33 1345]]\n",
      "Checkpoint saved at checkpoints/simple_dataset_model_epoch2.pth\n"
     ]
    },
    {
     "name": "stderr",
     "output_type": "stream",
     "text": [
      "Epoch 3/10: 100%|██████████| 329/329 [00:15<00:00, 21.68batch/s]\n"
     ]
    },
    {
     "name": "stdout",
     "output_type": "stream",
     "text": [
      "Epoch 3/10, Loss: 0.0221\n"
     ]
    },
    {
     "name": "stderr",
     "output_type": "stream",
     "text": [
      "Epoch 4/10: 100%|██████████| 329/329 [00:14<00:00, 22.26batch/s]\n"
     ]
    },
    {
     "name": "stdout",
     "output_type": "stream",
     "text": [
      "Epoch 4/10, Loss: 0.0020\n",
      "Validation Loss: 0.0079, Accuracenter_y: 99.78%\n",
      "confusion_matrix:\n",
      " [[1534    0    0]\n",
      " [   0 1531    0]\n",
      " [   4    6 1425]]\n",
      "Checkpoint saved at checkpoints/simple_dataset_model_epoch4.pth\n"
     ]
    },
    {
     "name": "stderr",
     "output_type": "stream",
     "text": [
      "Epoch 5/10: 100%|██████████| 329/329 [00:15<00:00, 21.12batch/s]\n"
     ]
    },
    {
     "name": "stdout",
     "output_type": "stream",
     "text": [
      "Epoch 5/10, Loss: 0.0014\n"
     ]
    },
    {
     "name": "stderr",
     "output_type": "stream",
     "text": [
      "Epoch 6/10: 100%|██████████| 329/329 [00:15<00:00, 20.59batch/s]\n"
     ]
    },
    {
     "name": "stdout",
     "output_type": "stream",
     "text": [
      "Epoch 6/10, Loss: 0.0081\n",
      "Validation Loss: 0.0219, Accuracenter_y: 99.29%\n",
      "confusion_matrix:\n",
      " [[1519    0   15]\n",
      " [   0 1531    0]\n",
      " [  10    7 1418]]\n",
      "Checkpoint saved at checkpoints/simple_dataset_model_epoch6.pth\n"
     ]
    },
    {
     "name": "stderr",
     "output_type": "stream",
     "text": [
      "Epoch 7/10: 100%|██████████| 329/329 [00:15<00:00, 21.90batch/s]\n"
     ]
    },
    {
     "name": "stdout",
     "output_type": "stream",
     "text": [
      "Epoch 7/10, Loss: 0.0168\n"
     ]
    },
    {
     "name": "stderr",
     "output_type": "stream",
     "text": [
      "Epoch 8/10: 100%|██████████| 329/329 [00:15<00:00, 20.70batch/s]\n"
     ]
    },
    {
     "name": "stdout",
     "output_type": "stream",
     "text": [
      "Epoch 8/10, Loss: 0.0020\n",
      "Validation Loss: 0.0074, Accuracenter_y: 99.87%\n",
      "confusion_matrix:\n",
      " [[1534    0    0]\n",
      " [   0 1531    0]\n",
      " [   3    3 1429]]\n",
      "Checkpoint saved at checkpoints/simple_dataset_model_epoch8.pth\n"
     ]
    },
    {
     "name": "stderr",
     "output_type": "stream",
     "text": [
      "Epoch 9/10: 100%|██████████| 329/329 [00:15<00:00, 21.20batch/s]\n"
     ]
    },
    {
     "name": "stdout",
     "output_type": "stream",
     "text": [
      "Epoch 9/10, Loss: 0.0048\n"
     ]
    },
    {
     "name": "stderr",
     "output_type": "stream",
     "text": [
      "Epoch 10/10: 100%|██████████| 329/329 [00:15<00:00, 21.79batch/s]\n"
     ]
    },
    {
     "name": "stdout",
     "output_type": "stream",
     "text": [
      "Epoch 10/10, Loss: 0.0011\n",
      "Validation Loss: 0.0028, Accuracenter_y: 99.93%\n",
      "confusion_matrix:\n",
      " [[1534    0    0]\n",
      " [   0 1531    0]\n",
      " [   1    2 1432]]\n",
      "Checkpoint saved at checkpoints/simple_dataset_model_epoch10.pth\n"
     ]
    }
   ],
   "source": [
    "###training_process\n",
    "print('dataloader and training_process')\n",
    "\n",
    "\n",
    "image_height =200  #  \n",
    "image_width= 200\n",
    "batch_size=64\n",
    "num_epochs = 10\n",
    "checkpoint_interval = 2\n",
    "result_save_name='simple_dataset'\n",
    "\n",
    "def training_processing(image_height,image_width,batch_size,num_epochs,checkpoint_interval):\n",
    "    device = torch.device(\"cuda\" if torch.cuda.is_available() else \"cpu\")\n",
    "    folder_path='./pic'\n",
    "    number_classes=len([f for f in os.listdir(folder_path) if os.path.isdir(os.path.join(folder_path, f))])\n",
    "\n",
    "    model = SimpleCNN(image_height,image_width,number_classes).to(device)\n",
    "    criterion = nn.CrossEntropyLoss()\n",
    "    optimizer = optim.AdamW(model.parameters(), lr=0.001)\n",
    "    ### read if intestsed https://arxiv.org/abs/1711.05101\n",
    "    ### decoupled weight decay is wildly useful in different framework.\n",
    "\n",
    "    train_loader, val_loader, test_loader=exp_data_loader(image_height, image_width, batch_size)\n",
    "    result_dict=train_model(model, criterion, optimizer, train_loader, val_loader, num_epochs, checkpoint_interval, device, result_save_name=result_save_name)\n",
    "\n",
    "training_processing(image_height,image_width,batch_size,num_epochs,checkpoint_interval)"
   ]
  },
  {
   "cell_type": "code",
   "execution_count": 10,
   "metadata": {},
   "outputs": [
    {
     "name": "stdout",
     "output_type": "stream",
     "text": [
      "let try more chanlenges, one can just modify the dataset color_type, side_length_type, rotation_bool to testify the ability of CNN models\n"
     ]
    },
    {
     "name": "stderr",
     "output_type": "stream",
     "text": [
      "Epoch 1/100: 100%|██████████| 329/329 [00:15<00:00, 21.79batch/s]\n"
     ]
    },
    {
     "name": "stdout",
     "output_type": "stream",
     "text": [
      "Epoch 1/100, Loss: 0.2869\n"
     ]
    },
    {
     "name": "stderr",
     "output_type": "stream",
     "text": [
      "Epoch 2/100: 100%|██████████| 329/329 [00:14<00:00, 22.50batch/s]\n"
     ]
    },
    {
     "name": "stdout",
     "output_type": "stream",
     "text": [
      "Epoch 2/100, Loss: 0.0133\n",
      "Validation Loss: 0.0261, Accuracenter_y: 99.24%\n",
      "confusion_matrix:\n",
      " [[1525    0    0]\n",
      " [   0 1487    0]\n",
      " [   0   34 1454]]\n",
      "Checkpoint saved at checkpoints/rotation_bool_dataset_model_epoch2.pth\n"
     ]
    },
    {
     "name": "stderr",
     "output_type": "stream",
     "text": [
      "Epoch 3/100: 100%|██████████| 329/329 [00:14<00:00, 22.48batch/s]\n"
     ]
    },
    {
     "name": "stdout",
     "output_type": "stream",
     "text": [
      "Epoch 3/100, Loss: 0.0081\n"
     ]
    },
    {
     "name": "stderr",
     "output_type": "stream",
     "text": [
      "Epoch 4/100: 100%|██████████| 329/329 [00:14<00:00, 22.19batch/s]\n"
     ]
    },
    {
     "name": "stdout",
     "output_type": "stream",
     "text": [
      "Epoch 4/100, Loss: 0.0282\n",
      "Validation Loss: 0.0108, Accuracenter_y: 99.56%\n",
      "confusion_matrix:\n",
      " [[1525    0    0]\n",
      " [   0 1474   13]\n",
      " [   0    7 1481]]\n",
      "Checkpoint saved at checkpoints/rotation_bool_dataset_model_epoch4.pth\n"
     ]
    },
    {
     "name": "stderr",
     "output_type": "stream",
     "text": [
      "Epoch 5/100: 100%|██████████| 329/329 [00:14<00:00, 22.45batch/s]\n"
     ]
    },
    {
     "name": "stdout",
     "output_type": "stream",
     "text": [
      "Epoch 5/100, Loss: 0.0015\n"
     ]
    },
    {
     "name": "stderr",
     "output_type": "stream",
     "text": [
      "Epoch 6/100: 100%|██████████| 329/329 [00:14<00:00, 23.47batch/s]\n"
     ]
    },
    {
     "name": "stdout",
     "output_type": "stream",
     "text": [
      "Epoch 6/100, Loss: 0.0070\n",
      "Validation Loss: 0.0150, Accuracenter_y: 99.49%\n",
      "confusion_matrix:\n",
      " [[1525    0    0]\n",
      " [   0 1479    8]\n",
      " [   0   15 1473]]\n",
      "Checkpoint saved at checkpoints/rotation_bool_dataset_model_epoch6.pth\n"
     ]
    },
    {
     "name": "stderr",
     "output_type": "stream",
     "text": [
      "Epoch 7/100: 100%|██████████| 329/329 [00:14<00:00, 22.27batch/s]\n"
     ]
    },
    {
     "name": "stdout",
     "output_type": "stream",
     "text": [
      "Epoch 7/100, Loss: 0.0041\n"
     ]
    },
    {
     "name": "stderr",
     "output_type": "stream",
     "text": [
      "Epoch 8/100: 100%|██████████| 329/329 [00:14<00:00, 22.34batch/s]\n"
     ]
    },
    {
     "name": "stdout",
     "output_type": "stream",
     "text": [
      "Epoch 8/100, Loss: 0.0202\n",
      "Validation Loss: 0.0193, Accuracenter_y: 99.47%\n",
      "confusion_matrix:\n",
      " [[1525    0    0]\n",
      " [   0 1484    3]\n",
      " [   0   21 1467]]\n",
      "Checkpoint saved at checkpoints/rotation_bool_dataset_model_epoch8.pth\n"
     ]
    },
    {
     "name": "stderr",
     "output_type": "stream",
     "text": [
      "Epoch 9/100: 100%|██████████| 329/329 [00:16<00:00, 19.52batch/s]\n"
     ]
    },
    {
     "name": "stdout",
     "output_type": "stream",
     "text": [
      "Epoch 9/100, Loss: 0.0076\n"
     ]
    },
    {
     "name": "stderr",
     "output_type": "stream",
     "text": [
      "Epoch 10/100: 100%|██████████| 329/329 [00:16<00:00, 19.99batch/s]\n"
     ]
    },
    {
     "name": "stdout",
     "output_type": "stream",
     "text": [
      "Epoch 10/100, Loss: 0.0012\n",
      "Validation Loss: 0.0119, Accuracenter_y: 99.60%\n",
      "confusion_matrix:\n",
      " [[1525    0    0]\n",
      " [   0 1479    8]\n",
      " [   0   10 1478]]\n",
      "Checkpoint saved at checkpoints/rotation_bool_dataset_model_epoch10.pth\n"
     ]
    },
    {
     "name": "stderr",
     "output_type": "stream",
     "text": [
      "Epoch 11/100: 100%|██████████| 329/329 [00:16<00:00, 20.33batch/s]\n"
     ]
    },
    {
     "name": "stdout",
     "output_type": "stream",
     "text": [
      "Epoch 11/100, Loss: 0.0003\n"
     ]
    },
    {
     "name": "stderr",
     "output_type": "stream",
     "text": [
      "Epoch 12/100: 100%|██████████| 329/329 [00:15<00:00, 21.62batch/s]\n"
     ]
    },
    {
     "name": "stdout",
     "output_type": "stream",
     "text": [
      "Epoch 12/100, Loss: 0.0001\n",
      "Validation Loss: 0.0114, Accuracenter_y: 99.62%\n",
      "confusion_matrix:\n",
      " [[1525    0    0]\n",
      " [   0 1480    7]\n",
      " [   0   10 1478]]\n",
      "Checkpoint saved at checkpoints/rotation_bool_dataset_model_epoch12.pth\n"
     ]
    },
    {
     "name": "stderr",
     "output_type": "stream",
     "text": [
      "Epoch 13/100: 100%|██████████| 329/329 [00:14<00:00, 23.01batch/s]\n"
     ]
    },
    {
     "name": "stdout",
     "output_type": "stream",
     "text": [
      "Epoch 13/100, Loss: 0.0001\n"
     ]
    },
    {
     "name": "stderr",
     "output_type": "stream",
     "text": [
      "Epoch 14/100: 100%|██████████| 329/329 [00:14<00:00, 23.14batch/s]\n"
     ]
    },
    {
     "name": "stdout",
     "output_type": "stream",
     "text": [
      "Epoch 14/100, Loss: 0.0000\n",
      "Validation Loss: 0.0130, Accuracenter_y: 99.60%\n",
      "confusion_matrix:\n",
      " [[1525    0    0]\n",
      " [   0 1479    8]\n",
      " [   0   10 1478]]\n",
      "Checkpoint saved at checkpoints/rotation_bool_dataset_model_epoch14.pth\n"
     ]
    },
    {
     "name": "stderr",
     "output_type": "stream",
     "text": [
      "Epoch 15/100: 100%|██████████| 329/329 [00:13<00:00, 24.48batch/s]\n"
     ]
    },
    {
     "name": "stdout",
     "output_type": "stream",
     "text": [
      "Epoch 15/100, Loss: 0.0000\n"
     ]
    },
    {
     "name": "stderr",
     "output_type": "stream",
     "text": [
      "Epoch 16/100: 100%|██████████| 329/329 [00:14<00:00, 22.07batch/s]\n"
     ]
    },
    {
     "name": "stdout",
     "output_type": "stream",
     "text": [
      "Epoch 16/100, Loss: 0.0000\n",
      "Validation Loss: 0.0127, Accuracenter_y: 99.60%\n",
      "confusion_matrix:\n",
      " [[1525    0    0]\n",
      " [   0 1479    8]\n",
      " [   0   10 1478]]\n",
      "Checkpoint saved at checkpoints/rotation_bool_dataset_model_epoch16.pth\n"
     ]
    },
    {
     "name": "stderr",
     "output_type": "stream",
     "text": [
      "Epoch 17/100: 100%|██████████| 329/329 [00:14<00:00, 22.14batch/s]\n"
     ]
    },
    {
     "name": "stdout",
     "output_type": "stream",
     "text": [
      "Epoch 17/100, Loss: 0.0000\n"
     ]
    },
    {
     "name": "stderr",
     "output_type": "stream",
     "text": [
      "Epoch 18/100: 100%|██████████| 329/329 [00:14<00:00, 22.77batch/s]\n"
     ]
    },
    {
     "name": "stdout",
     "output_type": "stream",
     "text": [
      "Epoch 18/100, Loss: 0.0000\n",
      "Validation Loss: 0.0135, Accuracenter_y: 99.62%\n",
      "confusion_matrix:\n",
      " [[1525    0    0]\n",
      " [   0 1480    7]\n",
      " [   0   10 1478]]\n",
      "Checkpoint saved at checkpoints/rotation_bool_dataset_model_epoch18.pth\n"
     ]
    },
    {
     "name": "stderr",
     "output_type": "stream",
     "text": [
      "Epoch 19/100: 100%|██████████| 329/329 [00:14<00:00, 22.27batch/s]\n"
     ]
    },
    {
     "name": "stdout",
     "output_type": "stream",
     "text": [
      "Epoch 19/100, Loss: 0.0000\n"
     ]
    },
    {
     "name": "stderr",
     "output_type": "stream",
     "text": [
      "Epoch 20/100: 100%|██████████| 329/329 [00:15<00:00, 21.68batch/s]\n"
     ]
    },
    {
     "name": "stdout",
     "output_type": "stream",
     "text": [
      "Epoch 20/100, Loss: 0.0000\n",
      "Validation Loss: 0.0135, Accuracenter_y: 99.60%\n",
      "confusion_matrix:\n",
      " [[1525    0    0]\n",
      " [   0 1479    8]\n",
      " [   0   10 1478]]\n",
      "Checkpoint saved at checkpoints/rotation_bool_dataset_model_epoch20.pth\n"
     ]
    },
    {
     "name": "stderr",
     "output_type": "stream",
     "text": [
      "Epoch 21/100: 100%|██████████| 329/329 [00:14<00:00, 22.33batch/s]\n"
     ]
    },
    {
     "name": "stdout",
     "output_type": "stream",
     "text": [
      "Epoch 21/100, Loss: 0.0000\n"
     ]
    },
    {
     "name": "stderr",
     "output_type": "stream",
     "text": [
      "Epoch 22/100: 100%|██████████| 329/329 [00:14<00:00, 23.40batch/s]\n"
     ]
    },
    {
     "name": "stdout",
     "output_type": "stream",
     "text": [
      "Epoch 22/100, Loss: 0.0000\n",
      "Validation Loss: 0.0141, Accuracenter_y: 99.56%\n",
      "confusion_matrix:\n",
      " [[1525    0    0]\n",
      " [   0 1477   10]\n",
      " [   0   10 1478]]\n",
      "Checkpoint saved at checkpoints/rotation_bool_dataset_model_epoch22.pth\n"
     ]
    },
    {
     "name": "stderr",
     "output_type": "stream",
     "text": [
      "Epoch 23/100: 100%|██████████| 329/329 [00:14<00:00, 23.31batch/s]\n"
     ]
    },
    {
     "name": "stdout",
     "output_type": "stream",
     "text": [
      "Epoch 23/100, Loss: 0.0000\n"
     ]
    },
    {
     "name": "stderr",
     "output_type": "stream",
     "text": [
      "Epoch 24/100: 100%|██████████| 329/329 [00:14<00:00, 23.25batch/s]\n"
     ]
    },
    {
     "name": "stdout",
     "output_type": "stream",
     "text": [
      "Epoch 24/100, Loss: 0.0000\n",
      "Validation Loss: 0.0141, Accuracenter_y: 99.58%\n",
      "confusion_matrix:\n",
      " [[1525    0    0]\n",
      " [   0 1478    9]\n",
      " [   0   10 1478]]\n",
      "Checkpoint saved at checkpoints/rotation_bool_dataset_model_epoch24.pth\n"
     ]
    },
    {
     "name": "stderr",
     "output_type": "stream",
     "text": [
      "Epoch 25/100: 100%|██████████| 329/329 [00:14<00:00, 22.93batch/s]\n"
     ]
    },
    {
     "name": "stdout",
     "output_type": "stream",
     "text": [
      "Epoch 25/100, Loss: 0.0000\n"
     ]
    },
    {
     "name": "stderr",
     "output_type": "stream",
     "text": [
      "Epoch 26/100: 100%|██████████| 329/329 [00:14<00:00, 22.54batch/s]\n"
     ]
    },
    {
     "name": "stdout",
     "output_type": "stream",
     "text": [
      "Epoch 26/100, Loss: 0.0000\n",
      "Validation Loss: 0.0099, Accuracenter_y: 99.60%\n",
      "confusion_matrix:\n",
      " [[1525    0    0]\n",
      " [   0 1477   10]\n",
      " [   0    8 1480]]\n",
      "Checkpoint saved at checkpoints/rotation_bool_dataset_model_epoch26.pth\n"
     ]
    },
    {
     "name": "stderr",
     "output_type": "stream",
     "text": [
      "Epoch 27/100: 100%|██████████| 329/329 [00:14<00:00, 22.73batch/s]\n"
     ]
    },
    {
     "name": "stdout",
     "output_type": "stream",
     "text": [
      "Epoch 27/100, Loss: 0.0000\n"
     ]
    },
    {
     "name": "stderr",
     "output_type": "stream",
     "text": [
      "Epoch 28/100: 100%|██████████| 329/329 [00:13<00:00, 24.08batch/s]\n"
     ]
    },
    {
     "name": "stdout",
     "output_type": "stream",
     "text": [
      "Epoch 28/100, Loss: 0.0000\n",
      "Validation Loss: 0.0108, Accuracenter_y: 99.62%\n",
      "confusion_matrix:\n",
      " [[1525    0    0]\n",
      " [   0 1478    9]\n",
      " [   0    8 1480]]\n",
      "Checkpoint saved at checkpoints/rotation_bool_dataset_model_epoch28.pth\n"
     ]
    },
    {
     "name": "stderr",
     "output_type": "stream",
     "text": [
      "Epoch 29/100: 100%|██████████| 329/329 [00:14<00:00, 23.03batch/s]\n"
     ]
    },
    {
     "name": "stdout",
     "output_type": "stream",
     "text": [
      "Epoch 29/100, Loss: 0.0000\n"
     ]
    },
    {
     "name": "stderr",
     "output_type": "stream",
     "text": [
      "Epoch 30/100: 100%|██████████| 329/329 [00:14<00:00, 22.18batch/s]\n"
     ]
    },
    {
     "name": "stdout",
     "output_type": "stream",
     "text": [
      "Epoch 30/100, Loss: 0.0000\n",
      "Validation Loss: 0.0110, Accuracenter_y: 99.60%\n",
      "confusion_matrix:\n",
      " [[1525    0    0]\n",
      " [   0 1478    9]\n",
      " [   0    9 1479]]\n",
      "Checkpoint saved at checkpoints/rotation_bool_dataset_model_epoch30.pth\n"
     ]
    },
    {
     "name": "stderr",
     "output_type": "stream",
     "text": [
      "Epoch 31/100: 100%|██████████| 329/329 [00:15<00:00, 21.39batch/s]\n"
     ]
    },
    {
     "name": "stdout",
     "output_type": "stream",
     "text": [
      "Epoch 31/100, Loss: 0.0000\n"
     ]
    },
    {
     "name": "stderr",
     "output_type": "stream",
     "text": [
      "Epoch 32/100: 100%|██████████| 329/329 [00:14<00:00, 21.96batch/s]\n"
     ]
    },
    {
     "name": "stdout",
     "output_type": "stream",
     "text": [
      "Epoch 32/100, Loss: 0.0000\n",
      "Validation Loss: 0.0116, Accuracenter_y: 99.62%\n",
      "confusion_matrix:\n",
      " [[1525    0    0]\n",
      " [   0 1479    8]\n",
      " [   0    9 1479]]\n",
      "Checkpoint saved at checkpoints/rotation_bool_dataset_model_epoch32.pth\n"
     ]
    },
    {
     "name": "stderr",
     "output_type": "stream",
     "text": [
      "Epoch 33/100: 100%|██████████| 329/329 [00:14<00:00, 23.03batch/s]\n"
     ]
    },
    {
     "name": "stdout",
     "output_type": "stream",
     "text": [
      "Epoch 33/100, Loss: 0.0000\n"
     ]
    },
    {
     "name": "stderr",
     "output_type": "stream",
     "text": [
      "Epoch 34/100: 100%|██████████| 329/329 [00:14<00:00, 22.27batch/s]\n"
     ]
    },
    {
     "name": "stdout",
     "output_type": "stream",
     "text": [
      "Epoch 34/100, Loss: 0.0000\n",
      "Validation Loss: 0.0123, Accuracenter_y: 99.60%\n",
      "confusion_matrix:\n",
      " [[1525    0    0]\n",
      " [   0 1479    8]\n",
      " [   0   10 1478]]\n",
      "Checkpoint saved at checkpoints/rotation_bool_dataset_model_epoch34.pth\n"
     ]
    },
    {
     "name": "stderr",
     "output_type": "stream",
     "text": [
      "Epoch 35/100: 100%|██████████| 329/329 [00:14<00:00, 22.43batch/s]\n"
     ]
    },
    {
     "name": "stdout",
     "output_type": "stream",
     "text": [
      "Epoch 35/100, Loss: 0.0000\n"
     ]
    },
    {
     "name": "stderr",
     "output_type": "stream",
     "text": [
      "Epoch 36/100: 100%|██████████| 329/329 [00:14<00:00, 22.81batch/s]\n"
     ]
    },
    {
     "name": "stdout",
     "output_type": "stream",
     "text": [
      "Epoch 36/100, Loss: 0.0000\n",
      "Validation Loss: 0.0124, Accuracenter_y: 99.62%\n",
      "confusion_matrix:\n",
      " [[1525    0    0]\n",
      " [   0 1479    8]\n",
      " [   0    9 1479]]\n",
      "Checkpoint saved at checkpoints/rotation_bool_dataset_model_epoch36.pth\n"
     ]
    },
    {
     "name": "stderr",
     "output_type": "stream",
     "text": [
      "Epoch 37/100: 100%|██████████| 329/329 [00:14<00:00, 22.20batch/s]\n"
     ]
    },
    {
     "name": "stdout",
     "output_type": "stream",
     "text": [
      "Epoch 37/100, Loss: 0.0000\n"
     ]
    },
    {
     "name": "stderr",
     "output_type": "stream",
     "text": [
      "Epoch 38/100: 100%|██████████| 329/329 [00:14<00:00, 23.16batch/s]\n"
     ]
    },
    {
     "name": "stdout",
     "output_type": "stream",
     "text": [
      "Epoch 38/100, Loss: 0.0000\n",
      "Validation Loss: 0.0124, Accuracenter_y: 99.62%\n",
      "confusion_matrix:\n",
      " [[1525    0    0]\n",
      " [   0 1479    8]\n",
      " [   0    9 1479]]\n",
      "Checkpoint saved at checkpoints/rotation_bool_dataset_model_epoch38.pth\n"
     ]
    },
    {
     "name": "stderr",
     "output_type": "stream",
     "text": [
      "Epoch 39/100: 100%|██████████| 329/329 [00:14<00:00, 23.35batch/s]\n"
     ]
    },
    {
     "name": "stdout",
     "output_type": "stream",
     "text": [
      "Epoch 39/100, Loss: 0.0000\n"
     ]
    },
    {
     "name": "stderr",
     "output_type": "stream",
     "text": [
      "Epoch 40/100: 100%|██████████| 329/329 [00:13<00:00, 23.51batch/s]\n"
     ]
    },
    {
     "name": "stdout",
     "output_type": "stream",
     "text": [
      "Epoch 40/100, Loss: 0.0000\n",
      "Validation Loss: 0.0139, Accuracenter_y: 99.58%\n",
      "confusion_matrix:\n",
      " [[1525    0    0]\n",
      " [   0 1478    9]\n",
      " [   0   10 1478]]\n",
      "Checkpoint saved at checkpoints/rotation_bool_dataset_model_epoch40.pth\n"
     ]
    },
    {
     "name": "stderr",
     "output_type": "stream",
     "text": [
      "Epoch 41/100: 100%|██████████| 329/329 [00:14<00:00, 22.24batch/s]\n"
     ]
    },
    {
     "name": "stdout",
     "output_type": "stream",
     "text": [
      "Epoch 41/100, Loss: 0.0000\n"
     ]
    },
    {
     "name": "stderr",
     "output_type": "stream",
     "text": [
      "Epoch 42/100: 100%|██████████| 329/329 [00:14<00:00, 22.60batch/s]\n"
     ]
    },
    {
     "name": "stdout",
     "output_type": "stream",
     "text": [
      "Epoch 42/100, Loss: 0.1425\n",
      "Validation Loss: 0.0298, Accuracenter_y: 98.98%\n",
      "confusion_matrix:\n",
      " [[1525    0    0]\n",
      " [   0 1441   46]\n",
      " [   0    0 1488]]\n",
      "Checkpoint saved at checkpoints/rotation_bool_dataset_model_epoch42.pth\n"
     ]
    },
    {
     "name": "stderr",
     "output_type": "stream",
     "text": [
      "Epoch 43/100: 100%|██████████| 329/329 [00:14<00:00, 23.15batch/s]\n"
     ]
    },
    {
     "name": "stdout",
     "output_type": "stream",
     "text": [
      "Epoch 43/100, Loss: 0.0095\n"
     ]
    },
    {
     "name": "stderr",
     "output_type": "stream",
     "text": [
      "Epoch 44/100: 100%|██████████| 329/329 [00:13<00:00, 23.73batch/s]\n"
     ]
    },
    {
     "name": "stdout",
     "output_type": "stream",
     "text": [
      "Epoch 44/100, Loss: 0.0044\n",
      "Validation Loss: 0.0091, Accuracenter_y: 99.58%\n",
      "confusion_matrix:\n",
      " [[1525    0    0]\n",
      " [   0 1474   13]\n",
      " [   0    6 1482]]\n",
      "Checkpoint saved at checkpoints/rotation_bool_dataset_model_epoch44.pth\n"
     ]
    },
    {
     "name": "stderr",
     "output_type": "stream",
     "text": [
      "Epoch 45/100: 100%|██████████| 329/329 [00:14<00:00, 23.10batch/s]\n"
     ]
    },
    {
     "name": "stdout",
     "output_type": "stream",
     "text": [
      "Epoch 45/100, Loss: 0.0052\n"
     ]
    },
    {
     "name": "stderr",
     "output_type": "stream",
     "text": [
      "Epoch 46/100: 100%|██████████| 329/329 [00:14<00:00, 23.12batch/s]\n"
     ]
    },
    {
     "name": "stdout",
     "output_type": "stream",
     "text": [
      "Epoch 46/100, Loss: 0.0052\n",
      "Validation Loss: 0.0097, Accuracenter_y: 99.62%\n",
      "confusion_matrix:\n",
      " [[1525    0    0]\n",
      " [   0 1473   14]\n",
      " [   0    3 1485]]\n",
      "Checkpoint saved at checkpoints/rotation_bool_dataset_model_epoch46.pth\n"
     ]
    },
    {
     "name": "stderr",
     "output_type": "stream",
     "text": [
      "Epoch 47/100: 100%|██████████| 329/329 [00:14<00:00, 22.57batch/s]\n"
     ]
    },
    {
     "name": "stdout",
     "output_type": "stream",
     "text": [
      "Epoch 47/100, Loss: 0.0017\n"
     ]
    },
    {
     "name": "stderr",
     "output_type": "stream",
     "text": [
      "Epoch 48/100: 100%|██████████| 329/329 [00:15<00:00, 21.80batch/s]\n"
     ]
    },
    {
     "name": "stdout",
     "output_type": "stream",
     "text": [
      "Epoch 48/100, Loss: 0.0007\n",
      "Validation Loss: 0.0087, Accuracenter_y: 99.62%\n",
      "confusion_matrix:\n",
      " [[1525    0    0]\n",
      " [   0 1478    9]\n",
      " [   0    8 1480]]\n",
      "Checkpoint saved at checkpoints/rotation_bool_dataset_model_epoch48.pth\n"
     ]
    },
    {
     "name": "stderr",
     "output_type": "stream",
     "text": [
      "Epoch 49/100: 100%|██████████| 329/329 [00:14<00:00, 22.78batch/s]\n"
     ]
    },
    {
     "name": "stdout",
     "output_type": "stream",
     "text": [
      "Epoch 49/100, Loss: 0.0003\n"
     ]
    },
    {
     "name": "stderr",
     "output_type": "stream",
     "text": [
      "Epoch 50/100: 100%|██████████| 329/329 [00:14<00:00, 22.60batch/s]\n"
     ]
    },
    {
     "name": "stdout",
     "output_type": "stream",
     "text": [
      "Epoch 50/100, Loss: 0.0238\n",
      "Validation Loss: 9.1709, Accuracenter_y: 68.60%\n",
      "confusion_matrix:\n",
      " [[1523    0    2]\n",
      " [1060   76  351]\n",
      " [   0    0 1488]]\n",
      "Checkpoint saved at checkpoints/rotation_bool_dataset_model_epoch50.pth\n"
     ]
    },
    {
     "name": "stderr",
     "output_type": "stream",
     "text": [
      "Epoch 51/100: 100%|██████████| 329/329 [00:15<00:00, 21.68batch/s]\n"
     ]
    },
    {
     "name": "stdout",
     "output_type": "stream",
     "text": [
      "Epoch 51/100, Loss: 0.0135\n"
     ]
    },
    {
     "name": "stderr",
     "output_type": "stream",
     "text": [
      "Epoch 52/100: 100%|██████████| 329/329 [00:15<00:00, 21.73batch/s]\n"
     ]
    },
    {
     "name": "stdout",
     "output_type": "stream",
     "text": [
      "Epoch 52/100, Loss: 0.0044\n",
      "Validation Loss: 0.0399, Accuracenter_y: 99.27%\n",
      "confusion_matrix:\n",
      " [[1525    0    0]\n",
      " [   0 1454   33]\n",
      " [   0    0 1488]]\n",
      "Checkpoint saved at checkpoints/rotation_bool_dataset_model_epoch52.pth\n"
     ]
    },
    {
     "name": "stderr",
     "output_type": "stream",
     "text": [
      "Epoch 53/100: 100%|██████████| 329/329 [00:15<00:00, 21.91batch/s]\n"
     ]
    },
    {
     "name": "stdout",
     "output_type": "stream",
     "text": [
      "Epoch 53/100, Loss: 0.0007\n"
     ]
    },
    {
     "name": "stderr",
     "output_type": "stream",
     "text": [
      "Epoch 54/100: 100%|██████████| 329/329 [00:14<00:00, 22.98batch/s]\n"
     ]
    },
    {
     "name": "stdout",
     "output_type": "stream",
     "text": [
      "Epoch 54/100, Loss: 0.0003\n",
      "Validation Loss: 0.0141, Accuracenter_y: 99.49%\n",
      "confusion_matrix:\n",
      " [[1525    0    0]\n",
      " [   0 1475   12]\n",
      " [   0   11 1477]]\n",
      "Checkpoint saved at checkpoints/rotation_bool_dataset_model_epoch54.pth\n"
     ]
    },
    {
     "name": "stderr",
     "output_type": "stream",
     "text": [
      "Epoch 55/100: 100%|██████████| 329/329 [00:14<00:00, 22.55batch/s]\n"
     ]
    },
    {
     "name": "stdout",
     "output_type": "stream",
     "text": [
      "Epoch 55/100, Loss: 0.0002\n"
     ]
    },
    {
     "name": "stderr",
     "output_type": "stream",
     "text": [
      "Epoch 56/100: 100%|██████████| 329/329 [00:14<00:00, 22.35batch/s]\n"
     ]
    },
    {
     "name": "stdout",
     "output_type": "stream",
     "text": [
      "Epoch 56/100, Loss: 0.0002\n",
      "Validation Loss: 0.0132, Accuracenter_y: 99.58%\n",
      "confusion_matrix:\n",
      " [[1525    0    0]\n",
      " [   0 1474   13]\n",
      " [   0    6 1482]]\n",
      "Checkpoint saved at checkpoints/rotation_bool_dataset_model_epoch56.pth\n"
     ]
    },
    {
     "name": "stderr",
     "output_type": "stream",
     "text": [
      "Epoch 57/100: 100%|██████████| 329/329 [00:15<00:00, 20.98batch/s]\n"
     ]
    },
    {
     "name": "stdout",
     "output_type": "stream",
     "text": [
      "Epoch 57/100, Loss: 0.0001\n"
     ]
    },
    {
     "name": "stderr",
     "output_type": "stream",
     "text": [
      "Epoch 58/100: 100%|██████████| 329/329 [00:14<00:00, 22.58batch/s]\n"
     ]
    },
    {
     "name": "stdout",
     "output_type": "stream",
     "text": [
      "Epoch 58/100, Loss: 0.0001\n",
      "Validation Loss: 0.0140, Accuracenter_y: 99.53%\n",
      "confusion_matrix:\n",
      " [[1525    0    0]\n",
      " [   0 1474   13]\n",
      " [   0    8 1480]]\n",
      "Checkpoint saved at checkpoints/rotation_bool_dataset_model_epoch58.pth\n"
     ]
    },
    {
     "name": "stderr",
     "output_type": "stream",
     "text": [
      "Epoch 59/100: 100%|██████████| 329/329 [00:14<00:00, 22.16batch/s]\n"
     ]
    },
    {
     "name": "stdout",
     "output_type": "stream",
     "text": [
      "Epoch 59/100, Loss: 0.0001\n"
     ]
    },
    {
     "name": "stderr",
     "output_type": "stream",
     "text": [
      "Epoch 60/100: 100%|██████████| 329/329 [00:14<00:00, 22.53batch/s]\n"
     ]
    },
    {
     "name": "stdout",
     "output_type": "stream",
     "text": [
      "Epoch 60/100, Loss: 0.0001\n",
      "Validation Loss: 0.0156, Accuracenter_y: 99.56%\n",
      "confusion_matrix:\n",
      " [[1525    0    0]\n",
      " [   0 1473   14]\n",
      " [   0    6 1482]]\n",
      "Checkpoint saved at checkpoints/rotation_bool_dataset_model_epoch60.pth\n"
     ]
    },
    {
     "name": "stderr",
     "output_type": "stream",
     "text": [
      "Epoch 61/100: 100%|██████████| 329/329 [00:15<00:00, 21.56batch/s]\n"
     ]
    },
    {
     "name": "stdout",
     "output_type": "stream",
     "text": [
      "Epoch 61/100, Loss: 0.0001\n"
     ]
    },
    {
     "name": "stderr",
     "output_type": "stream",
     "text": [
      "Epoch 62/100: 100%|██████████| 329/329 [00:14<00:00, 22.26batch/s]\n"
     ]
    },
    {
     "name": "stdout",
     "output_type": "stream",
     "text": [
      "Epoch 62/100, Loss: 0.0008\n",
      "Validation Loss: 71.0140, Accuracenter_y: 45.93%\n",
      "confusion_matrix:\n",
      " [[ 585    0  940]\n",
      " [ 417    0 1070]\n",
      " [   6    0 1482]]\n",
      "Checkpoint saved at checkpoints/rotation_bool_dataset_model_epoch62.pth\n"
     ]
    },
    {
     "name": "stderr",
     "output_type": "stream",
     "text": [
      "Epoch 63/100: 100%|██████████| 329/329 [00:15<00:00, 21.54batch/s]\n"
     ]
    },
    {
     "name": "stdout",
     "output_type": "stream",
     "text": [
      "Epoch 63/100, Loss: 0.0378\n"
     ]
    },
    {
     "name": "stderr",
     "output_type": "stream",
     "text": [
      "Epoch 64/100: 100%|██████████| 329/329 [00:14<00:00, 22.18batch/s]\n"
     ]
    },
    {
     "name": "stdout",
     "output_type": "stream",
     "text": [
      "Epoch 64/100, Loss: 0.0091\n",
      "Validation Loss: 0.0162, Accuracenter_y: 99.47%\n",
      "confusion_matrix:\n",
      " [[1525    0    0]\n",
      " [   0 1471   16]\n",
      " [   4    4 1480]]\n",
      "Checkpoint saved at checkpoints/rotation_bool_dataset_model_epoch64.pth\n"
     ]
    },
    {
     "name": "stderr",
     "output_type": "stream",
     "text": [
      "Epoch 65/100: 100%|██████████| 329/329 [00:15<00:00, 20.86batch/s]\n"
     ]
    },
    {
     "name": "stdout",
     "output_type": "stream",
     "text": [
      "Epoch 65/100, Loss: 0.0011\n"
     ]
    },
    {
     "name": "stderr",
     "output_type": "stream",
     "text": [
      "Epoch 66/100: 100%|██████████| 329/329 [00:15<00:00, 21.21batch/s]\n"
     ]
    },
    {
     "name": "stdout",
     "output_type": "stream",
     "text": [
      "Epoch 66/100, Loss: 0.0003\n",
      "Validation Loss: 0.0123, Accuracenter_y: 99.62%\n",
      "confusion_matrix:\n",
      " [[1525    0    0]\n",
      " [   0 1474   13]\n",
      " [   0    4 1484]]\n",
      "Checkpoint saved at checkpoints/rotation_bool_dataset_model_epoch66.pth\n"
     ]
    },
    {
     "name": "stderr",
     "output_type": "stream",
     "text": [
      "Epoch 67/100: 100%|██████████| 329/329 [00:15<00:00, 21.55batch/s]\n"
     ]
    },
    {
     "name": "stdout",
     "output_type": "stream",
     "text": [
      "Epoch 67/100, Loss: 0.0001\n"
     ]
    },
    {
     "name": "stderr",
     "output_type": "stream",
     "text": [
      "Epoch 68/100: 100%|██████████| 329/329 [00:15<00:00, 21.44batch/s]\n"
     ]
    },
    {
     "name": "stdout",
     "output_type": "stream",
     "text": [
      "Epoch 68/100, Loss: 0.0001\n",
      "Validation Loss: 0.0167, Accuracenter_y: 99.60%\n",
      "confusion_matrix:\n",
      " [[1525    0    0]\n",
      " [   0 1473   14]\n",
      " [   0    4 1484]]\n",
      "Checkpoint saved at checkpoints/rotation_bool_dataset_model_epoch68.pth\n"
     ]
    },
    {
     "name": "stderr",
     "output_type": "stream",
     "text": [
      "Epoch 69/100: 100%|██████████| 329/329 [00:15<00:00, 21.51batch/s]\n"
     ]
    },
    {
     "name": "stdout",
     "output_type": "stream",
     "text": [
      "Epoch 69/100, Loss: 0.0001\n"
     ]
    },
    {
     "name": "stderr",
     "output_type": "stream",
     "text": [
      "Epoch 70/100: 100%|██████████| 329/329 [00:14<00:00, 22.54batch/s]\n"
     ]
    },
    {
     "name": "stdout",
     "output_type": "stream",
     "text": [
      "Epoch 70/100, Loss: 0.0001\n",
      "Validation Loss: 0.0139, Accuracenter_y: 99.64%\n",
      "confusion_matrix:\n",
      " [[1525    0    0]\n",
      " [   0 1477   10]\n",
      " [   0    6 1482]]\n",
      "Checkpoint saved at checkpoints/rotation_bool_dataset_model_epoch70.pth\n"
     ]
    },
    {
     "name": "stderr",
     "output_type": "stream",
     "text": [
      "Epoch 71/100: 100%|██████████| 329/329 [00:15<00:00, 21.83batch/s]\n"
     ]
    },
    {
     "name": "stdout",
     "output_type": "stream",
     "text": [
      "Epoch 71/100, Loss: 0.0005\n"
     ]
    },
    {
     "name": "stderr",
     "output_type": "stream",
     "text": [
      "Epoch 72/100: 100%|██████████| 329/329 [00:15<00:00, 21.13batch/s]\n"
     ]
    },
    {
     "name": "stdout",
     "output_type": "stream",
     "text": [
      "Epoch 72/100, Loss: 0.0002\n",
      "Validation Loss: 0.0155, Accuracenter_y: 99.64%\n",
      "confusion_matrix:\n",
      " [[1525    0    0]\n",
      " [   0 1477   10]\n",
      " [   0    6 1482]]\n",
      "Checkpoint saved at checkpoints/rotation_bool_dataset_model_epoch72.pth\n"
     ]
    },
    {
     "name": "stderr",
     "output_type": "stream",
     "text": [
      "Epoch 73/100: 100%|██████████| 329/329 [00:14<00:00, 22.54batch/s]\n"
     ]
    },
    {
     "name": "stdout",
     "output_type": "stream",
     "text": [
      "Epoch 73/100, Loss: 0.0000\n"
     ]
    },
    {
     "name": "stderr",
     "output_type": "stream",
     "text": [
      "Epoch 74/100: 100%|██████████| 329/329 [00:15<00:00, 21.74batch/s]\n"
     ]
    },
    {
     "name": "stdout",
     "output_type": "stream",
     "text": [
      "Epoch 74/100, Loss: 0.0000\n",
      "Validation Loss: 0.0161, Accuracenter_y: 99.64%\n",
      "confusion_matrix:\n",
      " [[1525    0    0]\n",
      " [   0 1477   10]\n",
      " [   0    6 1482]]\n",
      "Checkpoint saved at checkpoints/rotation_bool_dataset_model_epoch74.pth\n"
     ]
    },
    {
     "name": "stderr",
     "output_type": "stream",
     "text": [
      "Epoch 75/100: 100%|██████████| 329/329 [00:14<00:00, 22.00batch/s]\n"
     ]
    },
    {
     "name": "stdout",
     "output_type": "stream",
     "text": [
      "Epoch 75/100, Loss: 0.0000\n"
     ]
    },
    {
     "name": "stderr",
     "output_type": "stream",
     "text": [
      "Epoch 76/100: 100%|██████████| 329/329 [00:14<00:00, 22.35batch/s]\n"
     ]
    },
    {
     "name": "stdout",
     "output_type": "stream",
     "text": [
      "Epoch 76/100, Loss: 0.0000\n",
      "Validation Loss: 0.0165, Accuracenter_y: 99.62%\n",
      "confusion_matrix:\n",
      " [[1525    0    0]\n",
      " [   0 1476   11]\n",
      " [   0    6 1482]]\n",
      "Checkpoint saved at checkpoints/rotation_bool_dataset_model_epoch76.pth\n"
     ]
    },
    {
     "name": "stderr",
     "output_type": "stream",
     "text": [
      "Epoch 77/100: 100%|██████████| 329/329 [00:14<00:00, 22.21batch/s]\n"
     ]
    },
    {
     "name": "stdout",
     "output_type": "stream",
     "text": [
      "Epoch 77/100, Loss: 0.0000\n"
     ]
    },
    {
     "name": "stderr",
     "output_type": "stream",
     "text": [
      "Epoch 78/100: 100%|██████████| 329/329 [00:14<00:00, 21.97batch/s]\n"
     ]
    },
    {
     "name": "stdout",
     "output_type": "stream",
     "text": [
      "Epoch 78/100, Loss: 0.0000\n",
      "Validation Loss: 0.0178, Accuracenter_y: 99.60%\n",
      "confusion_matrix:\n",
      " [[1525    0    0]\n",
      " [   0 1475   12]\n",
      " [   0    6 1482]]\n",
      "Checkpoint saved at checkpoints/rotation_bool_dataset_model_epoch78.pth\n"
     ]
    },
    {
     "name": "stderr",
     "output_type": "stream",
     "text": [
      "Epoch 79/100: 100%|██████████| 329/329 [00:15<00:00, 20.98batch/s]\n"
     ]
    },
    {
     "name": "stdout",
     "output_type": "stream",
     "text": [
      "Epoch 79/100, Loss: 0.0000\n"
     ]
    },
    {
     "name": "stderr",
     "output_type": "stream",
     "text": [
      "Epoch 80/100: 100%|██████████| 329/329 [00:14<00:00, 22.34batch/s]\n"
     ]
    },
    {
     "name": "stdout",
     "output_type": "stream",
     "text": [
      "Epoch 80/100, Loss: 0.0001\n",
      "Validation Loss: 21.1413, Accuracenter_y: 66.18%\n",
      "confusion_matrix:\n",
      " [[1525    0    0]\n",
      " [1292    2  193]\n",
      " [  37    0 1451]]\n",
      "Checkpoint saved at checkpoints/rotation_bool_dataset_model_epoch80.pth\n"
     ]
    },
    {
     "name": "stderr",
     "output_type": "stream",
     "text": [
      "Epoch 81/100: 100%|██████████| 329/329 [00:14<00:00, 22.06batch/s]\n"
     ]
    },
    {
     "name": "stdout",
     "output_type": "stream",
     "text": [
      "Epoch 81/100, Loss: 0.0454\n"
     ]
    },
    {
     "name": "stderr",
     "output_type": "stream",
     "text": [
      "Epoch 82/100: 100%|██████████| 329/329 [00:15<00:00, 21.56batch/s]\n"
     ]
    },
    {
     "name": "stdout",
     "output_type": "stream",
     "text": [
      "Epoch 82/100, Loss: 0.0007\n",
      "Validation Loss: 0.0132, Accuracenter_y: 99.58%\n",
      "confusion_matrix:\n",
      " [[1525    0    0]\n",
      " [   0 1470   17]\n",
      " [   0    2 1486]]\n",
      "Checkpoint saved at checkpoints/rotation_bool_dataset_model_epoch82.pth\n"
     ]
    },
    {
     "name": "stderr",
     "output_type": "stream",
     "text": [
      "Epoch 83/100: 100%|██████████| 329/329 [00:14<00:00, 22.62batch/s]\n"
     ]
    },
    {
     "name": "stdout",
     "output_type": "stream",
     "text": [
      "Epoch 83/100, Loss: 0.0001\n"
     ]
    },
    {
     "name": "stderr",
     "output_type": "stream",
     "text": [
      "Epoch 84/100: 100%|██████████| 329/329 [00:15<00:00, 21.83batch/s]\n"
     ]
    },
    {
     "name": "stdout",
     "output_type": "stream",
     "text": [
      "Epoch 84/100, Loss: 0.0000\n",
      "Validation Loss: 0.0118, Accuracenter_y: 99.67%\n",
      "confusion_matrix:\n",
      " [[1525    0    0]\n",
      " [   0 1475   12]\n",
      " [   0    3 1485]]\n",
      "Checkpoint saved at checkpoints/rotation_bool_dataset_model_epoch84.pth\n"
     ]
    },
    {
     "name": "stderr",
     "output_type": "stream",
     "text": [
      "Epoch 85/100: 100%|██████████| 329/329 [00:14<00:00, 22.55batch/s]\n"
     ]
    },
    {
     "name": "stdout",
     "output_type": "stream",
     "text": [
      "Epoch 85/100, Loss: 0.0000\n"
     ]
    },
    {
     "name": "stderr",
     "output_type": "stream",
     "text": [
      "Epoch 86/100: 100%|██████████| 329/329 [00:14<00:00, 22.90batch/s]\n"
     ]
    },
    {
     "name": "stdout",
     "output_type": "stream",
     "text": [
      "Epoch 86/100, Loss: 0.0000\n",
      "Validation Loss: 0.0133, Accuracenter_y: 99.67%\n",
      "confusion_matrix:\n",
      " [[1525    0    0]\n",
      " [   0 1475   12]\n",
      " [   0    3 1485]]\n",
      "Checkpoint saved at checkpoints/rotation_bool_dataset_model_epoch86.pth\n"
     ]
    },
    {
     "name": "stderr",
     "output_type": "stream",
     "text": [
      "Epoch 87/100: 100%|██████████| 329/329 [00:15<00:00, 21.17batch/s]\n"
     ]
    },
    {
     "name": "stdout",
     "output_type": "stream",
     "text": [
      "Epoch 87/100, Loss: 0.0000\n"
     ]
    },
    {
     "name": "stderr",
     "output_type": "stream",
     "text": [
      "Epoch 88/100: 100%|██████████| 329/329 [00:14<00:00, 22.26batch/s]\n"
     ]
    },
    {
     "name": "stdout",
     "output_type": "stream",
     "text": [
      "Epoch 88/100, Loss: 0.0000\n",
      "Validation Loss: 0.0126, Accuracenter_y: 99.64%\n",
      "confusion_matrix:\n",
      " [[1525    0    0]\n",
      " [   0 1476   11]\n",
      " [   0    5 1483]]\n",
      "Checkpoint saved at checkpoints/rotation_bool_dataset_model_epoch88.pth\n"
     ]
    },
    {
     "name": "stderr",
     "output_type": "stream",
     "text": [
      "Epoch 89/100: 100%|██████████| 329/329 [00:15<00:00, 21.23batch/s]\n"
     ]
    },
    {
     "name": "stdout",
     "output_type": "stream",
     "text": [
      "Epoch 89/100, Loss: 0.0000\n"
     ]
    },
    {
     "name": "stderr",
     "output_type": "stream",
     "text": [
      "Epoch 90/100: 100%|██████████| 329/329 [00:15<00:00, 21.51batch/s]\n"
     ]
    },
    {
     "name": "stdout",
     "output_type": "stream",
     "text": [
      "Epoch 90/100, Loss: 0.0000\n",
      "Validation Loss: 0.0139, Accuracenter_y: 99.60%\n",
      "confusion_matrix:\n",
      " [[1525    0    0]\n",
      " [   0 1473   14]\n",
      " [   0    4 1484]]\n",
      "Checkpoint saved at checkpoints/rotation_bool_dataset_model_epoch90.pth\n"
     ]
    },
    {
     "name": "stderr",
     "output_type": "stream",
     "text": [
      "Epoch 91/100: 100%|██████████| 329/329 [00:15<00:00, 21.80batch/s]\n"
     ]
    },
    {
     "name": "stdout",
     "output_type": "stream",
     "text": [
      "Epoch 91/100, Loss: 0.0000\n"
     ]
    },
    {
     "name": "stderr",
     "output_type": "stream",
     "text": [
      "Epoch 92/100: 100%|██████████| 329/329 [00:14<00:00, 22.00batch/s]\n"
     ]
    },
    {
     "name": "stdout",
     "output_type": "stream",
     "text": [
      "Epoch 92/100, Loss: 0.0000\n",
      "Validation Loss: 0.0139, Accuracenter_y: 99.60%\n",
      "confusion_matrix:\n",
      " [[1525    0    0]\n",
      " [   0 1473   14]\n",
      " [   0    4 1484]]\n",
      "Checkpoint saved at checkpoints/rotation_bool_dataset_model_epoch92.pth\n"
     ]
    },
    {
     "name": "stderr",
     "output_type": "stream",
     "text": [
      "Epoch 93/100: 100%|██████████| 329/329 [00:15<00:00, 21.66batch/s]\n"
     ]
    },
    {
     "name": "stdout",
     "output_type": "stream",
     "text": [
      "Epoch 93/100, Loss: 0.0000\n"
     ]
    },
    {
     "name": "stderr",
     "output_type": "stream",
     "text": [
      "Epoch 94/100: 100%|██████████| 329/329 [00:14<00:00, 22.81batch/s]\n"
     ]
    },
    {
     "name": "stdout",
     "output_type": "stream",
     "text": [
      "Epoch 94/100, Loss: 0.0000\n",
      "Validation Loss: 0.0135, Accuracenter_y: 99.64%\n",
      "confusion_matrix:\n",
      " [[1525    0    0]\n",
      " [   0 1477   10]\n",
      " [   0    6 1482]]\n",
      "Checkpoint saved at checkpoints/rotation_bool_dataset_model_epoch94.pth\n"
     ]
    },
    {
     "name": "stderr",
     "output_type": "stream",
     "text": [
      "Epoch 95/100: 100%|██████████| 329/329 [00:14<00:00, 22.56batch/s]\n"
     ]
    },
    {
     "name": "stdout",
     "output_type": "stream",
     "text": [
      "Epoch 95/100, Loss: 0.0000\n"
     ]
    },
    {
     "name": "stderr",
     "output_type": "stream",
     "text": [
      "Epoch 96/100: 100%|██████████| 329/329 [00:14<00:00, 22.03batch/s]\n"
     ]
    },
    {
     "name": "stdout",
     "output_type": "stream",
     "text": [
      "Epoch 96/100, Loss: 0.0000\n",
      "Validation Loss: 0.0134, Accuracenter_y: 99.64%\n",
      "confusion_matrix:\n",
      " [[1525    0    0]\n",
      " [   0 1476   11]\n",
      " [   0    5 1483]]\n",
      "Checkpoint saved at checkpoints/rotation_bool_dataset_model_epoch96.pth\n"
     ]
    },
    {
     "name": "stderr",
     "output_type": "stream",
     "text": [
      "Epoch 97/100: 100%|██████████| 329/329 [00:15<00:00, 21.74batch/s]\n"
     ]
    },
    {
     "name": "stdout",
     "output_type": "stream",
     "text": [
      "Epoch 97/100, Loss: 0.0000\n"
     ]
    },
    {
     "name": "stderr",
     "output_type": "stream",
     "text": [
      "Epoch 98/100: 100%|██████████| 329/329 [00:14<00:00, 22.76batch/s]\n"
     ]
    },
    {
     "name": "stdout",
     "output_type": "stream",
     "text": [
      "Epoch 98/100, Loss: 0.0330\n",
      "Validation Loss: 0.0213, Accuracenter_y: 99.64%\n",
      "confusion_matrix:\n",
      " [[1525    0    0]\n",
      " [   0 1476   11]\n",
      " [   2    3 1483]]\n",
      "Checkpoint saved at checkpoints/rotation_bool_dataset_model_epoch98.pth\n"
     ]
    },
    {
     "name": "stderr",
     "output_type": "stream",
     "text": [
      "Epoch 99/100: 100%|██████████| 329/329 [00:14<00:00, 22.12batch/s]\n"
     ]
    },
    {
     "name": "stdout",
     "output_type": "stream",
     "text": [
      "Epoch 99/100, Loss: 0.0001\n"
     ]
    },
    {
     "name": "stderr",
     "output_type": "stream",
     "text": [
      "Epoch 100/100: 100%|██████████| 329/329 [00:14<00:00, 23.12batch/s]\n"
     ]
    },
    {
     "name": "stdout",
     "output_type": "stream",
     "text": [
      "Epoch 100/100, Loss: 0.0000\n",
      "Validation Loss: 0.0127, Accuracenter_y: 99.67%\n",
      "confusion_matrix:\n",
      " [[1525    0    0]\n",
      " [   0 1479    8]\n",
      " [   0    7 1481]]\n",
      "Checkpoint saved at checkpoints/rotation_bool_dataset_model_epoch100.pth\n"
     ]
    },
    {
     "name": "stderr",
     "output_type": "stream",
     "text": [
      "Epoch 1/100: 100%|██████████| 329/329 [00:14<00:00, 22.16batch/s]\n"
     ]
    },
    {
     "name": "stdout",
     "output_type": "stream",
     "text": [
      "Epoch 1/100, Loss: 1.4346\n"
     ]
    },
    {
     "name": "stderr",
     "output_type": "stream",
     "text": [
      "Epoch 2/100: 100%|██████████| 329/329 [00:14<00:00, 22.10batch/s]\n"
     ]
    },
    {
     "name": "stdout",
     "output_type": "stream",
     "text": [
      "Epoch 2/100, Loss: 0.9971\n",
      "Validation Loss: 12.7046, Accuracenter_y: 33.62%\n",
      "confusion_matrix:\n",
      " [[   4    0 1491]\n",
      " [  12   25 1484]\n",
      " [   0    0 1484]]\n",
      "Checkpoint saved at checkpoints/hard_dataset_model_epoch2.pth\n"
     ]
    },
    {
     "name": "stderr",
     "output_type": "stream",
     "text": [
      "Epoch 3/100: 100%|██████████| 329/329 [00:14<00:00, 22.39batch/s]\n"
     ]
    },
    {
     "name": "stdout",
     "output_type": "stream",
     "text": [
      "Epoch 3/100, Loss: 0.2840\n"
     ]
    },
    {
     "name": "stderr",
     "output_type": "stream",
     "text": [
      "Epoch 4/100: 100%|██████████| 329/329 [00:14<00:00, 22.36batch/s]\n"
     ]
    },
    {
     "name": "stdout",
     "output_type": "stream",
     "text": [
      "Epoch 4/100, Loss: 0.1410\n",
      "Validation Loss: 4.9754, Accuracenter_y: 47.67%\n",
      "confusion_matrix:\n",
      " [[ 321    0 1174]\n",
      " [ 382  341  798]\n",
      " [   1    0 1483]]\n",
      "Checkpoint saved at checkpoints/hard_dataset_model_epoch4.pth\n"
     ]
    },
    {
     "name": "stderr",
     "output_type": "stream",
     "text": [
      "Epoch 5/100: 100%|██████████| 329/329 [00:14<00:00, 22.42batch/s]\n"
     ]
    },
    {
     "name": "stdout",
     "output_type": "stream",
     "text": [
      "Epoch 5/100, Loss: 0.1049\n"
     ]
    },
    {
     "name": "stderr",
     "output_type": "stream",
     "text": [
      "Epoch 6/100: 100%|██████████| 329/329 [00:14<00:00, 22.49batch/s]\n"
     ]
    },
    {
     "name": "stdout",
     "output_type": "stream",
     "text": [
      "Epoch 6/100, Loss: 0.0646\n",
      "Validation Loss: 2.3908, Accuracenter_y: 69.84%\n",
      "confusion_matrix:\n",
      " [[ 149   19 1327]\n",
      " [   0 1514    7]\n",
      " [   0    4 1480]]\n",
      "Checkpoint saved at checkpoints/hard_dataset_model_epoch6.pth\n"
     ]
    },
    {
     "name": "stderr",
     "output_type": "stream",
     "text": [
      "Epoch 7/100: 100%|██████████| 329/329 [00:14<00:00, 23.10batch/s]\n"
     ]
    },
    {
     "name": "stdout",
     "output_type": "stream",
     "text": [
      "Epoch 7/100, Loss: 0.0782\n"
     ]
    },
    {
     "name": "stderr",
     "output_type": "stream",
     "text": [
      "Epoch 8/100: 100%|██████████| 329/329 [00:14<00:00, 22.24batch/s]\n"
     ]
    },
    {
     "name": "stdout",
     "output_type": "stream",
     "text": [
      "Epoch 8/100, Loss: 0.0429\n",
      "Validation Loss: 32.4221, Accuracenter_y: 37.44%\n",
      "confusion_matrix:\n",
      " [[ 118    0 1377]\n",
      " [  58   83 1380]\n",
      " [   0    0 1484]]\n",
      "Checkpoint saved at checkpoints/hard_dataset_model_epoch8.pth\n"
     ]
    },
    {
     "name": "stderr",
     "output_type": "stream",
     "text": [
      "Epoch 9/100: 100%|██████████| 329/329 [00:16<00:00, 19.47batch/s]\n"
     ]
    },
    {
     "name": "stdout",
     "output_type": "stream",
     "text": [
      "Epoch 9/100, Loss: 0.0367\n"
     ]
    },
    {
     "name": "stderr",
     "output_type": "stream",
     "text": [
      "Epoch 10/100: 100%|██████████| 329/329 [00:16<00:00, 20.14batch/s]\n"
     ]
    },
    {
     "name": "stdout",
     "output_type": "stream",
     "text": [
      "Epoch 10/100, Loss: 0.0299\n",
      "Validation Loss: 2.0325, Accuracenter_y: 78.22%\n",
      "confusion_matrix:\n",
      " [[1060  435    0]\n",
      " [   0 1521    0]\n",
      " [ 360  185  939]]\n",
      "Checkpoint saved at checkpoints/hard_dataset_model_epoch10.pth\n"
     ]
    },
    {
     "name": "stderr",
     "output_type": "stream",
     "text": [
      "Epoch 11/100: 100%|██████████| 329/329 [00:16<00:00, 20.11batch/s]\n"
     ]
    },
    {
     "name": "stdout",
     "output_type": "stream",
     "text": [
      "Epoch 11/100, Loss: 0.0578\n"
     ]
    },
    {
     "name": "stderr",
     "output_type": "stream",
     "text": [
      "Epoch 12/100: 100%|██████████| 329/329 [00:16<00:00, 20.51batch/s]\n"
     ]
    },
    {
     "name": "stdout",
     "output_type": "stream",
     "text": [
      "Epoch 12/100, Loss: 0.0219\n",
      "Validation Loss: 0.4369, Accuracenter_y: 91.40%\n",
      "confusion_matrix:\n",
      " [[1387  108    0]\n",
      " [   0 1521    0]\n",
      " [ 216   63 1205]]\n",
      "Checkpoint saved at checkpoints/hard_dataset_model_epoch12.pth\n"
     ]
    },
    {
     "name": "stderr",
     "output_type": "stream",
     "text": [
      "Epoch 13/100: 100%|██████████| 329/329 [00:14<00:00, 23.01batch/s]\n"
     ]
    },
    {
     "name": "stdout",
     "output_type": "stream",
     "text": [
      "Epoch 13/100, Loss: 0.0139\n"
     ]
    },
    {
     "name": "stderr",
     "output_type": "stream",
     "text": [
      "Epoch 14/100: 100%|██████████| 329/329 [00:14<00:00, 22.92batch/s]\n"
     ]
    },
    {
     "name": "stdout",
     "output_type": "stream",
     "text": [
      "Epoch 14/100, Loss: 0.0206\n",
      "Validation Loss: 21.9170, Accuracenter_y: 44.27%\n",
      "confusion_matrix:\n",
      " [[ 274    0 1221]\n",
      " [  48  234 1239]\n",
      " [   0    0 1484]]\n",
      "Checkpoint saved at checkpoints/hard_dataset_model_epoch14.pth\n"
     ]
    },
    {
     "name": "stderr",
     "output_type": "stream",
     "text": [
      "Epoch 15/100: 100%|██████████| 329/329 [00:14<00:00, 22.52batch/s]\n"
     ]
    },
    {
     "name": "stdout",
     "output_type": "stream",
     "text": [
      "Epoch 15/100, Loss: 0.0503\n"
     ]
    },
    {
     "name": "stderr",
     "output_type": "stream",
     "text": [
      "Epoch 16/100: 100%|██████████| 329/329 [00:13<00:00, 23.65batch/s]\n"
     ]
    },
    {
     "name": "stdout",
     "output_type": "stream",
     "text": [
      "Epoch 16/100, Loss: 0.0196\n",
      "Validation Loss: 2.7076, Accuracenter_y: 67.78%\n",
      "confusion_matrix:\n",
      " [[ 448    1 1046]\n",
      " [   0 1118  403]\n",
      " [   0    0 1484]]\n",
      "Checkpoint saved at checkpoints/hard_dataset_model_epoch16.pth\n"
     ]
    },
    {
     "name": "stderr",
     "output_type": "stream",
     "text": [
      "Epoch 17/100: 100%|██████████| 329/329 [00:15<00:00, 21.66batch/s]\n"
     ]
    },
    {
     "name": "stdout",
     "output_type": "stream",
     "text": [
      "Epoch 17/100, Loss: 0.0122\n"
     ]
    },
    {
     "name": "stderr",
     "output_type": "stream",
     "text": [
      "Epoch 18/100: 100%|██████████| 329/329 [00:14<00:00, 22.42batch/s]\n"
     ]
    },
    {
     "name": "stdout",
     "output_type": "stream",
     "text": [
      "Epoch 18/100, Loss: 0.0123\n",
      "Validation Loss: 0.0859, Accuracenter_y: 97.53%\n",
      "confusion_matrix:\n",
      " [[1452    0   43]\n",
      " [   7 1504   10]\n",
      " [  50    1 1433]]\n",
      "Checkpoint saved at checkpoints/hard_dataset_model_epoch18.pth\n"
     ]
    },
    {
     "name": "stderr",
     "output_type": "stream",
     "text": [
      "Epoch 19/100: 100%|██████████| 329/329 [00:14<00:00, 22.99batch/s]\n"
     ]
    },
    {
     "name": "stdout",
     "output_type": "stream",
     "text": [
      "Epoch 19/100, Loss: 0.0113\n"
     ]
    },
    {
     "name": "stderr",
     "output_type": "stream",
     "text": [
      "Epoch 20/100: 100%|██████████| 329/329 [00:14<00:00, 23.22batch/s]\n"
     ]
    },
    {
     "name": "stdout",
     "output_type": "stream",
     "text": [
      "Epoch 20/100, Loss: 0.0267\n",
      "Validation Loss: 1.2266, Accuracenter_y: 79.58%\n",
      "confusion_matrix:\n",
      " [[ 610    3  882]\n",
      " [   0 1493   28]\n",
      " [   4    2 1478]]\n",
      "Checkpoint saved at checkpoints/hard_dataset_model_epoch20.pth\n"
     ]
    },
    {
     "name": "stderr",
     "output_type": "stream",
     "text": [
      "Epoch 21/100: 100%|██████████| 329/329 [00:15<00:00, 21.75batch/s]\n"
     ]
    },
    {
     "name": "stdout",
     "output_type": "stream",
     "text": [
      "Epoch 21/100, Loss: 0.0070\n"
     ]
    },
    {
     "name": "stderr",
     "output_type": "stream",
     "text": [
      "Epoch 22/100: 100%|██████████| 329/329 [00:16<00:00, 20.56batch/s]\n"
     ]
    },
    {
     "name": "stdout",
     "output_type": "stream",
     "text": [
      "Epoch 22/100, Loss: 0.0133\n",
      "Validation Loss: 33.0947, Accuracenter_y: 42.33%\n",
      "confusion_matrix:\n",
      " [[ 269    0 1226]\n",
      " [  55  152 1314]\n",
      " [   0    0 1484]]\n",
      "Checkpoint saved at checkpoints/hard_dataset_model_epoch22.pth\n"
     ]
    },
    {
     "name": "stderr",
     "output_type": "stream",
     "text": [
      "Epoch 23/100: 100%|██████████| 329/329 [00:14<00:00, 22.89batch/s]\n"
     ]
    },
    {
     "name": "stdout",
     "output_type": "stream",
     "text": [
      "Epoch 23/100, Loss: 0.0254\n"
     ]
    },
    {
     "name": "stderr",
     "output_type": "stream",
     "text": [
      "Epoch 24/100: 100%|██████████| 329/329 [00:15<00:00, 21.86batch/s]\n"
     ]
    },
    {
     "name": "stdout",
     "output_type": "stream",
     "text": [
      "Epoch 24/100, Loss: 0.0171\n",
      "Validation Loss: 4.6709, Accuracenter_y: 64.78%\n",
      "confusion_matrix:\n",
      " [[  93  760  642]\n",
      " [   0 1521    0]\n",
      " [   0  183 1301]]\n",
      "Checkpoint saved at checkpoints/hard_dataset_model_epoch24.pth\n"
     ]
    },
    {
     "name": "stderr",
     "output_type": "stream",
     "text": [
      "Epoch 25/100: 100%|██████████| 329/329 [00:15<00:00, 21.81batch/s]\n"
     ]
    },
    {
     "name": "stdout",
     "output_type": "stream",
     "text": [
      "Epoch 25/100, Loss: 0.0612\n"
     ]
    },
    {
     "name": "stderr",
     "output_type": "stream",
     "text": [
      "Epoch 26/100: 100%|██████████| 329/329 [00:14<00:00, 22.45batch/s]\n"
     ]
    },
    {
     "name": "stdout",
     "output_type": "stream",
     "text": [
      "Epoch 26/100, Loss: 0.0055\n",
      "Validation Loss: 0.0986, Accuracenter_y: 97.44%\n",
      "confusion_matrix:\n",
      " [[1475    5   15]\n",
      " [   3 1518    0]\n",
      " [  86    6 1392]]\n",
      "Checkpoint saved at checkpoints/hard_dataset_model_epoch26.pth\n"
     ]
    },
    {
     "name": "stderr",
     "output_type": "stream",
     "text": [
      "Epoch 27/100: 100%|██████████| 329/329 [00:14<00:00, 22.71batch/s]\n"
     ]
    },
    {
     "name": "stdout",
     "output_type": "stream",
     "text": [
      "Epoch 27/100, Loss: 0.0024\n"
     ]
    },
    {
     "name": "stderr",
     "output_type": "stream",
     "text": [
      "Epoch 28/100: 100%|██████████| 329/329 [00:14<00:00, 22.92batch/s]\n"
     ]
    },
    {
     "name": "stdout",
     "output_type": "stream",
     "text": [
      "Epoch 28/100, Loss: 0.0016\n",
      "Validation Loss: 0.1030, Accuracenter_y: 97.76%\n",
      "confusion_matrix:\n",
      " [[1478    7   10]\n",
      " [   1 1520    0]\n",
      " [  75    8 1401]]\n",
      "Checkpoint saved at checkpoints/hard_dataset_model_epoch28.pth\n"
     ]
    },
    {
     "name": "stderr",
     "output_type": "stream",
     "text": [
      "Epoch 29/100: 100%|██████████| 329/329 [00:13<00:00, 23.78batch/s]\n"
     ]
    },
    {
     "name": "stdout",
     "output_type": "stream",
     "text": [
      "Epoch 29/100, Loss: 0.0010\n"
     ]
    },
    {
     "name": "stderr",
     "output_type": "stream",
     "text": [
      "Epoch 30/100: 100%|██████████| 329/329 [00:14<00:00, 23.01batch/s]\n"
     ]
    },
    {
     "name": "stdout",
     "output_type": "stream",
     "text": [
      "Epoch 30/100, Loss: 0.0057\n",
      "Validation Loss: 4.8161, Accuracenter_y: 65.62%\n",
      "confusion_matrix:\n",
      " [[ 399    0 1096]\n",
      " [   0 1071  450]\n",
      " [   1    0 1483]]\n",
      "Checkpoint saved at checkpoints/hard_dataset_model_epoch30.pth\n"
     ]
    },
    {
     "name": "stderr",
     "output_type": "stream",
     "text": [
      "Epoch 31/100: 100%|██████████| 329/329 [00:14<00:00, 22.61batch/s]\n"
     ]
    },
    {
     "name": "stdout",
     "output_type": "stream",
     "text": [
      "Epoch 31/100, Loss: 0.0202\n"
     ]
    },
    {
     "name": "stderr",
     "output_type": "stream",
     "text": [
      "Epoch 32/100: 100%|██████████| 329/329 [00:15<00:00, 21.70batch/s]\n"
     ]
    },
    {
     "name": "stdout",
     "output_type": "stream",
     "text": [
      "Epoch 32/100, Loss: 0.0040\n",
      "Validation Loss: 0.0893, Accuracenter_y: 97.69%\n",
      "confusion_matrix:\n",
      " [[1456    0   39]\n",
      " [  13 1502    6]\n",
      " [  43    3 1438]]\n",
      "Checkpoint saved at checkpoints/hard_dataset_model_epoch32.pth\n"
     ]
    },
    {
     "name": "stderr",
     "output_type": "stream",
     "text": [
      "Epoch 33/100: 100%|██████████| 329/329 [00:14<00:00, 23.41batch/s]\n"
     ]
    },
    {
     "name": "stdout",
     "output_type": "stream",
     "text": [
      "Epoch 33/100, Loss: 0.0049\n"
     ]
    },
    {
     "name": "stderr",
     "output_type": "stream",
     "text": [
      "Epoch 34/100: 100%|██████████| 329/329 [00:14<00:00, 22.39batch/s]\n"
     ]
    },
    {
     "name": "stdout",
     "output_type": "stream",
     "text": [
      "Epoch 34/100, Loss: 0.0046\n",
      "Validation Loss: 0.0856, Accuracenter_y: 97.71%\n",
      "confusion_matrix:\n",
      " [[1447    0   48]\n",
      " [   4 1515    2]\n",
      " [  45    4 1435]]\n",
      "Checkpoint saved at checkpoints/hard_dataset_model_epoch34.pth\n"
     ]
    },
    {
     "name": "stderr",
     "output_type": "stream",
     "text": [
      "Epoch 35/100: 100%|██████████| 329/329 [00:15<00:00, 21.56batch/s]\n"
     ]
    },
    {
     "name": "stdout",
     "output_type": "stream",
     "text": [
      "Epoch 35/100, Loss: 0.0029\n"
     ]
    },
    {
     "name": "stderr",
     "output_type": "stream",
     "text": [
      "Epoch 36/100: 100%|██████████| 329/329 [00:14<00:00, 22.71batch/s]\n"
     ]
    },
    {
     "name": "stdout",
     "output_type": "stream",
     "text": [
      "Epoch 36/100, Loss: 0.0030\n",
      "Validation Loss: 7.6561, Accuracenter_y: 66.76%\n",
      "confusion_matrix:\n",
      " [[  66   14 1415]\n",
      " [   0 1460   61]\n",
      " [   0    6 1478]]\n",
      "Checkpoint saved at checkpoints/hard_dataset_model_epoch36.pth\n"
     ]
    },
    {
     "name": "stderr",
     "output_type": "stream",
     "text": [
      "Epoch 37/100: 100%|██████████| 329/329 [00:14<00:00, 23.02batch/s]\n"
     ]
    },
    {
     "name": "stdout",
     "output_type": "stream",
     "text": [
      "Epoch 37/100, Loss: 0.0330\n"
     ]
    },
    {
     "name": "stderr",
     "output_type": "stream",
     "text": [
      "Epoch 38/100: 100%|██████████| 329/329 [00:14<00:00, 23.04batch/s]\n"
     ]
    },
    {
     "name": "stdout",
     "output_type": "stream",
     "text": [
      "Epoch 38/100, Loss: 0.0031\n",
      "Validation Loss: 0.0873, Accuracenter_y: 98.33%\n",
      "confusion_matrix:\n",
      " [[1474    0   21]\n",
      " [   1 1516    4]\n",
      " [  46    3 1435]]\n",
      "Checkpoint saved at checkpoints/hard_dataset_model_epoch38.pth\n"
     ]
    },
    {
     "name": "stderr",
     "output_type": "stream",
     "text": [
      "Epoch 39/100: 100%|██████████| 329/329 [00:14<00:00, 22.01batch/s]\n"
     ]
    },
    {
     "name": "stdout",
     "output_type": "stream",
     "text": [
      "Epoch 39/100, Loss: 0.0005\n"
     ]
    },
    {
     "name": "stderr",
     "output_type": "stream",
     "text": [
      "Epoch 40/100: 100%|██████████| 329/329 [00:14<00:00, 22.02batch/s]\n"
     ]
    },
    {
     "name": "stdout",
     "output_type": "stream",
     "text": [
      "Epoch 40/100, Loss: 0.0012\n",
      "Validation Loss: 0.2463, Accuracenter_y: 93.58%\n",
      "confusion_matrix:\n",
      " [[1360    0  135]\n",
      " [  55 1389   77]\n",
      " [  20    2 1462]]\n",
      "Checkpoint saved at checkpoints/hard_dataset_model_epoch40.pth\n"
     ]
    },
    {
     "name": "stderr",
     "output_type": "stream",
     "text": [
      "Epoch 41/100: 100%|██████████| 329/329 [00:14<00:00, 22.58batch/s]\n"
     ]
    },
    {
     "name": "stdout",
     "output_type": "stream",
     "text": [
      "Epoch 41/100, Loss: 0.0036\n"
     ]
    },
    {
     "name": "stderr",
     "output_type": "stream",
     "text": [
      "Epoch 42/100: 100%|██████████| 329/329 [00:14<00:00, 22.86batch/s]\n"
     ]
    },
    {
     "name": "stdout",
     "output_type": "stream",
     "text": [
      "Epoch 42/100, Loss: 0.0085\n",
      "Validation Loss: 0.6800, Accuracenter_y: 85.62%\n",
      "confusion_matrix:\n",
      " [[1036    0  459]\n",
      " [   6 1345  170]\n",
      " [  11    1 1472]]\n",
      "Checkpoint saved at checkpoints/hard_dataset_model_epoch42.pth\n"
     ]
    },
    {
     "name": "stderr",
     "output_type": "stream",
     "text": [
      "Epoch 43/100: 100%|██████████| 329/329 [00:15<00:00, 21.49batch/s]\n"
     ]
    },
    {
     "name": "stdout",
     "output_type": "stream",
     "text": [
      "Epoch 43/100, Loss: 0.0052\n"
     ]
    },
    {
     "name": "stderr",
     "output_type": "stream",
     "text": [
      "Epoch 44/100: 100%|██████████| 329/329 [00:15<00:00, 21.14batch/s]\n"
     ]
    },
    {
     "name": "stdout",
     "output_type": "stream",
     "text": [
      "Epoch 44/100, Loss: 0.0009\n",
      "Validation Loss: 0.1118, Accuracenter_y: 98.27%\n",
      "confusion_matrix:\n",
      " [[1475   12    8]\n",
      " [   1 1518    2]\n",
      " [  47    8 1429]]\n",
      "Checkpoint saved at checkpoints/hard_dataset_model_epoch44.pth\n"
     ]
    },
    {
     "name": "stderr",
     "output_type": "stream",
     "text": [
      "Epoch 45/100: 100%|██████████| 329/329 [00:15<00:00, 21.74batch/s]\n"
     ]
    },
    {
     "name": "stdout",
     "output_type": "stream",
     "text": [
      "Epoch 45/100, Loss: 0.0006\n"
     ]
    },
    {
     "name": "stderr",
     "output_type": "stream",
     "text": [
      "Epoch 46/100: 100%|██████████| 329/329 [00:14<00:00, 22.22batch/s]\n"
     ]
    },
    {
     "name": "stdout",
     "output_type": "stream",
     "text": [
      "Epoch 46/100, Loss: 0.0007\n",
      "Validation Loss: 0.0929, Accuracenter_y: 98.33%\n",
      "confusion_matrix:\n",
      " [[1474    1   20]\n",
      " [   3 1513    5]\n",
      " [  40    6 1438]]\n",
      "Checkpoint saved at checkpoints/hard_dataset_model_epoch46.pth\n"
     ]
    },
    {
     "name": "stderr",
     "output_type": "stream",
     "text": [
      "Epoch 47/100: 100%|██████████| 329/329 [00:15<00:00, 21.58batch/s]\n"
     ]
    },
    {
     "name": "stdout",
     "output_type": "stream",
     "text": [
      "Epoch 47/100, Loss: 0.0228\n"
     ]
    },
    {
     "name": "stderr",
     "output_type": "stream",
     "text": [
      "Epoch 48/100: 100%|██████████| 329/329 [00:14<00:00, 22.38batch/s]\n"
     ]
    },
    {
     "name": "stdout",
     "output_type": "stream",
     "text": [
      "Epoch 48/100, Loss: 0.0036\n",
      "Validation Loss: 22.7776, Accuracenter_y: 46.53%\n",
      "confusion_matrix:\n",
      " [[ 373    0 1122]\n",
      " [  51  237 1233]\n",
      " [   0    0 1484]]\n",
      "Checkpoint saved at checkpoints/hard_dataset_model_epoch48.pth\n"
     ]
    },
    {
     "name": "stderr",
     "output_type": "stream",
     "text": [
      "Epoch 49/100: 100%|██████████| 329/329 [00:15<00:00, 21.89batch/s]\n"
     ]
    },
    {
     "name": "stdout",
     "output_type": "stream",
     "text": [
      "Epoch 49/100, Loss: 0.0025\n"
     ]
    },
    {
     "name": "stderr",
     "output_type": "stream",
     "text": [
      "Epoch 50/100: 100%|██████████| 329/329 [00:14<00:00, 22.15batch/s]\n"
     ]
    },
    {
     "name": "stdout",
     "output_type": "stream",
     "text": [
      "Epoch 50/100, Loss: 0.0053\n",
      "Validation Loss: 0.1024, Accuracenter_y: 98.36%\n",
      "confusion_matrix:\n",
      " [[1485    2    8]\n",
      " [   2 1517    2]\n",
      " [  54    6 1424]]\n",
      "Checkpoint saved at checkpoints/hard_dataset_model_epoch50.pth\n"
     ]
    },
    {
     "name": "stderr",
     "output_type": "stream",
     "text": [
      "Epoch 51/100: 100%|██████████| 329/329 [00:13<00:00, 23.57batch/s]\n"
     ]
    },
    {
     "name": "stdout",
     "output_type": "stream",
     "text": [
      "Epoch 51/100, Loss: 0.0006\n"
     ]
    },
    {
     "name": "stderr",
     "output_type": "stream",
     "text": [
      "Epoch 52/100: 100%|██████████| 329/329 [00:15<00:00, 21.84batch/s]\n"
     ]
    },
    {
     "name": "stdout",
     "output_type": "stream",
     "text": [
      "Epoch 52/100, Loss: 0.0033\n",
      "Validation Loss: 1.6719, Accuracenter_y: 77.24%\n",
      "confusion_matrix:\n",
      " [[ 690    0  805]\n",
      " [  11 1307  203]\n",
      " [   4    1 1479]]\n",
      "Checkpoint saved at checkpoints/hard_dataset_model_epoch52.pth\n"
     ]
    },
    {
     "name": "stderr",
     "output_type": "stream",
     "text": [
      "Epoch 53/100: 100%|██████████| 329/329 [00:14<00:00, 22.10batch/s]\n"
     ]
    },
    {
     "name": "stdout",
     "output_type": "stream",
     "text": [
      "Epoch 53/100, Loss: 0.0018\n"
     ]
    },
    {
     "name": "stderr",
     "output_type": "stream",
     "text": [
      "Epoch 54/100: 100%|██████████| 329/329 [00:15<00:00, 21.58batch/s]\n"
     ]
    },
    {
     "name": "stdout",
     "output_type": "stream",
     "text": [
      "Epoch 54/100, Loss: 0.0153\n",
      "Validation Loss: 6.1971, Accuracenter_y: 65.20%\n",
      "confusion_matrix:\n",
      " [[ 282    0 1213]\n",
      " [   5 1169  347]\n",
      " [   0    1 1483]]\n",
      "Checkpoint saved at checkpoints/hard_dataset_model_epoch54.pth\n"
     ]
    },
    {
     "name": "stderr",
     "output_type": "stream",
     "text": [
      "Epoch 55/100: 100%|██████████| 329/329 [00:15<00:00, 21.52batch/s]\n"
     ]
    },
    {
     "name": "stdout",
     "output_type": "stream",
     "text": [
      "Epoch 55/100, Loss: 0.0308\n"
     ]
    },
    {
     "name": "stderr",
     "output_type": "stream",
     "text": [
      "Epoch 56/100: 100%|██████████| 329/329 [00:15<00:00, 21.43batch/s]\n"
     ]
    },
    {
     "name": "stdout",
     "output_type": "stream",
     "text": [
      "Epoch 56/100, Loss: 0.0011\n",
      "Validation Loss: 0.0893, Accuracenter_y: 98.71%\n",
      "confusion_matrix:\n",
      " [[1483    2   10]\n",
      " [   3 1514    4]\n",
      " [  36    3 1445]]\n",
      "Checkpoint saved at checkpoints/hard_dataset_model_epoch56.pth\n"
     ]
    },
    {
     "name": "stderr",
     "output_type": "stream",
     "text": [
      "Epoch 57/100: 100%|██████████| 329/329 [00:14<00:00, 22.98batch/s]\n"
     ]
    },
    {
     "name": "stdout",
     "output_type": "stream",
     "text": [
      "Epoch 57/100, Loss: 0.0020\n"
     ]
    },
    {
     "name": "stderr",
     "output_type": "stream",
     "text": [
      "Epoch 58/100: 100%|██████████| 329/329 [00:14<00:00, 22.97batch/s]\n"
     ]
    },
    {
     "name": "stdout",
     "output_type": "stream",
     "text": [
      "Epoch 58/100, Loss: 0.0006\n",
      "Validation Loss: 0.0928, Accuracenter_y: 98.42%\n",
      "confusion_matrix:\n",
      " [[1477    0   18]\n",
      " [   5 1508    8]\n",
      " [  37    3 1444]]\n",
      "Checkpoint saved at checkpoints/hard_dataset_model_epoch58.pth\n"
     ]
    },
    {
     "name": "stderr",
     "output_type": "stream",
     "text": [
      "Epoch 59/100: 100%|██████████| 329/329 [00:14<00:00, 22.17batch/s]\n"
     ]
    },
    {
     "name": "stdout",
     "output_type": "stream",
     "text": [
      "Epoch 59/100, Loss: 0.0003\n"
     ]
    },
    {
     "name": "stderr",
     "output_type": "stream",
     "text": [
      "Epoch 60/100: 100%|██████████| 329/329 [00:14<00:00, 22.33batch/s]\n"
     ]
    },
    {
     "name": "stdout",
     "output_type": "stream",
     "text": [
      "Epoch 60/100, Loss: 0.0001\n",
      "Validation Loss: 0.0974, Accuracenter_y: 98.62%\n",
      "confusion_matrix:\n",
      " [[1487    3    5]\n",
      " [   3 1515    3]\n",
      " [  44    4 1436]]\n",
      "Checkpoint saved at checkpoints/hard_dataset_model_epoch60.pth\n"
     ]
    },
    {
     "name": "stderr",
     "output_type": "stream",
     "text": [
      "Epoch 61/100: 100%|██████████| 329/329 [00:15<00:00, 21.90batch/s]\n"
     ]
    },
    {
     "name": "stdout",
     "output_type": "stream",
     "text": [
      "Epoch 61/100, Loss: 0.0001\n"
     ]
    },
    {
     "name": "stderr",
     "output_type": "stream",
     "text": [
      "Epoch 62/100: 100%|██████████| 329/329 [00:15<00:00, 21.71batch/s]\n"
     ]
    },
    {
     "name": "stdout",
     "output_type": "stream",
     "text": [
      "Epoch 62/100, Loss: 0.0001\n",
      "Validation Loss: 0.0924, Accuracenter_y: 98.82%\n",
      "confusion_matrix:\n",
      " [[1489    3    3]\n",
      " [   0 1519    2]\n",
      " [  40    5 1439]]\n",
      "Checkpoint saved at checkpoints/hard_dataset_model_epoch62.pth\n"
     ]
    },
    {
     "name": "stderr",
     "output_type": "stream",
     "text": [
      "Epoch 63/100: 100%|██████████| 329/329 [00:14<00:00, 22.19batch/s]\n"
     ]
    },
    {
     "name": "stdout",
     "output_type": "stream",
     "text": [
      "Epoch 63/100, Loss: 0.0000\n"
     ]
    },
    {
     "name": "stderr",
     "output_type": "stream",
     "text": [
      "Epoch 64/100: 100%|██████████| 329/329 [00:14<00:00, 23.07batch/s]\n"
     ]
    },
    {
     "name": "stdout",
     "output_type": "stream",
     "text": [
      "Epoch 64/100, Loss: 0.0000\n",
      "Validation Loss: 0.0870, Accuracenter_y: 98.96%\n",
      "confusion_matrix:\n",
      " [[1488    3    4]\n",
      " [   0 1519    2]\n",
      " [  33    5 1446]]\n",
      "Checkpoint saved at checkpoints/hard_dataset_model_epoch64.pth\n"
     ]
    },
    {
     "name": "stderr",
     "output_type": "stream",
     "text": [
      "Epoch 65/100: 100%|██████████| 329/329 [00:14<00:00, 22.33batch/s]\n"
     ]
    },
    {
     "name": "stdout",
     "output_type": "stream",
     "text": [
      "Epoch 65/100, Loss: 0.0000\n"
     ]
    },
    {
     "name": "stderr",
     "output_type": "stream",
     "text": [
      "Epoch 66/100: 100%|██████████| 329/329 [00:14<00:00, 23.04batch/s]\n"
     ]
    },
    {
     "name": "stdout",
     "output_type": "stream",
     "text": [
      "Epoch 66/100, Loss: 0.0000\n",
      "Validation Loss: 0.0909, Accuracenter_y: 98.89%\n",
      "confusion_matrix:\n",
      " [[1489    3    3]\n",
      " [   0 1519    2]\n",
      " [  36    6 1442]]\n",
      "Checkpoint saved at checkpoints/hard_dataset_model_epoch66.pth\n"
     ]
    },
    {
     "name": "stderr",
     "output_type": "stream",
     "text": [
      "Epoch 67/100: 100%|██████████| 329/329 [00:14<00:00, 22.62batch/s]\n"
     ]
    },
    {
     "name": "stdout",
     "output_type": "stream",
     "text": [
      "Epoch 67/100, Loss: 0.0001\n"
     ]
    },
    {
     "name": "stderr",
     "output_type": "stream",
     "text": [
      "Epoch 68/100: 100%|██████████| 329/329 [00:14<00:00, 22.86batch/s]\n"
     ]
    },
    {
     "name": "stdout",
     "output_type": "stream",
     "text": [
      "Epoch 68/100, Loss: 0.0000\n",
      "Validation Loss: 0.0890, Accuracenter_y: 98.80%\n",
      "confusion_matrix:\n",
      " [[1489    3    3]\n",
      " [   0 1519    2]\n",
      " [  40    6 1438]]\n",
      "Checkpoint saved at checkpoints/hard_dataset_model_epoch68.pth\n"
     ]
    },
    {
     "name": "stderr",
     "output_type": "stream",
     "text": [
      "Epoch 69/100: 100%|██████████| 329/329 [00:15<00:00, 21.82batch/s]\n"
     ]
    },
    {
     "name": "stdout",
     "output_type": "stream",
     "text": [
      "Epoch 69/100, Loss: 0.0000\n"
     ]
    },
    {
     "name": "stderr",
     "output_type": "stream",
     "text": [
      "Epoch 70/100: 100%|██████████| 329/329 [00:14<00:00, 22.19batch/s]\n"
     ]
    },
    {
     "name": "stdout",
     "output_type": "stream",
     "text": [
      "Epoch 70/100, Loss: 0.0000\n",
      "Validation Loss: 0.0942, Accuracenter_y: 98.84%\n",
      "confusion_matrix:\n",
      " [[1491    2    2]\n",
      " [   0 1519    2]\n",
      " [  39    7 1438]]\n",
      "Checkpoint saved at checkpoints/hard_dataset_model_epoch70.pth\n"
     ]
    },
    {
     "name": "stderr",
     "output_type": "stream",
     "text": [
      "Epoch 71/100: 100%|██████████| 329/329 [00:14<00:00, 22.43batch/s]\n"
     ]
    },
    {
     "name": "stdout",
     "output_type": "stream",
     "text": [
      "Epoch 71/100, Loss: 0.0000\n"
     ]
    },
    {
     "name": "stderr",
     "output_type": "stream",
     "text": [
      "Epoch 72/100: 100%|██████████| 329/329 [00:14<00:00, 22.72batch/s]\n"
     ]
    },
    {
     "name": "stdout",
     "output_type": "stream",
     "text": [
      "Epoch 72/100, Loss: 0.0000\n",
      "Validation Loss: 0.0878, Accuracenter_y: 98.89%\n",
      "confusion_matrix:\n",
      " [[1491    2    2]\n",
      " [   1 1518    2]\n",
      " [  37    6 1441]]\n",
      "Checkpoint saved at checkpoints/hard_dataset_model_epoch72.pth\n"
     ]
    },
    {
     "name": "stderr",
     "output_type": "stream",
     "text": [
      "Epoch 73/100: 100%|██████████| 329/329 [00:14<00:00, 22.22batch/s]\n"
     ]
    },
    {
     "name": "stdout",
     "output_type": "stream",
     "text": [
      "Epoch 73/100, Loss: 0.0000\n"
     ]
    },
    {
     "name": "stderr",
     "output_type": "stream",
     "text": [
      "Epoch 74/100: 100%|██████████| 329/329 [00:15<00:00, 21.20batch/s]\n"
     ]
    },
    {
     "name": "stdout",
     "output_type": "stream",
     "text": [
      "Epoch 74/100, Loss: 0.0172\n",
      "Validation Loss: 38.2715, Accuracenter_y: 63.64%\n",
      "confusion_matrix:\n",
      " [[   6  164 1325]\n",
      " [   6 1427   88]\n",
      " [   0   53 1431]]\n",
      "Checkpoint saved at checkpoints/hard_dataset_model_epoch74.pth\n"
     ]
    },
    {
     "name": "stderr",
     "output_type": "stream",
     "text": [
      "Epoch 75/100: 100%|██████████| 329/329 [00:14<00:00, 22.15batch/s]\n"
     ]
    },
    {
     "name": "stdout",
     "output_type": "stream",
     "text": [
      "Epoch 75/100, Loss: 0.0215\n"
     ]
    },
    {
     "name": "stderr",
     "output_type": "stream",
     "text": [
      "Epoch 76/100: 100%|██████████| 329/329 [00:14<00:00, 22.70batch/s]\n"
     ]
    },
    {
     "name": "stdout",
     "output_type": "stream",
     "text": [
      "Epoch 76/100, Loss: 0.0022\n",
      "Validation Loss: 0.2294, Accuracenter_y: 96.13%\n",
      "confusion_matrix:\n",
      " [[1353   56   86]\n",
      " [   0 1521    0]\n",
      " [  17   15 1452]]\n",
      "Checkpoint saved at checkpoints/hard_dataset_model_epoch76.pth\n"
     ]
    },
    {
     "name": "stderr",
     "output_type": "stream",
     "text": [
      "Epoch 77/100: 100%|██████████| 329/329 [00:14<00:00, 23.41batch/s]\n"
     ]
    },
    {
     "name": "stdout",
     "output_type": "stream",
     "text": [
      "Epoch 77/100, Loss: 0.0008\n"
     ]
    },
    {
     "name": "stderr",
     "output_type": "stream",
     "text": [
      "Epoch 78/100: 100%|██████████| 329/329 [00:14<00:00, 22.01batch/s]\n"
     ]
    },
    {
     "name": "stdout",
     "output_type": "stream",
     "text": [
      "Epoch 78/100, Loss: 0.0003\n",
      "Validation Loss: 1.0527, Accuracenter_y: 87.13%\n",
      "confusion_matrix:\n",
      " [[ 936   60  499]\n",
      " [   0 1517    4]\n",
      " [   4   12 1468]]\n",
      "Checkpoint saved at checkpoints/hard_dataset_model_epoch78.pth\n"
     ]
    },
    {
     "name": "stderr",
     "output_type": "stream",
     "text": [
      "Epoch 79/100: 100%|██████████| 329/329 [00:14<00:00, 22.99batch/s]\n"
     ]
    },
    {
     "name": "stdout",
     "output_type": "stream",
     "text": [
      "Epoch 79/100, Loss: 0.0003\n"
     ]
    },
    {
     "name": "stderr",
     "output_type": "stream",
     "text": [
      "Epoch 80/100: 100%|██████████| 329/329 [00:14<00:00, 22.48batch/s]\n"
     ]
    },
    {
     "name": "stdout",
     "output_type": "stream",
     "text": [
      "Epoch 80/100, Loss: 0.0001\n",
      "Validation Loss: 0.0762, Accuracenter_y: 98.56%\n",
      "confusion_matrix:\n",
      " [[1471   11   13]\n",
      " [   1 1516    4]\n",
      " [  28    8 1448]]\n",
      "Checkpoint saved at checkpoints/hard_dataset_model_epoch80.pth\n"
     ]
    },
    {
     "name": "stderr",
     "output_type": "stream",
     "text": [
      "Epoch 81/100: 100%|██████████| 329/329 [00:15<00:00, 21.75batch/s]\n"
     ]
    },
    {
     "name": "stdout",
     "output_type": "stream",
     "text": [
      "Epoch 81/100, Loss: 0.0001\n"
     ]
    },
    {
     "name": "stderr",
     "output_type": "stream",
     "text": [
      "Epoch 82/100: 100%|██████████| 329/329 [00:15<00:00, 21.67batch/s]\n"
     ]
    },
    {
     "name": "stdout",
     "output_type": "stream",
     "text": [
      "Epoch 82/100, Loss: 0.0000\n",
      "Validation Loss: 0.0864, Accuracenter_y: 98.56%\n",
      "confusion_matrix:\n",
      " [[1486    5    4]\n",
      " [   1 1516    4]\n",
      " [  44    7 1433]]\n",
      "Checkpoint saved at checkpoints/hard_dataset_model_epoch82.pth\n"
     ]
    },
    {
     "name": "stderr",
     "output_type": "stream",
     "text": [
      "Epoch 83/100: 100%|██████████| 329/329 [00:14<00:00, 22.59batch/s]\n"
     ]
    },
    {
     "name": "stdout",
     "output_type": "stream",
     "text": [
      "Epoch 83/100, Loss: 0.0000\n"
     ]
    },
    {
     "name": "stderr",
     "output_type": "stream",
     "text": [
      "Epoch 84/100: 100%|██████████| 329/329 [00:15<00:00, 21.84batch/s]\n"
     ]
    },
    {
     "name": "stdout",
     "output_type": "stream",
     "text": [
      "Epoch 84/100, Loss: 0.0000\n",
      "Validation Loss: 0.0826, Accuracenter_y: 98.67%\n",
      "confusion_matrix:\n",
      " [[1488    2    5]\n",
      " [   1 1516    4]\n",
      " [  44    4 1436]]\n",
      "Checkpoint saved at checkpoints/hard_dataset_model_epoch84.pth\n"
     ]
    },
    {
     "name": "stderr",
     "output_type": "stream",
     "text": [
      "Epoch 85/100: 100%|██████████| 329/329 [00:15<00:00, 21.89batch/s]\n"
     ]
    },
    {
     "name": "stdout",
     "output_type": "stream",
     "text": [
      "Epoch 85/100, Loss: 0.0000\n"
     ]
    },
    {
     "name": "stderr",
     "output_type": "stream",
     "text": [
      "Epoch 86/100: 100%|██████████| 329/329 [00:14<00:00, 22.15batch/s]\n"
     ]
    },
    {
     "name": "stdout",
     "output_type": "stream",
     "text": [
      "Epoch 86/100, Loss: 0.0000\n",
      "Validation Loss: 0.0857, Accuracenter_y: 98.69%\n",
      "confusion_matrix:\n",
      " [[1488    2    5]\n",
      " [   0 1517    4]\n",
      " [  44    4 1436]]\n",
      "Checkpoint saved at checkpoints/hard_dataset_model_epoch86.pth\n"
     ]
    },
    {
     "name": "stderr",
     "output_type": "stream",
     "text": [
      "Epoch 87/100: 100%|██████████| 329/329 [00:14<00:00, 22.64batch/s]\n"
     ]
    },
    {
     "name": "stdout",
     "output_type": "stream",
     "text": [
      "Epoch 87/100, Loss: 0.0000\n"
     ]
    },
    {
     "name": "stderr",
     "output_type": "stream",
     "text": [
      "Epoch 88/100: 100%|██████████| 329/329 [00:14<00:00, 22.32batch/s]\n"
     ]
    },
    {
     "name": "stdout",
     "output_type": "stream",
     "text": [
      "Epoch 88/100, Loss: 0.0000\n",
      "Validation Loss: 0.0775, Accuracenter_y: 98.69%\n",
      "confusion_matrix:\n",
      " [[1487    2    6]\n",
      " [   0 1516    5]\n",
      " [  43    3 1438]]\n",
      "Checkpoint saved at checkpoints/hard_dataset_model_epoch88.pth\n"
     ]
    },
    {
     "name": "stderr",
     "output_type": "stream",
     "text": [
      "Epoch 89/100: 100%|██████████| 329/329 [00:14<00:00, 23.09batch/s]\n"
     ]
    },
    {
     "name": "stdout",
     "output_type": "stream",
     "text": [
      "Epoch 89/100, Loss: 0.0000\n"
     ]
    },
    {
     "name": "stderr",
     "output_type": "stream",
     "text": [
      "Epoch 90/100: 100%|██████████| 329/329 [00:14<00:00, 22.43batch/s]\n"
     ]
    },
    {
     "name": "stdout",
     "output_type": "stream",
     "text": [
      "Epoch 90/100, Loss: 0.0000\n",
      "Validation Loss: 0.0779, Accuracenter_y: 98.67%\n",
      "confusion_matrix:\n",
      " [[1488    2    5]\n",
      " [   1 1515    5]\n",
      " [  44    3 1437]]\n",
      "Checkpoint saved at checkpoints/hard_dataset_model_epoch90.pth\n"
     ]
    },
    {
     "name": "stderr",
     "output_type": "stream",
     "text": [
      "Epoch 91/100: 100%|██████████| 329/329 [00:14<00:00, 21.97batch/s]\n"
     ]
    },
    {
     "name": "stdout",
     "output_type": "stream",
     "text": [
      "Epoch 91/100, Loss: 0.0000\n"
     ]
    },
    {
     "name": "stderr",
     "output_type": "stream",
     "text": [
      "Epoch 92/100: 100%|██████████| 329/329 [00:14<00:00, 22.58batch/s]\n"
     ]
    },
    {
     "name": "stdout",
     "output_type": "stream",
     "text": [
      "Epoch 92/100, Loss: 0.0001\n",
      "Validation Loss: 1.4467, Accuracenter_y: 88.27%\n",
      "confusion_matrix:\n",
      " [[1198  245   52]\n",
      " [   0 1521    0]\n",
      " [ 140   91 1253]]\n",
      "Checkpoint saved at checkpoints/hard_dataset_model_epoch92.pth\n"
     ]
    },
    {
     "name": "stderr",
     "output_type": "stream",
     "text": [
      "Epoch 93/100: 100%|██████████| 329/329 [00:14<00:00, 22.94batch/s]\n"
     ]
    },
    {
     "name": "stdout",
     "output_type": "stream",
     "text": [
      "Epoch 93/100, Loss: 0.0434\n"
     ]
    },
    {
     "name": "stderr",
     "output_type": "stream",
     "text": [
      "Epoch 94/100: 100%|██████████| 329/329 [00:15<00:00, 21.85batch/s]\n"
     ]
    },
    {
     "name": "stdout",
     "output_type": "stream",
     "text": [
      "Epoch 94/100, Loss: 0.0007\n",
      "Validation Loss: 0.1027, Accuracenter_y: 98.56%\n",
      "confusion_matrix:\n",
      " [[1487    2    6]\n",
      " [   3 1515    3]\n",
      " [  46    5 1433]]\n",
      "Checkpoint saved at checkpoints/hard_dataset_model_epoch94.pth\n"
     ]
    },
    {
     "name": "stderr",
     "output_type": "stream",
     "text": [
      "Epoch 95/100: 100%|██████████| 329/329 [00:15<00:00, 21.53batch/s]\n"
     ]
    },
    {
     "name": "stdout",
     "output_type": "stream",
     "text": [
      "Epoch 95/100, Loss: 0.0014\n"
     ]
    },
    {
     "name": "stderr",
     "output_type": "stream",
     "text": [
      "Epoch 96/100: 100%|██████████| 329/329 [00:14<00:00, 22.33batch/s]\n"
     ]
    },
    {
     "name": "stdout",
     "output_type": "stream",
     "text": [
      "Epoch 96/100, Loss: 0.0006\n",
      "Validation Loss: 0.0958, Accuracenter_y: 98.73%\n",
      "confusion_matrix:\n",
      " [[1487    4    4]\n",
      " [   1 1518    2]\n",
      " [  38    8 1438]]\n",
      "Checkpoint saved at checkpoints/hard_dataset_model_epoch96.pth\n"
     ]
    },
    {
     "name": "stderr",
     "output_type": "stream",
     "text": [
      "Epoch 97/100: 100%|██████████| 329/329 [00:14<00:00, 22.05batch/s]\n"
     ]
    },
    {
     "name": "stdout",
     "output_type": "stream",
     "text": [
      "Epoch 97/100, Loss: 0.0001\n"
     ]
    },
    {
     "name": "stderr",
     "output_type": "stream",
     "text": [
      "Epoch 98/100: 100%|██████████| 329/329 [00:14<00:00, 22.64batch/s]\n"
     ]
    },
    {
     "name": "stdout",
     "output_type": "stream",
     "text": [
      "Epoch 98/100, Loss: 0.0000\n",
      "Validation Loss: 0.0930, Accuracenter_y: 98.87%\n",
      "confusion_matrix:\n",
      " [[1488    3    4]\n",
      " [   1 1518    2]\n",
      " [  35    6 1443]]\n",
      "Checkpoint saved at checkpoints/hard_dataset_model_epoch98.pth\n"
     ]
    },
    {
     "name": "stderr",
     "output_type": "stream",
     "text": [
      "Epoch 99/100: 100%|██████████| 329/329 [00:14<00:00, 21.98batch/s]\n"
     ]
    },
    {
     "name": "stdout",
     "output_type": "stream",
     "text": [
      "Epoch 99/100, Loss: 0.0001\n"
     ]
    },
    {
     "name": "stderr",
     "output_type": "stream",
     "text": [
      "Epoch 100/100: 100%|██████████| 329/329 [00:15<00:00, 21.90batch/s]\n"
     ]
    },
    {
     "name": "stdout",
     "output_type": "stream",
     "text": [
      "Epoch 100/100, Loss: 0.0000\n",
      "Validation Loss: 0.0882, Accuracenter_y: 98.82%\n",
      "confusion_matrix:\n",
      " [[1488    3    4]\n",
      " [   1 1518    2]\n",
      " [  37    6 1441]]\n",
      "Checkpoint saved at checkpoints/hard_dataset_model_epoch100.pth\n",
      "run scussfully\n"
     ]
    }
   ],
   "source": [
    "print('let try more chanlenges, one can just modify the dataset color_type, side_length_type, rotation_bool to testify the ability of CNN models')\n",
    "num_epochs = 100\n",
    "num_each_shape = 10000\n",
    "for shape_type in ['circle','square','triangle']:\n",
    "    generate_shape_image(width, hight, \n",
    "                        num_each_shape, \n",
    "                        shape_type,\n",
    "                        \"./pic/\",\n",
    "                        color_type='random', #random or fix\n",
    "                        side_length_type='fix', #whether fix the side_length of geometry\n",
    "                        rotation_bool=False) #whether fix the roation\n",
    "    \n",
    "result_save_name='color_type_random_dataset'    \n",
    "training_processing(image_height,image_width,batch_size,num_epochs,checkpoint_interval)\n",
    "\n",
    "for shape_type in ['circle','square','triangle']:\n",
    "    generate_shape_image(width, hight, \n",
    "                        num_each_shape, \n",
    "                        shape_type,\n",
    "                        \"./pic/\",\n",
    "                        color_type='fix', #random or fix\n",
    "                        side_length_type='random', #whether fix the side_length of geometry\n",
    "                        rotation_bool=False) #whether fix the roation\n",
    "    \n",
    "result_save_name='side_legnth_type_random_dataset'    \n",
    "training_processing(image_height,image_width,batch_size,num_epochs,checkpoint_interval)\n",
    "\n",
    "\n",
    "for shape_type in ['circle','square','triangle']:\n",
    "    generate_shape_image(width, hight, \n",
    "                        num_each_shape, \n",
    "                        shape_type,\n",
    "                        \"./pic/\",\n",
    "                        color_type='fix', #random or fix\n",
    "                        side_length_type='fix', #whether fix the side_length of geometry\n",
    "                        rotation_bool=True) #whether fix the roation\n",
    "    \n",
    "result_save_name='rotation_bool_dataset'    \n",
    "training_processing(image_height,image_width,batch_size,num_epochs,checkpoint_interval)\n",
    "\n",
    "\n",
    "\n",
    "for shape_type in ['circle','square','triangle']:\n",
    "    generate_shape_image(width, hight, \n",
    "                        num_each_shape, \n",
    "                        shape_type,\n",
    "                        \"./pic/\",\n",
    "                        color_type='random', #random or fix\n",
    "                        side_length_type='random', #whether fix the side_length of geometry\n",
    "                        rotation_bool=True) #whether fix the roation\n",
    "    \n",
    "result_save_name='hard_dataset'    \n",
    "training_processing(image_height,image_width,batch_size,num_epochs,checkpoint_interval)\n",
    "print('run scussfully')"
   ]
  },
  {
   "cell_type": "code",
   "execution_count": 1,
   "metadata": {},
   "outputs": [
    {
     "data": {
      "text/html": [
       "<img src=\"data:image/png;base64,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\" style=\"display:inline-block;margin:10px;\"/><img src=\"data:image/png;base64,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\" style=\"display:inline-block;margin:10px;\"/><img src=\"data:image/png;base64,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\" style=\"display:inline-block;margin:10px;\"/>"
      ],
      "text/plain": [
       "<IPython.core.display.HTML object>"
      ]
     },
     "metadata": {},
     "output_type": "display_data"
    },
    {
     "data": {
      "text/html": [
       "<img src=\"data:image/png;base64,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\" style=\"display:inline-block;margin:10px;\"/><img src=\"data:image/png;base64,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\" style=\"display:inline-block;margin:10px;\"/><img src=\"data:image/png;base64,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\" style=\"display:inline-block;margin:10px;\"/>"
      ],
      "text/plain": [
       "<IPython.core.display.HTML object>"
      ]
     },
     "metadata": {},
     "output_type": "display_data"
    },
    {
     "data": {
      "text/html": [
       "<img src=\"data:image/png;base64,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\" style=\"display:inline-block;margin:10px;\"/><img src=\"data:image/png;base64,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\" style=\"display:inline-block;margin:10px;\"/><img src=\"data:image/png;base64,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\" style=\"display:inline-block;margin:10px;\"/>"
      ],
      "text/plain": [
       "<IPython.core.display.HTML object>"
      ]
     },
     "metadata": {},
     "output_type": "display_data"
    },
    {
     "data": {
      "text/html": [
       "<img src=\"data:image/png;base64,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\" style=\"display:inline-block;margin:10px;\"/><img src=\"data:image/png;base64,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\" style=\"display:inline-block;margin:10px;\"/><img src=\"data:image/png;base64,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\" style=\"display:inline-block;margin:10px;\"/>"
      ],
      "text/plain": [
       "<IPython.core.display.HTML object>"
      ]
     },
     "metadata": {},
     "output_type": "display_data"
    }
   ],
   "source": [
    "import pickle\n",
    "import matplotlib.pyplot as plt\n",
    "import os\n",
    "from libs.utilty import *\n",
    "def load_result(file_path):\n",
    "    with open(file_path, 'rb') as f:\n",
    "        loaded_data = pickle.load(f)\n",
    "    return loaded_data\n",
    "\n",
    "\n",
    "def plot_epoch_result(dataset_name,y_label_name):\n",
    "    result_dict=load_result('./checkpoints/'+dataset_name+'.pkl')\n",
    "    if not os.path.exists('./traing_result_pic'):\n",
    "        os.mkdir('./traing_result_pic')\n",
    "    if y_label_name=='training_loss_list':\n",
    "        x_list=result_dict['epoch_list']\n",
    "        y_list=result_dict['training_loss_list']\n",
    "        plt.scatter(x_list,y_list)\n",
    "        plt.title(f'{dataset_name}:epoch - train_loss_list')\n",
    "        plt.xlabel('epoch')\n",
    "        plt.ylabel(y_label_name)\n",
    "        plt.savefig('./traing_result_pic/'+dataset_name+'_'+'epoch'+'_'+y_label_name+'.png')\n",
    "        plt.close()\n",
    "\n",
    "    elif y_label_name=='val_acc_list':\n",
    "        x_list=result_dict['epoch_list'][::2]\n",
    "        y_list=result_dict['val_acc_list']\n",
    "        plt.scatter(x_list,y_list)\n",
    "        plt.title(f'{dataset_name}:epoch - val_acc_list')\n",
    "        plt.xlabel('epoch')\n",
    "        plt.ylabel(y_label_name)\n",
    "        plt.savefig('./traing_result_pic/'+dataset_name+'_'+'epoch'+'_'+y_label_name+'.png')\n",
    "        plt.close()\n",
    "    elif y_label_name=='validation_loss_list':\n",
    "        x_list=result_dict['epoch_list'][::2]\n",
    "        y_list=result_dict['validation_loss_list']\n",
    "        plt.scatter(x_list,y_list)\n",
    "        plt.title(f'{dataset_name}:epoch - val_loss_list')\n",
    "        plt.xlabel('epoch')\n",
    "        plt.ylabel(y_label_name)\n",
    "        plt.savefig('./traing_result_pic/'+dataset_name+'_'+'epoch'+'_'+y_label_name+'.png')\n",
    "        plt.close()\n",
    "    pic_path='./traing_result_pic/'+dataset_name+'_'+'epoch'+'_'+y_label_name+'.png'\n",
    "    return pic_path\n",
    "\n",
    "data_set_name_list=['color_type_random_dataset','side_legnth_type_random_dataset','rotation_bool_dataset','hard_dataset']\n",
    "y_label_name_list=['training_loss_list','validation_loss_list','val_acc_list']\n",
    "\n",
    "for data_set_name in data_set_name_list:\n",
    "    pic_path_list=[]\n",
    "    for y_label_name in y_label_name_list:\n",
    "        pic_path=plot_epoch_result(data_set_name,y_label_name)\n",
    "        pic_path_list.append(pic_path)\n",
    "    display_side_by_side(pic_path_list)"
   ]
  },
  {
   "cell_type": "code",
   "execution_count": 12,
   "metadata": {},
   "outputs": [
    {
     "name": "stdout",
     "output_type": "stream",
     "text": [
      "Visualize_finish!\n",
      "The outcome is fascinating. The alteration of color, length, or even rotation individually does not seem to significantly impact it. However, the complexity of the dataset plays a crucial role.\n",
      "One way to increasing ACC stategy intuitively is to append more training data.\n",
      "The second strategy involves incorporating pre-processing techniques tailored to address corner cases commonly encountered in situations involving excessively small shapes\n",
      "Utilizing the contour tracing technique and subsequently enlarging the identified contour is recommended.\n",
      "Presumably, the case will turn into changed color or length case\n"
     ]
    }
   ],
   "source": [
    "print('Visualize_finish!')\n",
    "print('The outcome is fascinating. The alteration of color, length, or even rotation individually does not seem to significantly impact it. However, the complexity of the dataset plays a crucial role.')\n",
    "print('One way to increasing ACC stategy intuitively is to append more training data.')\n",
    "print('The second strategy involves incorporating pre-processing techniques tailored to address corner cases commonly encountered in situations involving excessively small shapes')\n",
    "print('Utilizing the contour tracing technique and subsequently enlarging the identified contour is recommended.')\n",
    "print('Presumably, the case will turn into changed color or length case')\n"
   ]
  }
 ],
 "metadata": {
  "kernelspec": {
   "display_name": "base",
   "language": "python",
   "name": "python3"
  },
  "language_info": {
   "codemirror_mode": {
    "name": "ipython",
    "version": 3
   },
   "file_extension": ".py",
   "mimetype": "text/x-python",
   "name": "python",
   "nbconvert_exporter": "python",
   "pygments_lexer": "ipython3",
   "version": "3.12.3"
  }
 },
 "nbformat": 4,
 "nbformat_minor": 2
}
